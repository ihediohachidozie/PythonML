{
 "cells": [
  {
   "cell_type": "code",
   "execution_count": 12,
   "id": "a5336407-c920-44d9-aa2c-ecf9e71c4350",
   "metadata": {
    "tags": []
   },
   "outputs": [],
   "source": [
    "from numpy import random\n",
    "import numpy as np\n",
    "import pandas as pd"
   ]
  },
  {
   "cell_type": "code",
   "execution_count": 116,
   "id": "50c7e4c9-9d81-456e-ae2b-bc2783a5ca76",
   "metadata": {
    "tags": []
   },
   "outputs": [
    {
     "data": {
      "text/plain": [
       "array([[47, 50, 34, 13, 73],\n",
       "       [20, 54, 86, 61, 96],\n",
       "       [62, 16, 50, 64, 46],\n",
       "       [74, 83, 18, 13, 70]])"
      ]
     },
     "execution_count": 116,
     "metadata": {},
     "output_type": "execute_result"
    }
   ],
   "source": [
    "# generate 2-D array with 3 rows, each containing 5 elements from 0 to 100\n",
    "arr1 = random.randint(100, size=(4,5))\n",
    "arr1"
   ]
  },
  {
   "cell_type": "code",
   "execution_count": 163,
   "id": "3341e171-0fdb-4223-add8-4b9d832a44dc",
   "metadata": {
    "tags": []
   },
   "outputs": [],
   "source": [
    "headers = ['English', 'Math', 'Science', 'Lang', 'PE']\n",
    "names = ['Obi', 'Noel', 'Noah', 'Ethan']\n",
    "data = arr1\n",
    "df = pd.DataFrame(data, index=names)\n",
    "df.columns = headers"
   ]
  },
  {
   "cell_type": "code",
   "execution_count": 110,
   "id": "3ac49bd8-3697-413f-bd82-5750c240ae4b",
   "metadata": {
    "tags": []
   },
   "outputs": [],
   "source": [
    "# Another way to achieve same result\n",
    "# df = pd.DataFrame(data, columns=headers)\n",
    "# df['Names'] = names\n"
   ]
  },
  {
   "cell_type": "code",
   "execution_count": 164,
   "id": "116807a4-9cbf-441a-a165-1246f26587f2",
   "metadata": {
    "tags": []
   },
   "outputs": [],
   "source": [
    "df['Total'] = df.apply(get_total, axis=1)"
   ]
  },
  {
   "cell_type": "code",
   "execution_count": 165,
   "id": "84e493f5-0be0-451f-8518-05ae25916f81",
   "metadata": {
    "tags": []
   },
   "outputs": [],
   "source": [
    "df['Avg'] = df.apply(get_avg, axis=1)"
   ]
  },
  {
   "cell_type": "code",
   "execution_count": 149,
   "id": "365a68c6-b819-47e1-a9e9-eec513d08400",
   "metadata": {
    "tags": []
   },
   "outputs": [],
   "source": [
    "def get_total(df):\n",
    "    return df['English'] + df['Math'] + df['Science'] + df['Lang'] + df['PE']"
   ]
  },
  {
   "cell_type": "code",
   "execution_count": 162,
   "id": "73c372bb-42a1-4df6-ae50-6695d29511aa",
   "metadata": {
    "tags": []
   },
   "outputs": [],
   "source": [
    "def get_avg(df):\n",
    "    #return round(((df['English'] + df['Math'] + df['Science'] + df['Lang'] + df['PE'])/(df.shape[0] + 1)),2)\n",
    "    return round(df['Total']/(data.shape[0] + 1), 2)"
   ]
  },
  {
   "cell_type": "code",
   "execution_count": 166,
   "id": "1bf47034-63b1-4a02-88cd-7cd1e11334d5",
   "metadata": {},
   "outputs": [
    {
     "data": {
      "text/html": [
       "<div>\n",
       "<style scoped>\n",
       "    .dataframe tbody tr th:only-of-type {\n",
       "        vertical-align: middle;\n",
       "    }\n",
       "\n",
       "    .dataframe tbody tr th {\n",
       "        vertical-align: top;\n",
       "    }\n",
       "\n",
       "    .dataframe thead th {\n",
       "        text-align: right;\n",
       "    }\n",
       "</style>\n",
       "<table border=\"1\" class=\"dataframe\">\n",
       "  <thead>\n",
       "    <tr style=\"text-align: right;\">\n",
       "      <th></th>\n",
       "      <th>English</th>\n",
       "      <th>Math</th>\n",
       "      <th>Science</th>\n",
       "      <th>Lang</th>\n",
       "      <th>PE</th>\n",
       "      <th>Total</th>\n",
       "      <th>Avg</th>\n",
       "    </tr>\n",
       "  </thead>\n",
       "  <tbody>\n",
       "    <tr>\n",
       "      <th>Obi</th>\n",
       "      <td>47</td>\n",
       "      <td>50</td>\n",
       "      <td>34</td>\n",
       "      <td>13</td>\n",
       "      <td>73</td>\n",
       "      <td>217</td>\n",
       "      <td>43.4</td>\n",
       "    </tr>\n",
       "    <tr>\n",
       "      <th>Noel</th>\n",
       "      <td>20</td>\n",
       "      <td>54</td>\n",
       "      <td>86</td>\n",
       "      <td>61</td>\n",
       "      <td>96</td>\n",
       "      <td>317</td>\n",
       "      <td>63.4</td>\n",
       "    </tr>\n",
       "    <tr>\n",
       "      <th>Noah</th>\n",
       "      <td>62</td>\n",
       "      <td>16</td>\n",
       "      <td>50</td>\n",
       "      <td>64</td>\n",
       "      <td>46</td>\n",
       "      <td>238</td>\n",
       "      <td>47.6</td>\n",
       "    </tr>\n",
       "    <tr>\n",
       "      <th>Ethan</th>\n",
       "      <td>74</td>\n",
       "      <td>83</td>\n",
       "      <td>18</td>\n",
       "      <td>13</td>\n",
       "      <td>70</td>\n",
       "      <td>258</td>\n",
       "      <td>51.6</td>\n",
       "    </tr>\n",
       "  </tbody>\n",
       "</table>\n",
       "</div>"
      ],
      "text/plain": [
       "       English  Math  Science  Lang  PE  Total   Avg\n",
       "Obi         47    50       34    13  73    217  43.4\n",
       "Noel        20    54       86    61  96    317  63.4\n",
       "Noah        62    16       50    64  46    238  47.6\n",
       "Ethan       74    83       18    13  70    258  51.6"
      ]
     },
     "execution_count": 166,
     "metadata": {},
     "output_type": "execute_result"
    }
   ],
   "source": [
    "df"
   ]
  },
  {
   "cell_type": "code",
   "execution_count": null,
   "id": "3624a269-5671-4cea-87be-da89acc3d99c",
   "metadata": {},
   "outputs": [],
   "source": []
  }
 ],
 "metadata": {
  "kernelspec": {
   "display_name": "Python 3 (ipykernel)",
   "language": "python",
   "name": "python3"
  },
  "language_info": {
   "codemirror_mode": {
    "name": "ipython",
    "version": 3
   },
   "file_extension": ".py",
   "mimetype": "text/x-python",
   "name": "python",
   "nbconvert_exporter": "python",
   "pygments_lexer": "ipython3",
   "version": "3.11.5"
  }
 },
 "nbformat": 4,
 "nbformat_minor": 5
}
