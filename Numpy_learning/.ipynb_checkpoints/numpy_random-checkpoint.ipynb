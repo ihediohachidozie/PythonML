{
 "cells": [
  {
   "cell_type": "code",
   "execution_count": 12,
   "id": "a5336407-c920-44d9-aa2c-ecf9e71c4350",
   "metadata": {
    "tags": []
   },
   "outputs": [],
   "source": [
    "from numpy import random\n",
    "import numpy as np"
   ]
  },
  {
   "cell_type": "code",
   "execution_count": 7,
   "id": "cfecf3c8-b9b4-49aa-bd8b-6ce35df735ed",
   "metadata": {
    "tags": []
   },
   "outputs": [],
   "source": [
    "# to generate a random integers from 0 to 100\n",
    "x = random.randint(100)"
   ]
  },
  {
   "cell_type": "code",
   "execution_count": 6,
   "id": "615d9681-9052-4af9-801d-cf3b09e64f97",
   "metadata": {
    "tags": []
   },
   "outputs": [],
   "source": [
    "# to generate a random float from 0 to 1\n",
    "x = random.rand()"
   ]
  },
  {
   "cell_type": "code",
   "execution_count": 8,
   "id": "b319418e-ef5c-4078-9737-859f3b5d0b93",
   "metadata": {
    "tags": []
   },
   "outputs": [],
   "source": [
    "# generate 1-D array containing 5 elements from 0 to 100\n",
    "arr = random.randint(100, size=5)"
   ]
  },
  {
   "cell_type": "code",
   "execution_count": 34,
   "id": "50c7e4c9-9d81-456e-ae2b-bc2783a5ca76",
   "metadata": {
    "tags": []
   },
   "outputs": [
    {
     "data": {
      "text/plain": [
       "array([[ 6, 93,  2, 74, 94],\n",
       "       [72, 37, 89, 61, 17],\n",
       "       [22, 18, 71, 40, 88],\n",
       "       [60, 18, 43, 32, 31]])"
      ]
     },
     "execution_count": 34,
     "metadata": {},
     "output_type": "execute_result"
    }
   ],
   "source": [
    "# generate 2-D array with 3 rows, each containing 5 elements from 0 to 100\n",
    "arr1 = random.randint(100, size=(4,5))\n",
    "arr1"
   ]
  },
  {
   "cell_type": "code",
   "execution_count": null,
   "id": "1bf47034-63b1-4a02-88cd-7cd1e11334d5",
   "metadata": {},
   "outputs": [],
   "source": []
  }
 ],
 "metadata": {
  "kernelspec": {
   "display_name": "Python 3 (ipykernel)",
   "language": "python",
   "name": "python3"
  },
  "language_info": {
   "codemirror_mode": {
    "name": "ipython",
    "version": 3
   },
   "file_extension": ".py",
   "mimetype": "text/x-python",
   "name": "python",
   "nbconvert_exporter": "python",
   "pygments_lexer": "ipython3",
   "version": "3.11.5"
  }
 },
 "nbformat": 4,
 "nbformat_minor": 5
}
