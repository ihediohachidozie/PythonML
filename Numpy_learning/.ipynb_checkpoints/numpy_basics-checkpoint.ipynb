{
 "cells": [
  {
   "cell_type": "code",
   "execution_count": 40,
   "id": "85f779c5-0af9-45d9-a0fb-7e88416c37d2",
   "metadata": {
    "tags": []
   },
   "outputs": [],
   "source": [
    "import numpy as np\n",
    "import pandas as pd"
   ]
  },
  {
   "cell_type": "code",
   "execution_count": 153,
   "id": "33e71dc2-c925-4581-8070-f77b4c6e2a7e",
   "metadata": {
    "tags": []
   },
   "outputs": [],
   "source": [
    "w = np.array([1,2,3,4,5,6,7,8,9,10,11,12])\n",
    "z = w.copy()"
   ]
  },
  {
   "cell_type": "code",
   "execution_count": 157,
   "id": "24eec315-8062-4140-8be9-76ff4f53cc4e",
   "metadata": {
    "tags": []
   },
   "outputs": [
    {
     "name": "stdout",
     "output_type": "stream",
     "text": [
      "[[ 1  2  3]\n",
      " [ 4  5  6]\n",
      " [ 7  8  9]\n",
      " [10 11 12]]\n",
      "\n",
      "[[[ 1  2]\n",
      "  [ 3  4]\n",
      "  [ 5  6]]\n",
      "\n",
      " [[ 7  8]\n",
      "  [ 9 10]\n",
      "  [11 12]]]\n"
     ]
    }
   ],
   "source": [
    "x = w.reshape(4,3)\n",
    "y = w.reshape(2,3,2)\n",
    "print(x)\n",
    "print()\n",
    "print(y)"
   ]
  },
  {
   "cell_type": "code",
   "execution_count": 162,
   "id": "8bf923c5-48cf-4181-a1df-082e4460cb09",
   "metadata": {
    "tags": []
   },
   "outputs": [
    {
     "data": {
      "text/plain": [
       "array([[[1, 2],\n",
       "        [3, 4]],\n",
       "\n",
       "       [[5, 6],\n",
       "        [7, 8]]])"
      ]
     },
     "execution_count": 162,
     "metadata": {},
     "output_type": "execute_result"
    }
   ],
   "source": [
    "arr = np.array([1,2,3,4,5,6,7,8])\n",
    "x = arr.reshape(2,4)\n",
    "arr.reshape(2,2,-1)"
   ]
  },
  {
   "cell_type": "code",
   "execution_count": 144,
   "id": "e904f168-2276-45cd-bd4c-30b80d7bcfbd",
   "metadata": {
    "tags": []
   },
   "outputs": [
    {
     "name": "stdout",
     "output_type": "stream",
     "text": [
      "None\n",
      "[42  2  3  4  5  6  7]\n"
     ]
    }
   ],
   "source": [
    "print(x.base)\n",
    "print(y.base)"
   ]
  },
  {
   "cell_type": "code",
   "execution_count": 164,
   "id": "cade9812-ea80-4962-8c8d-332930dff0e2",
   "metadata": {
    "tags": []
   },
   "outputs": [
    {
     "data": {
      "text/plain": [
       "array([ 1,  2,  3,  4,  5,  6,  7,  8,  9, 10])"
      ]
     },
     "execution_count": 164,
     "metadata": {},
     "output_type": "execute_result"
    }
   ],
   "source": [
    "x = np.array([[1,2,3,4,5],[6,7,8,9,10]])\n",
    "x.reshape(-1)"
   ]
  },
  {
   "cell_type": "code",
   "execution_count": 134,
   "id": "af1e93c2-7c73-432f-b4da-2ba5a1559ca2",
   "metadata": {
    "tags": []
   },
   "outputs": [
    {
     "data": {
      "text/plain": [
       "dtype('<U6')"
      ]
     },
     "execution_count": 134,
     "metadata": {},
     "output_type": "execute_result"
    }
   ],
   "source": [
    "arr = np.array(['apple', 'banana', 'cherry'])\n",
    "arr.dtype"
   ]
  },
  {
   "cell_type": "code",
   "execution_count": 129,
   "id": "4969b8fb-5ace-4652-98be-46306d011189",
   "metadata": {
    "tags": []
   },
   "outputs": [
    {
     "data": {
      "text/plain": [
       "array([20, 25, 30])"
      ]
     },
     "execution_count": 129,
     "metadata": {},
     "output_type": "execute_result"
    }
   ],
   "source": [
    "arr = np.array([10, 15, 20, 25, 30, 35, 40])\n",
    "arr[2:5]"
   ]
  },
  {
   "cell_type": "code",
   "execution_count": 72,
   "id": "d74bc373-5904-474d-8ea7-d47e1618fef0",
   "metadata": {
    "tags": []
   },
   "outputs": [],
   "source": [
    "y = np.array([[[1,2,3],[4,5,6]], [[7,8,9],[10,11,12]]])"
   ]
  },
  {
   "cell_type": "code",
   "execution_count": 128,
   "id": "6da0ae97-22fd-4880-8093-ac90c711713a",
   "metadata": {
    "tags": []
   },
   "outputs": [
    {
     "data": {
      "text/plain": [
       "array([[[ 1,  2,  3],\n",
       "        [ 4,  5,  6]],\n",
       "\n",
       "       [[ 7,  8,  9],\n",
       "        [10, 11, 12]]])"
      ]
     },
     "execution_count": 128,
     "metadata": {},
     "output_type": "execute_result"
    }
   ],
   "source": [
    "y[0:2:,:2]"
   ]
  },
  {
   "cell_type": "code",
   "execution_count": 50,
   "id": "ca02be18-e2b2-47e6-b503-a24c58688aba",
   "metadata": {
    "tags": []
   },
   "outputs": [
    {
     "data": {
      "text/plain": [
       "0    1\n",
       "1    2\n",
       "2    3\n",
       "dtype: int32"
      ]
     },
     "execution_count": 50,
     "metadata": {},
     "output_type": "execute_result"
    }
   ],
   "source": [
    "pd.Series(x[0,:])"
   ]
  },
  {
   "cell_type": "code",
   "execution_count": 73,
   "id": "837fbafa-430f-47c7-a80e-68c333363a3a",
   "metadata": {
    "tags": []
   },
   "outputs": [],
   "source": [
    "df = pd.DataFrame({'arr1':y[0,0,:], 'arr2':y[0,1,:], 'arr3':y[1,0,:], 'arr4':y[1,1,:]})"
   ]
  },
  {
   "cell_type": "code",
   "execution_count": 93,
   "id": "434d2bf1-3a53-4b44-a9f1-dfe87c591c0e",
   "metadata": {
    "tags": []
   },
   "outputs": [
    {
     "data": {
      "text/html": [
       "<div>\n",
       "<style scoped>\n",
       "    .dataframe tbody tr th:only-of-type {\n",
       "        vertical-align: middle;\n",
       "    }\n",
       "\n",
       "    .dataframe tbody tr th {\n",
       "        vertical-align: top;\n",
       "    }\n",
       "\n",
       "    .dataframe thead th {\n",
       "        text-align: right;\n",
       "    }\n",
       "</style>\n",
       "<table border=\"1\" class=\"dataframe\">\n",
       "  <thead>\n",
       "    <tr style=\"text-align: right;\">\n",
       "      <th></th>\n",
       "      <th>arr1</th>\n",
       "      <th>arr2</th>\n",
       "      <th>arr3</th>\n",
       "      <th>arr4</th>\n",
       "    </tr>\n",
       "  </thead>\n",
       "  <tbody>\n",
       "    <tr>\n",
       "      <th>0</th>\n",
       "      <td>1</td>\n",
       "      <td>4</td>\n",
       "      <td>7</td>\n",
       "      <td>10</td>\n",
       "    </tr>\n",
       "    <tr>\n",
       "      <th>1</th>\n",
       "      <td>2</td>\n",
       "      <td>5</td>\n",
       "      <td>8</td>\n",
       "      <td>11</td>\n",
       "    </tr>\n",
       "  </tbody>\n",
       "</table>\n",
       "</div>"
      ],
      "text/plain": [
       "   arr1  arr2  arr3  arr4\n",
       "0     1     4     7    10\n",
       "1     2     5     8    11"
      ]
     },
     "execution_count": 93,
     "metadata": {},
     "output_type": "execute_result"
    }
   ],
   "source": [
    "df[0:2]"
   ]
  },
  {
   "cell_type": "code",
   "execution_count": 179,
   "id": "d01f4d02-699a-445d-9784-f75f90ce2977",
   "metadata": {
    "tags": []
   },
   "outputs": [],
   "source": [
    "# 1-D array\n",
    "arr1D = np.array([1, 2, 3])\n",
    "# 2-D array\n",
    "arr2D = np.array([[1,2,3],[4,5,6]])\n",
    "# 3-D array\n",
    "arr3D = np.array([[[1,2,3],[4,5,6]],[[7,8,9],[10,11,12]]])"
   ]
  },
  {
   "cell_type": "code",
   "execution_count": 186,
   "id": "abbe644b-172b-48b6-b1af-107a53a9fa69",
   "metadata": {
    "tags": []
   },
   "outputs": [
    {
     "name": "stdout",
     "output_type": "stream",
     "text": [
      "b'1'\n",
      "b'2'\n",
      "b'3'\n",
      "b'4'\n",
      "b'5'\n",
      "b'6'\n",
      "b'7'\n",
      "b'8'\n",
      "b'9'\n",
      "b'10'\n",
      "b'11'\n",
      "b'12'\n"
     ]
    }
   ],
   "source": [
    "for x in np.nditer(arr3D, flags=['buffered'], op_dtypes=['S']):\n",
    "    print(x)"
   ]
  },
  {
   "cell_type": "code",
   "execution_count": 198,
   "id": "adfd9042-bcbc-4111-acee-e45cbbb80f66",
   "metadata": {
    "tags": []
   },
   "outputs": [],
   "source": [
    "arr1 = np.array([[[1, 2, 3, 4], [5, 6, 7, 8]],[[9,10,11,12],[13,14,15,16]]])\n",
    "\n",
    "for x in np.nditer(arr):\n",
    "    pass\n",
    "    #print(x)"
   ]
  },
  {
   "cell_type": "code",
   "execution_count": 196,
   "id": "58ab9620-e610-4bd9-a9e3-9bac7a371d40",
   "metadata": {
    "tags": []
   },
   "outputs": [],
   "source": [
    "arr = np.array([1,2,3,4,5])"
   ]
  },
  {
   "cell_type": "code",
   "execution_count": 200,
   "id": "3e8a1948-46be-4c50-a04a-bb443dc2ceef",
   "metadata": {
    "tags": []
   },
   "outputs": [],
   "source": [
    "for idx, x in np.ndenumerate(arr1):\n",
    "    pass\n",
    "    #print(idx, x)"
   ]
  },
  {
   "cell_type": "code",
   "execution_count": 205,
   "id": "c51e09f5-2603-4501-a160-c1b471be2d53",
   "metadata": {
    "tags": []
   },
   "outputs": [
    {
     "data": {
      "text/plain": [
       "array([1, 2, 3, 4, 5, 6])"
      ]
     },
     "execution_count": 205,
     "metadata": {},
     "output_type": "execute_result"
    }
   ],
   "source": [
    "arr1 = np.array([1,2,3])\n",
    "arr2 = np.array([4,5,6])\n",
    "arr = np.concatenate((arr1, arr2))\n",
    "arr"
   ]
  },
  {
   "cell_type": "code",
   "execution_count": 206,
   "id": "b74c0ba7-9e3d-40b3-9497-ce360c194159",
   "metadata": {
    "tags": []
   },
   "outputs": [],
   "source": [
    "arr1 = np.array([[1,2],[3,4]])\n",
    "arr2 = np.array([[5,6],[7,8]])"
   ]
  },
  {
   "cell_type": "code",
   "execution_count": 210,
   "id": "01219ebc-656b-45ed-8a6e-7396256d8513",
   "metadata": {
    "tags": []
   },
   "outputs": [
    {
     "data": {
      "text/plain": [
       "array([[1, 2, 5, 6],\n",
       "       [3, 4, 7, 8]])"
      ]
     },
     "execution_count": 210,
     "metadata": {},
     "output_type": "execute_result"
    }
   ],
   "source": [
    "np.concatenate((arr1,arr2), axis=1)"
   ]
  },
  {
   "cell_type": "code",
   "execution_count": 240,
   "id": "c0f50976-0184-45ee-80dd-7e1ce41f0ab0",
   "metadata": {
    "tags": []
   },
   "outputs": [
    {
     "name": "stdout",
     "output_type": "stream",
     "text": [
      "[1 2 3 4 5 6 7 8]\n"
     ]
    },
    {
     "data": {
      "text/plain": [
       "array([[[1, 5],\n",
       "        [2, 6],\n",
       "        [3, 7],\n",
       "        [4, 8]]])"
      ]
     },
     "execution_count": 240,
     "metadata": {},
     "output_type": "execute_result"
    }
   ],
   "source": [
    "arr1 = np.array([1,2,3,4])\n",
    "arr2 = np.array([5,6,7,8])\n",
    "print(np.hstack((arr1, arr2)))\n",
    "np.dstack((arr1,arr2))\n"
   ]
  },
  {
   "cell_type": "code",
   "execution_count": 243,
   "id": "5db88e1e-51ff-4dd8-a5d0-1014155d2802",
   "metadata": {
    "tags": []
   },
   "outputs": [],
   "source": [
    "arr = np.array([1, 2, 3, 4, 5, 4, 4])"
   ]
  },
  {
   "cell_type": "code",
   "execution_count": 246,
   "id": "f1b611ec-4997-416f-b703-0560349f6884",
   "metadata": {
    "tags": []
   },
   "outputs": [
    {
     "data": {
      "text/plain": [
       "(array([3, 5, 6], dtype=int64),)"
      ]
     },
     "execution_count": 246,
     "metadata": {},
     "output_type": "execute_result"
    }
   ],
   "source": [
    "np.where(arr==4) # indexes of 4 in the array"
   ]
  },
  {
   "cell_type": "code",
   "execution_count": 248,
   "id": "ddb7b43b-dedf-4c0b-becf-08df3843baf5",
   "metadata": {
    "tags": []
   },
   "outputs": [
    {
     "data": {
      "text/plain": [
       "(array([1, 3, 5, 6], dtype=int64),)"
      ]
     },
     "execution_count": 248,
     "metadata": {},
     "output_type": "execute_result"
    }
   ],
   "source": [
    "np.where(arr%2==0) # indexes of even numbers in the array"
   ]
  },
  {
   "cell_type": "code",
   "execution_count": 249,
   "id": "3b292bc6-249a-4036-9bac-6871743ae20d",
   "metadata": {
    "tags": []
   },
   "outputs": [
    {
     "data": {
      "text/plain": [
       "(array([0, 2, 4], dtype=int64),)"
      ]
     },
     "execution_count": 249,
     "metadata": {},
     "output_type": "execute_result"
    }
   ],
   "source": [
    "np.where(arr%2==1) # indexes of odd numbers in the array"
   ]
  },
  {
   "cell_type": "code",
   "execution_count": 251,
   "id": "309f1f90-995f-4feb-bad3-ff30863ce3e3",
   "metadata": {
    "tags": []
   },
   "outputs": [
    {
     "data": {
      "text/plain": [
       "1"
      ]
     },
     "execution_count": 251,
     "metadata": {},
     "output_type": "execute_result"
    }
   ],
   "source": [
    "arr = np.array([6,7,8,9])\n",
    "np.searchsorted(arr,7)"
   ]
  },
  {
   "cell_type": "code",
   "execution_count": 252,
   "id": "65056a30-e5b6-463c-81ff-d4764c19e441",
   "metadata": {
    "tags": []
   },
   "outputs": [
    {
     "data": {
      "text/plain": [
       "2"
      ]
     },
     "execution_count": 252,
     "metadata": {},
     "output_type": "execute_result"
    }
   ],
   "source": [
    "arr.searchsorted(7, side='right')"
   ]
  },
  {
   "cell_type": "code",
   "execution_count": 253,
   "id": "2d9048ef-94c1-4e23-af1d-e4a3b1c80f56",
   "metadata": {
    "tags": []
   },
   "outputs": [
    {
     "data": {
      "text/plain": [
       "array([1, 2, 3], dtype=int64)"
      ]
     },
     "execution_count": 253,
     "metadata": {},
     "output_type": "execute_result"
    }
   ],
   "source": [
    "arr = np.array([1,3,5,7])\n",
    "arr.searchsorted([2,4,6])"
   ]
  },
  {
   "cell_type": "code",
   "execution_count": 255,
   "id": "23901434-de51-4d39-bc7d-cf08a106c5b8",
   "metadata": {
    "tags": []
   },
   "outputs": [
    {
     "name": "stdout",
     "output_type": "stream",
     "text": [
      "[[2 3 4]\n",
      " [0 1 5]]\n"
     ]
    }
   ],
   "source": [
    "arr = np.array([3, 2, 0, 1])\n",
    "arr1 = np.array([[3, 2, 4], [5, 0, 1]])\n",
    "\n",
    "print(np.sort(arr1))"
   ]
  },
  {
   "cell_type": "code",
   "execution_count": 258,
   "id": "37741371-dfb3-4c99-b9a8-d50f7625c729",
   "metadata": {
    "tags": []
   },
   "outputs": [
    {
     "data": {
      "text/plain": [
       "array([41, 42, 43, 44])"
      ]
     },
     "execution_count": 258,
     "metadata": {},
     "output_type": "execute_result"
    }
   ],
   "source": [
    "arr = np.array([41, 42, 43, 44])\n",
    "\n",
    "x = [True, False, True, False]\n",
    "\n",
    "newarr = arr[x]\n",
    "arr"
   ]
  },
  {
   "cell_type": "code",
   "execution_count": 276,
   "id": "727cd3e5-62af-4dbb-87a3-b5324131f7ff",
   "metadata": {
    "tags": []
   },
   "outputs": [
    {
     "data": {
      "text/plain": [
       "array([43, 44])"
      ]
     },
     "execution_count": 276,
     "metadata": {},
     "output_type": "execute_result"
    }
   ],
   "source": [
    "# [x if x != \"banana\" else \"orange\" for x in fruits]\n",
    "arr = np.array([41, 42, 43, 44])\n",
    "#filter = []\n",
    "#[filter.append(True) if e > 42 else filter.append(False) for e in arr]\n",
    "#[filter.append(True) if e > 42 else filter.append(False) for e in arr]\n",
    "\n",
    "filter = arr > 42\n",
    "arr[filter]\n"
   ]
  },
  {
   "cell_type": "code",
   "execution_count": 273,
   "id": "060dff39-1542-4ea5-aedc-b3e1c1c792e4",
   "metadata": {
    "tags": []
   },
   "outputs": [
    {
     "name": "stdout",
     "output_type": "stream",
     "text": [
      "[False, True, False, True, False, True, False]\n"
     ]
    },
    {
     "data": {
      "text/plain": [
       "array([2, 4, 6])"
      ]
     },
     "execution_count": 273,
     "metadata": {},
     "output_type": "execute_result"
    }
   ],
   "source": [
    "arr = np.array([1, 2, 3, 4, 5, 6, 7])\n",
    "filter = []\n",
    "[filter.append(True) if e%2 == 0 else filter.append(False) for e in arr]\n",
    "print(filter)\n",
    "arr[filter]\n"
   ]
  },
  {
   "cell_type": "code",
   "execution_count": 275,
   "id": "6eae53fd-6d20-4d63-b211-aacc9bf8322c",
   "metadata": {
    "tags": []
   },
   "outputs": [
    {
     "data": {
      "text/plain": [
       "array([2, 4, 6])"
      ]
     },
     "execution_count": 275,
     "metadata": {},
     "output_type": "execute_result"
    }
   ],
   "source": [
    "filtere = (arr % 2 == 0)\n",
    "arr[filtere]"
   ]
  },
  {
   "cell_type": "code",
   "execution_count": null,
   "id": "1c548866-df2b-46a5-af39-5ad1ef58c7eb",
   "metadata": {},
   "outputs": [],
   "source": []
  }
 ],
 "metadata": {
  "kernelspec": {
   "display_name": "Python 3 (ipykernel)",
   "language": "python",
   "name": "python3"
  },
  "language_info": {
   "codemirror_mode": {
    "name": "ipython",
    "version": 3
   },
   "file_extension": ".py",
   "mimetype": "text/x-python",
   "name": "python",
   "nbconvert_exporter": "python",
   "pygments_lexer": "ipython3",
   "version": "3.11.5"
  }
 },
 "nbformat": 4,
 "nbformat_minor": 5
}
