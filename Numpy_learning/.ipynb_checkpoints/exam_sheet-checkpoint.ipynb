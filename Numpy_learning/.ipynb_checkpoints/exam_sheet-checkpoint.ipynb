{
 "cells": [
  {
   "cell_type": "code",
   "execution_count": 12,
   "id": "a5336407-c920-44d9-aa2c-ecf9e71c4350",
   "metadata": {
    "tags": []
   },
   "outputs": [],
   "source": [
    "from numpy import random\n",
    "import numpy as np\n",
    "import pandas as pd"
   ]
  },
  {
   "cell_type": "code",
   "execution_count": 34,
   "id": "50c7e4c9-9d81-456e-ae2b-bc2783a5ca76",
   "metadata": {
    "tags": []
   },
   "outputs": [
    {
     "data": {
      "text/plain": [
       "array([[ 6, 93,  2, 74, 94],\n",
       "       [72, 37, 89, 61, 17],\n",
       "       [22, 18, 71, 40, 88],\n",
       "       [60, 18, 43, 32, 31]])"
      ]
     },
     "execution_count": 34,
     "metadata": {},
     "output_type": "execute_result"
    }
   ],
   "source": [
    "# generate 2-D array with 3 rows, each containing 5 elements from 0 to 100\n",
    "arr1 = random.randint(100, size=(4,5))\n",
    "arr1"
   ]
  },
  {
   "cell_type": "code",
   "execution_count": 102,
   "id": "3341e171-0fdb-4223-add8-4b9d832a44dc",
   "metadata": {
    "tags": []
   },
   "outputs": [],
   "source": [
    "headers = ['English', 'Math', 'Science', 'Lang', 'PE']\n",
    "names = ['Obi', 'Noel', 'Noah', 'Ethan']\n",
    "data = arr1\n",
    "df = pd.DataFrame(data, index=names)\n",
    "df.columns = headers"
   ]
  },
  {
   "cell_type": "code",
   "execution_count": 103,
   "id": "3ac49bd8-3697-413f-bd82-5750c240ae4b",
   "metadata": {
    "tags": []
   },
   "outputs": [
    {
     "data": {
      "text/html": [
       "<div>\n",
       "<style scoped>\n",
       "    .dataframe tbody tr th:only-of-type {\n",
       "        vertical-align: middle;\n",
       "    }\n",
       "\n",
       "    .dataframe tbody tr th {\n",
       "        vertical-align: top;\n",
       "    }\n",
       "\n",
       "    .dataframe thead th {\n",
       "        text-align: right;\n",
       "    }\n",
       "</style>\n",
       "<table border=\"1\" class=\"dataframe\">\n",
       "  <thead>\n",
       "    <tr style=\"text-align: right;\">\n",
       "      <th></th>\n",
       "      <th>English</th>\n",
       "      <th>Math</th>\n",
       "      <th>Science</th>\n",
       "      <th>Lang</th>\n",
       "      <th>PE</th>\n",
       "    </tr>\n",
       "  </thead>\n",
       "  <tbody>\n",
       "    <tr>\n",
       "      <th>Obi</th>\n",
       "      <td>6</td>\n",
       "      <td>93</td>\n",
       "      <td>2</td>\n",
       "      <td>74</td>\n",
       "      <td>94</td>\n",
       "    </tr>\n",
       "    <tr>\n",
       "      <th>Noel</th>\n",
       "      <td>72</td>\n",
       "      <td>37</td>\n",
       "      <td>89</td>\n",
       "      <td>61</td>\n",
       "      <td>17</td>\n",
       "    </tr>\n",
       "    <tr>\n",
       "      <th>Noah</th>\n",
       "      <td>22</td>\n",
       "      <td>18</td>\n",
       "      <td>71</td>\n",
       "      <td>40</td>\n",
       "      <td>88</td>\n",
       "    </tr>\n",
       "    <tr>\n",
       "      <th>Ethan</th>\n",
       "      <td>60</td>\n",
       "      <td>18</td>\n",
       "      <td>43</td>\n",
       "      <td>32</td>\n",
       "      <td>31</td>\n",
       "    </tr>\n",
       "  </tbody>\n",
       "</table>\n",
       "</div>"
      ],
      "text/plain": [
       "       English  Math  Science  Lang  PE\n",
       "Obi          6    93        2    74  94\n",
       "Noel        72    37       89    61  17\n",
       "Noah        22    18       71    40  88\n",
       "Ethan       60    18       43    32  31"
      ]
     },
     "execution_count": 103,
     "metadata": {},
     "output_type": "execute_result"
    }
   ],
   "source": [
    "df"
   ]
  },
  {
   "cell_type": "code",
   "execution_count": 106,
   "id": "116807a4-9cbf-441a-a165-1246f26587f2",
   "metadata": {
    "tags": []
   },
   "outputs": [],
   "source": [
    "df['Total'] = df.apply(get_total, axis=1)"
   ]
  },
  {
   "cell_type": "code",
   "execution_count": 107,
   "id": "84e493f5-0be0-451f-8518-05ae25916f81",
   "metadata": {
    "tags": []
   },
   "outputs": [],
   "source": [
    "df['Avg'] = df.apply(get_avg, axis=1)"
   ]
  },
  {
   "cell_type": "code",
   "execution_count": 104,
   "id": "365a68c6-b819-47e1-a9e9-eec513d08400",
   "metadata": {
    "tags": []
   },
   "outputs": [],
   "source": [
    "def get_total(df):\n",
    "    return df['English'] + df['Math'] + df['Science'] + df['Lang'] + df['PE']"
   ]
  },
  {
   "cell_type": "code",
   "execution_count": 105,
   "id": "73c372bb-42a1-4df6-ae50-6695d29511aa",
   "metadata": {
    "tags": []
   },
   "outputs": [],
   "source": [
    "def get_avg(df):\n",
    "    return round(((df['English'] + df['Math'] + df['Science'] + df['Lang'] + df['PE'])/df.shape[0]),2)"
   ]
  },
  {
   "cell_type": "code",
   "execution_count": 108,
   "id": "59640061-e096-46ea-aea6-608324e9a791",
   "metadata": {
    "tags": []
   },
   "outputs": [
    {
     "data": {
      "text/html": [
       "<div>\n",
       "<style scoped>\n",
       "    .dataframe tbody tr th:only-of-type {\n",
       "        vertical-align: middle;\n",
       "    }\n",
       "\n",
       "    .dataframe tbody tr th {\n",
       "        vertical-align: top;\n",
       "    }\n",
       "\n",
       "    .dataframe thead th {\n",
       "        text-align: right;\n",
       "    }\n",
       "</style>\n",
       "<table border=\"1\" class=\"dataframe\">\n",
       "  <thead>\n",
       "    <tr style=\"text-align: right;\">\n",
       "      <th></th>\n",
       "      <th>English</th>\n",
       "      <th>Math</th>\n",
       "      <th>Science</th>\n",
       "      <th>Lang</th>\n",
       "      <th>PE</th>\n",
       "      <th>Total</th>\n",
       "      <th>Avg</th>\n",
       "    </tr>\n",
       "  </thead>\n",
       "  <tbody>\n",
       "    <tr>\n",
       "      <th>Obi</th>\n",
       "      <td>6</td>\n",
       "      <td>93</td>\n",
       "      <td>2</td>\n",
       "      <td>74</td>\n",
       "      <td>94</td>\n",
       "      <td>269</td>\n",
       "      <td>44.83</td>\n",
       "    </tr>\n",
       "    <tr>\n",
       "      <th>Noel</th>\n",
       "      <td>72</td>\n",
       "      <td>37</td>\n",
       "      <td>89</td>\n",
       "      <td>61</td>\n",
       "      <td>17</td>\n",
       "      <td>276</td>\n",
       "      <td>46.00</td>\n",
       "    </tr>\n",
       "    <tr>\n",
       "      <th>Noah</th>\n",
       "      <td>22</td>\n",
       "      <td>18</td>\n",
       "      <td>71</td>\n",
       "      <td>40</td>\n",
       "      <td>88</td>\n",
       "      <td>239</td>\n",
       "      <td>39.83</td>\n",
       "    </tr>\n",
       "    <tr>\n",
       "      <th>Ethan</th>\n",
       "      <td>60</td>\n",
       "      <td>18</td>\n",
       "      <td>43</td>\n",
       "      <td>32</td>\n",
       "      <td>31</td>\n",
       "      <td>184</td>\n",
       "      <td>30.67</td>\n",
       "    </tr>\n",
       "  </tbody>\n",
       "</table>\n",
       "</div>"
      ],
      "text/plain": [
       "       English  Math  Science  Lang  PE  Total    Avg\n",
       "Obi          6    93        2    74  94    269  44.83\n",
       "Noel        72    37       89    61  17    276  46.00\n",
       "Noah        22    18       71    40  88    239  39.83\n",
       "Ethan       60    18       43    32  31    184  30.67"
      ]
     },
     "execution_count": 108,
     "metadata": {},
     "output_type": "execute_result"
    }
   ],
   "source": [
    "df"
   ]
  },
  {
   "cell_type": "code",
   "execution_count": null,
   "id": "1bf47034-63b1-4a02-88cd-7cd1e11334d5",
   "metadata": {},
   "outputs": [],
   "source": []
  }
 ],
 "metadata": {
  "kernelspec": {
   "display_name": "Python 3 (ipykernel)",
   "language": "python",
   "name": "python3"
  },
  "language_info": {
   "codemirror_mode": {
    "name": "ipython",
    "version": 3
   },
   "file_extension": ".py",
   "mimetype": "text/x-python",
   "name": "python",
   "nbconvert_exporter": "python",
   "pygments_lexer": "ipython3",
   "version": "3.11.5"
  }
 },
 "nbformat": 4,
 "nbformat_minor": 5
}
