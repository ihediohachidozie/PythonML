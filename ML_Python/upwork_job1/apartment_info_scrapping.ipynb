{
 "cells": [
  {
   "cell_type": "code",
   "execution_count": 13,
   "id": "d1c0acc1-b346-430d-a4ff-9bc83e90c2ba",
   "metadata": {
    "tags": []
   },
   "outputs": [],
   "source": [
    "from selenium import webdriver\n",
    "from selenium.webdriver.common.by import By\n",
    "#from selenium.webdriver import Keys\n",
    "from selenium.webdriver.support.wait import WebDriverWait\n",
    "from selenium.webdriver.support import expected_conditions as EC\n",
    "from datetime import datetime\n",
    "import pytz\n",
    "from bs4 import BeautifulSoup\n",
    "import pandas as pd"
   ]
  },
  {
   "cell_type": "code",
   "execution_count": 14,
   "id": "a6c676e3-6313-4b8e-bce7-ca93bd5528c8",
   "metadata": {
    "tags": []
   },
   "outputs": [],
   "source": [
    "url = 'https://www.apartments.com/atlanta-ga'\n",
    "start = datetime.now(pytz.timezone('America/New_York')).strftime(\"%Y-%m-%d %I:%M %p %Z\")"
   ]
  },
  {
   "cell_type": "code",
   "execution_count": 18,
   "id": "48e796fd-6d8d-47b8-b351-39c29a1954d0",
   "metadata": {
    "tags": []
   },
   "outputs": [
    {
     "data": {
      "text/plain": [
       "'18'"
      ]
     },
     "execution_count": 18,
     "metadata": {},
     "output_type": "execute_result"
    }
   ],
   "source": [
    "driver = webdriver.Chrome()\n",
    "driver.implicitly_wait(10) # wait for 10 seconds\n",
    "driver.get(url)\n",
    "try:\n",
    "    wait = WebDriverWait(driver, 10)\n",
    "    element = wait.until(EC.presence_of_element_located((By.ID, \"paging\")))\n",
    "    pagination = driver.find_element(By.XPATH, \"/html/body/div[1]/main/section/div[1]/section[2]/div[2]/ul/li[41]/p/span\").text.split()[-1]\n",
    "    \n",
    "finally:\n",
    "    driver.quit()\n",
    "pagination"
   ]
  },
  {
   "cell_type": "code",
   "execution_count": 80,
   "id": "dce8c42b-05a6-451a-8a46-944c67b1d783",
   "metadata": {
    "tags": []
   },
   "outputs": [],
   "source": [
    "def get_pages(pagination, url):\n",
    "    for x in range(1, int(pagination)):\n",
    "        #link = '/' + str(x)\n",
    "        #url = url + link\n",
    "        driver = webdriver.Chrome()\n",
    "        #driver.implicitly_wait(10) # wait for 10 seconds\n",
    "        driver.get(url + '/' + str(x))\n",
    "        try:\n",
    "            wait = WebDriverWait(driver, 20)\n",
    "            element = wait.until(EC.presence_of_element_located((By.ID, \"placardContainer\")))\n",
    "            yield driver.page_source\n",
    "            #url.replace(link, '')\n",
    "        finally:\n",
    "            driver.quit()\n",
    "        \n",
    "        #\n",
    "        \n",
    "        #driver.close()"
   ]
  },
  {
   "cell_type": "code",
   "execution_count": 81,
   "id": "61311101-a8ff-43bd-959d-f5503017c91d",
   "metadata": {
    "tags": []
   },
   "outputs": [
    {
     "data": {
      "text/plain": [
       "17"
      ]
     },
     "execution_count": 81,
     "metadata": {},
     "output_type": "execute_result"
    }
   ],
   "source": [
    "# loop through the pages\n",
    "pages = []\n",
    "\n",
    "for page in get_pages(pagination, url):\n",
    "    pages.append(page)\n",
    "\n",
    "len(pages)"
   ]
  },
  {
   "cell_type": "code",
   "execution_count": 23,
   "id": "2774ccbb-0d80-482f-948b-92db55770b61",
   "metadata": {
    "tags": []
   },
   "outputs": [],
   "source": [
    "end = datetime.now(pytz.timezone('America/New_York')).strftime(\"%Y-%m-%d %I:%M %p %Z\")"
   ]
  },
  {
   "cell_type": "code",
   "execution_count": 333,
   "id": "aef74af0-d832-42ce-b5e2-9ccd90a9453e",
   "metadata": {
    "tags": []
   },
   "outputs": [
    {
     "data": {
      "text/plain": [
       "[<p class=\"property-title\" title=\"978 Myrtle St NE, Atlanta, GA\"><span class=\"js-placardTitle title\">978 Myrtle St NE</span></p>,\n",
       " <p class=\"property-address js-url\" title=\"Atlanta, GA 30309\">978 Myrtle St NE</p>,\n",
       " <p class=\"property-address js-url\" title=\"Atlanta, GA 30309\">Atlanta, GA 30309</p>,\n",
       " <p class=\"bed-price-range\">\n",
       " <span class=\"property-rents\">$1,500</span>\n",
       " <span class=\"property-beds\">1 Bed</span>\n",
       " </p>]"
      ]
     },
     "execution_count": 333,
     "metadata": {},
     "output_type": "execute_result"
    }
   ],
   "source": [
    "soup = BeautifulSoup(pages[14], 'html')\n",
    "placardContainer = soup.find('div', {'id': 'placardContainer'})\n",
    "mortarwrapper = placardContainer.find_all('li', {'class':'mortar-wrapper'})\n",
    "#mortarwrapper[0].find('button', {'class':'virtualTour'})['title']\n",
    "#mortarwrapper[0].find('button', {'class':'videoPlay'})['data-video']\n",
    "#mortarwrapper[0].find('div', {'class':\"placardCarouselImgCount\"}).find_all('span')[-1].text\n",
    "if mortarwrapper[1].find_all('a', {'class':\"property-link\"})[-2].span:\n",
    "    mortarwrapper[1].find_all('a', {'class':\"property-link\"})[-2].span.text\n",
    "else:\n",
    "    ...\n",
    "    #print(None)\n",
    "mortarwrapper[35].find_all('p')"
   ]
  },
  {
   "cell_type": "code",
   "execution_count": 338,
   "id": "ee3c66d6-4c77-4d06-b6c2-282e7249c489",
   "metadata": {
    "tags": []
   },
   "outputs": [
    {
     "ename": "AttributeError",
     "evalue": "'NoneType' object has no attribute 'text'",
     "output_type": "error",
     "traceback": [
      "\u001b[1;31m---------------------------------------------------------------------------\u001b[0m",
      "\u001b[1;31mAttributeError\u001b[0m                            Traceback (most recent call last)",
      "Cell \u001b[1;32mIn[338], line 6\u001b[0m\n\u001b[0;32m      4\u001b[0m placardContainer \u001b[38;5;241m=\u001b[39m soup\u001b[38;5;241m.\u001b[39mfind(\u001b[38;5;124m'\u001b[39m\u001b[38;5;124mdiv\u001b[39m\u001b[38;5;124m'\u001b[39m, {\u001b[38;5;124m'\u001b[39m\u001b[38;5;124mid\u001b[39m\u001b[38;5;124m'\u001b[39m: \u001b[38;5;124m'\u001b[39m\u001b[38;5;124mplacardContainer\u001b[39m\u001b[38;5;124m'\u001b[39m})\n\u001b[0;32m      5\u001b[0m mortarWrapper \u001b[38;5;241m=\u001b[39m placardContainer\u001b[38;5;241m.\u001b[39mfind_all(\u001b[38;5;124m'\u001b[39m\u001b[38;5;124mli\u001b[39m\u001b[38;5;124m'\u001b[39m, {\u001b[38;5;124m'\u001b[39m\u001b[38;5;124mclass\u001b[39m\u001b[38;5;124m'\u001b[39m:\u001b[38;5;124m'\u001b[39m\u001b[38;5;124mmortar-wrapper\u001b[39m\u001b[38;5;124m'\u001b[39m})\n\u001b[1;32m----> 6\u001b[0m \u001b[38;5;28;01mfor\u001b[39;00m item \u001b[38;5;129;01min\u001b[39;00m get_listing(mortarWrapper):\n\u001b[0;32m      7\u001b[0m     master_list\u001b[38;5;241m.\u001b[39mappend(item)\n",
      "Cell \u001b[1;32mIn[337], line 13\u001b[0m, in \u001b[0;36mget_listing\u001b[1;34m(page)\u001b[0m\n\u001b[0;32m      9\u001b[0m     row[\u001b[38;5;124m'\u001b[39m\u001b[38;5;124mLISTING_NAME\u001b[39m\u001b[38;5;124m'\u001b[39m] \u001b[38;5;241m=\u001b[39m data\u001b[38;5;241m.\u001b[39mfind(\u001b[38;5;124m'\u001b[39m\u001b[38;5;124ma\u001b[39m\u001b[38;5;124m'\u001b[39m, {\u001b[38;5;124m'\u001b[39m\u001b[38;5;124mclass\u001b[39m\u001b[38;5;124m'\u001b[39m:\u001b[38;5;124m'\u001b[39m\u001b[38;5;124mproperty-link\u001b[39m\u001b[38;5;124m'\u001b[39m})[\u001b[38;5;124m'\u001b[39m\u001b[38;5;124maria-label\u001b[39m\u001b[38;5;124m'\u001b[39m]\u001b[38;5;241m.\u001b[39msplit(\u001b[38;5;124m'\u001b[39m\u001b[38;5;124m,\u001b[39m\u001b[38;5;124m'\u001b[39m)[\u001b[38;5;241m0\u001b[39m]\n\u001b[0;32m     11\u001b[0m row[\u001b[38;5;124m'\u001b[39m\u001b[38;5;124mLISTING_LINK\u001b[39m\u001b[38;5;124m'\u001b[39m] \u001b[38;5;241m=\u001b[39m data\u001b[38;5;241m.\u001b[39mfind(\u001b[38;5;124m'\u001b[39m\u001b[38;5;124ma\u001b[39m\u001b[38;5;124m'\u001b[39m, {\u001b[38;5;124m'\u001b[39m\u001b[38;5;124mclass\u001b[39m\u001b[38;5;124m'\u001b[39m:\u001b[38;5;124m\"\u001b[39m\u001b[38;5;124mproperty-link\u001b[39m\u001b[38;5;124m\"\u001b[39m})[\u001b[38;5;124m'\u001b[39m\u001b[38;5;124mhref\u001b[39m\u001b[38;5;124m'\u001b[39m]\n\u001b[1;32m---> 13\u001b[0m meta \u001b[38;5;241m=\u001b[39m data\u001b[38;5;241m.\u001b[39mfind(\u001b[38;5;124m'\u001b[39m\u001b[38;5;124mp\u001b[39m\u001b[38;5;124m'\u001b[39m, {\u001b[38;5;124m'\u001b[39m\u001b[38;5;124mclass\u001b[39m\u001b[38;5;124m'\u001b[39m:\u001b[38;5;124m\"\u001b[39m\u001b[38;5;124mproperty-beds\u001b[39m\u001b[38;5;124m\"\u001b[39m})\u001b[38;5;241m.\u001b[39mtext\u001b[38;5;241m.\u001b[39msplit(\u001b[38;5;124m'\u001b[39m\u001b[38;5;124m - \u001b[39m\u001b[38;5;124m'\u001b[39m)\n\u001b[0;32m     14\u001b[0m row[\u001b[38;5;124m'\u001b[39m\u001b[38;5;124mLISTING_USE\u001b[39m\u001b[38;5;124m'\u001b[39m] \u001b[38;5;241m=\u001b[39m meta[\u001b[38;5;241m0\u001b[39m] \u001b[38;5;28;01mif\u001b[39;00m \u001b[38;5;28mlen\u001b[39m(meta) \u001b[38;5;241m>\u001b[39m \u001b[38;5;241m1\u001b[39m \u001b[38;5;28;01melse\u001b[39;00m \u001b[38;5;28;01mNone\u001b[39;00m \n\u001b[0;32m     16\u001b[0m row[\u001b[38;5;124m'\u001b[39m\u001b[38;5;124mLISTING_ADDRESS\u001b[39m\u001b[38;5;124m'\u001b[39m] \u001b[38;5;241m=\u001b[39m data\u001b[38;5;241m.\u001b[39mfind(\u001b[38;5;124m'\u001b[39m\u001b[38;5;124mdiv\u001b[39m\u001b[38;5;124m'\u001b[39m, {\u001b[38;5;124m'\u001b[39m\u001b[38;5;124mclass\u001b[39m\u001b[38;5;124m'\u001b[39m:\u001b[38;5;124m\"\u001b[39m\u001b[38;5;124mproperty-address\u001b[39m\u001b[38;5;124m\"\u001b[39m})\u001b[38;5;241m.\u001b[39mtext\n",
      "\u001b[1;31mAttributeError\u001b[0m: 'NoneType' object has no attribute 'text'"
     ]
    }
   ],
   "source": [
    "master_list = []\n",
    "for x in range(len(pages)):\n",
    "    soup = BeautifulSoup(pages[x], 'html')\n",
    "    placardContainer = soup.find('div', {'id': 'placardContainer'})\n",
    "    mortarWrapper = placardContainer.find_all('li', {'class':'mortar-wrapper'})\n",
    "    for item in get_listing(mortarWrapper):\n",
    "        master_list.append(item)\n",
    "    #break"
   ]
  },
  {
   "cell_type": "code",
   "execution_count": 337,
   "id": "cb9d7399-60ce-43ec-9c1c-d7a9481f5f2d",
   "metadata": {
    "tags": []
   },
   "outputs": [],
   "source": [
    "def get_listing(page):\n",
    "    for data in page:\n",
    "        row = {}\n",
    "        row['SCRAPE_TIME'] = start\n",
    "        row['REQUEST_TIME'] = end\n",
    "        if data.find('div', {'class':\"property-title\"}):\n",
    "            row['LISTING_NAME'] = data.find('div', {'class':\"property-title\"}).text \n",
    "        else:\n",
    "            row['LISTING_NAME'] = data.find('a', {'class':'property-link'})['aria-label'].split(',')[0]\n",
    "                   \n",
    "        row['LISTING_LINK'] = data.find('a', {'class':\"property-link\"})['href']\n",
    "        \n",
    "        meta = data.find('p', {'class':\"property-beds\"}).text.split(' - ')\n",
    "        row['LISTING_USE'] = meta[0] if len(meta) > 1 else None \n",
    "        \n",
    "        row['LISTING_ADDRESS'] = data.find('div', {'class':\"property-address\"}).text\n",
    "        \n",
    "        if data.find('p', {'class':\"property-amenities\"}):\n",
    "            row['LISTING_DESCRIPTION'] = data.find('p', {'class':\"property-amenities\"}).text.strip().replace('\\n',', ')\n",
    "        else:\n",
    "            row['LISTING_DESCRIPTION'] = None\n",
    "        if data.find('button', {'class':'videoPlay'}):\n",
    "            row['HAS_VIDEOS'] = True  \n",
    "        else:\n",
    "            row['HAS_VIDEOS'] = False\n",
    "        if data.find('button', {'class':'virtualTour'}):\n",
    "            row['HAS_VIRTUAL_TOUR'] = True  \n",
    "        else:\n",
    "            row['HAS_VIRTUAL_TOUR'] = False\n",
    "        \n",
    "        if data.find('button', {'class':\"checkAvailability\"}):\n",
    "            row['HAS_EMAIL'] = True \n",
    "        else:\n",
    "            row['HAS_EMAIL'] = False\n",
    "        \n",
    "        \n",
    "        row['PRICE'] = data.find('p', {'class':\"property-pricing\"}).text\n",
    "        if data.find('a', {'class':\"phone-link\"}):\n",
    "            row['PHONE_NUMBER'] = data.find('a', {'class':\"phone-link\"}).span.text\n",
    "        else:\n",
    "            row['PHONE_NUMBER'] = None\n",
    "       \n",
    "        \n",
    "        row['HAS_IMAGE'] = True if data.find('div', {'class':\"placardCarouselImgCount\"}) else False\n",
    "        \n",
    "        if data.find_all('a', {'class':\"property-link\"})[-2].span:\n",
    "            row['SPECIAL_TEXT'] = data.find_all('a', {'class':\"property-link\"})[-2].span.text\n",
    "        else:\n",
    "            row['SPECIAL_TEXT'] = None\n",
    "        \n",
    "        yield row  "
   ]
  },
  {
   "cell_type": "code",
   "execution_count": 154,
   "id": "0654b5dc-7aef-4725-88d8-2237da2d3c28",
   "metadata": {
    "tags": []
   },
   "outputs": [],
   "source": [
    "header = ['SCRAPE_TIME',\n",
    "    'REQUEST_TIME',\n",
    "    'LISTING_NAME',\n",
    "    'LISTING_LINK',\n",
    "    'LISTING_USE',\n",
    "    'LISTING_ADDRESS',\n",
    "    'LISTING_DESCRIPTION',\n",
    "    'HAS_VIDEOS',\n",
    "    'HAS_VIRTUAL_TOUR',\n",
    "    'HAS_EMAIL',\n",
    "    'PRICE',\n",
    "    'PHONE_NUMBER',\n",
    "    'HAS_IMAGE',\n",
    "    'SPECIAL_TEXT']"
   ]
  },
  {
   "cell_type": "code",
   "execution_count": 277,
   "id": "2d6cfb4c-37a0-4ccb-adf3-4df3fbbdeba5",
   "metadata": {
    "tags": []
   },
   "outputs": [],
   "source": [
    "def get_listing1(page):\n",
    "    dataList= []\n",
    "    for data in page:\n",
    "        row = {}\n",
    "        row['SCRAPE_TIME'] = start\n",
    "        row['REQUEST_TIME'] = end\n",
    "        row['LISTING_NAME'] = data.find('div', {'class':\"property-title\"}).text\n",
    "        row['LISTING_LINK'] = data.find('a', {'class':\"property-link\"})['href']\n",
    "        meta = data.find('p', {'class':\"property-beds\"}).text.split(' - ')\n",
    "        row['LISTING_USE'] = meta[0] if len(meta) > 1 else None\n",
    "        row['LISTING_ADDRESS'] = data.find('div', {'class':\"property-address\"}).text\n",
    "        row['LISTING_DESCRIPTION'] = data.find('p', {'class':\"property-amenities\"}).text.strip().replace('\\n',', ')\n",
    "        video_virtual = data.find('ul', {'class':\"mediaLinksList\"}).text.strip().split('\\n')\n",
    "        row['HAS_VIDEOS'] = True if 'Videos' in video_virtual else False\n",
    "        row['HAS_VIRTUAL_TOUR'] = True if 'Virtual Tour' in video_virtual else False\n",
    "        check_email = data.find('button', {'class':\"checkAvailability\"})\n",
    "        row['HAS_EMAIL'] = True if check_email.text == 'Email' else False\n",
    "        row['PRICE'] = data.find('p', {'class':\"property-pricing\"}).text\n",
    "        row['PHONE_NUMBER'] = data.find('div', {'class':\"property-actions\"}).span.text\n",
    "        row['HAS_IMAGE'] = True if len(data.find('div', {'class':\"item active us\"}).img['src']) > 0 else False\n",
    "        try:\n",
    "            row['SPECIAL_TEXT'] = data.find_all('a', {'class':\"property-link\"})[-2].span.text\n",
    "        except:\n",
    "            row['SPECIAL_TEXT'] = None\n",
    "        dataList.append(row)\n",
    "    \n",
    "    return dataList\n",
    "    "
   ]
  },
  {
   "cell_type": "code",
   "execution_count": 339,
   "id": "8abf9632-0650-43ea-8c04-165322ccc483",
   "metadata": {
    "tags": []
   },
   "outputs": [
    {
     "data": {
      "text/plain": [
       "579"
      ]
     },
     "execution_count": 339,
     "metadata": {},
     "output_type": "execute_result"
    }
   ],
   "source": [
    "len(master_list)"
   ]
  },
  {
   "cell_type": "code",
   "execution_count": 301,
   "id": "1d65b1a6-7ced-41a3-b74b-dd5b8108cfa3",
   "metadata": {
    "tags": []
   },
   "outputs": [
    {
     "data": {
      "text/plain": [
       "560"
      ]
     },
     "execution_count": 301,
     "metadata": {},
     "output_type": "execute_result"
    }
   ],
   "source": [
    "480 +40+40"
   ]
  },
  {
   "cell_type": "code",
   "execution_count": 340,
   "id": "3540a839-daba-4c05-8669-834d76b29251",
   "metadata": {
    "tags": []
   },
   "outputs": [],
   "source": [
    "df = pd.DataFrame(master_list, columns=header)"
   ]
  },
  {
   "cell_type": "code",
   "execution_count": 341,
   "id": "66bea509-6abd-44d9-96fe-c3ba2cad9ca5",
   "metadata": {
    "tags": []
   },
   "outputs": [],
   "source": [
    "df.to_csv('data/apartments.csv', index=False)"
   ]
  },
  {
   "cell_type": "code",
   "execution_count": 342,
   "id": "1f4a5745-2b22-4001-bdf2-41d4c7f5008c",
   "metadata": {
    "tags": []
   },
   "outputs": [
    {
     "data": {
      "text/html": [
       "<div>\n",
       "<style scoped>\n",
       "    .dataframe tbody tr th:only-of-type {\n",
       "        vertical-align: middle;\n",
       "    }\n",
       "\n",
       "    .dataframe tbody tr th {\n",
       "        vertical-align: top;\n",
       "    }\n",
       "\n",
       "    .dataframe thead th {\n",
       "        text-align: right;\n",
       "    }\n",
       "</style>\n",
       "<table border=\"1\" class=\"dataframe\">\n",
       "  <thead>\n",
       "    <tr style=\"text-align: right;\">\n",
       "      <th></th>\n",
       "      <th>SCRAPE_TIME</th>\n",
       "      <th>REQUEST_TIME</th>\n",
       "      <th>LISTING_NAME</th>\n",
       "      <th>LISTING_LINK</th>\n",
       "      <th>LISTING_USE</th>\n",
       "      <th>LISTING_ADDRESS</th>\n",
       "      <th>LISTING_DESCRIPTION</th>\n",
       "      <th>HAS_VIDEOS</th>\n",
       "      <th>HAS_VIRTUAL_TOUR</th>\n",
       "      <th>HAS_EMAIL</th>\n",
       "      <th>PRICE</th>\n",
       "      <th>PHONE_NUMBER</th>\n",
       "      <th>HAS_IMAGE</th>\n",
       "      <th>SPECIAL_TEXT</th>\n",
       "    </tr>\n",
       "  </thead>\n",
       "  <tbody>\n",
       "    <tr>\n",
       "      <th>0</th>\n",
       "      <td>2024-01-31 11:17 AM EST</td>\n",
       "      <td>2024-01-31 11:31 AM EST</td>\n",
       "      <td>3005 Buckhead</td>\n",
       "      <td>https://www.apartments.com/3005-buckhead-atlan...</td>\n",
       "      <td>Studio</td>\n",
       "      <td>3005 Peachtree Rd NE, Atlanta, GA 30305</td>\n",
       "      <td>Dog &amp; Cat Friendly, Fitness Center, Pool, Kitc...</td>\n",
       "      <td>True</td>\n",
       "      <td>True</td>\n",
       "      <td>True</td>\n",
       "      <td>$1,737 - 3,557</td>\n",
       "      <td>(470) 870-7791</td>\n",
       "      <td>True</td>\n",
       "      <td>1 Month Free</td>\n",
       "    </tr>\n",
       "    <tr>\n",
       "      <th>1</th>\n",
       "      <td>2024-01-31 11:17 AM EST</td>\n",
       "      <td>2024-01-31 11:31 AM EST</td>\n",
       "      <td>Dunwoody Ridge</td>\n",
       "      <td>https://www.apartments.com/dunwoody-ridge-atla...</td>\n",
       "      <td>None</td>\n",
       "      <td>7227 NE Peachtree Dunwoody Rd, Atlanta, GA 30328</td>\n",
       "      <td>Dog &amp; Cat Friendly, Fitness Center, Dishwasher...</td>\n",
       "      <td>True</td>\n",
       "      <td>True</td>\n",
       "      <td>True</td>\n",
       "      <td>$1,094 - 1,728</td>\n",
       "      <td>(844) 757-0487</td>\n",
       "      <td>True</td>\n",
       "      <td>None</td>\n",
       "    </tr>\n",
       "    <tr>\n",
       "      <th>2</th>\n",
       "      <td>2024-01-31 11:17 AM EST</td>\n",
       "      <td>2024-01-31 11:31 AM EST</td>\n",
       "      <td>Cortland at Phipps Plaza</td>\n",
       "      <td>https://www.apartments.com/cortland-at-phipps-...</td>\n",
       "      <td>Studio</td>\n",
       "      <td>707 Park Ave NE, Atlanta, GA 30326</td>\n",
       "      <td>Dog &amp; Cat Friendly, In Unit Washer &amp; Dryer, Gr...</td>\n",
       "      <td>False</td>\n",
       "      <td>True</td>\n",
       "      <td>True</td>\n",
       "      <td>$1,322 - 2,457</td>\n",
       "      <td>(470) 944-5573</td>\n",
       "      <td>True</td>\n",
       "      <td>None</td>\n",
       "    </tr>\n",
       "    <tr>\n",
       "      <th>3</th>\n",
       "      <td>2024-01-31 11:17 AM EST</td>\n",
       "      <td>2024-01-31 11:31 AM EST</td>\n",
       "      <td>Ford Factory Lofts</td>\n",
       "      <td>https://www.apartments.com/ford-factory-lofts-...</td>\n",
       "      <td>None</td>\n",
       "      <td>699 Ponce De Leon Ave NE, Atlanta, GA 30308</td>\n",
       "      <td>Cat Friendly, Heat, Ceiling Fans, Controlled A...</td>\n",
       "      <td>True</td>\n",
       "      <td>True</td>\n",
       "      <td>True</td>\n",
       "      <td>$1,485 - 2,800</td>\n",
       "      <td>(470) 944-5875</td>\n",
       "      <td>True</td>\n",
       "      <td>Specials</td>\n",
       "    </tr>\n",
       "    <tr>\n",
       "      <th>4</th>\n",
       "      <td>2024-01-31 11:17 AM EST</td>\n",
       "      <td>2024-01-31 11:31 AM EST</td>\n",
       "      <td>Calibre Woods</td>\n",
       "      <td>https://www.apartments.com/calibre-woods-atlan...</td>\n",
       "      <td>None</td>\n",
       "      <td>2075 Lavista Rd NE, Atlanta, GA 30329</td>\n",
       "      <td>Dog &amp; Cat Friendly, Fitness Center, Pool, Dish...</td>\n",
       "      <td>True</td>\n",
       "      <td>True</td>\n",
       "      <td>True</td>\n",
       "      <td>$1,533 - 2,109</td>\n",
       "      <td>(470) 944-6255</td>\n",
       "      <td>True</td>\n",
       "      <td>Discounts</td>\n",
       "    </tr>\n",
       "    <tr>\n",
       "      <th>...</th>\n",
       "      <td>...</td>\n",
       "      <td>...</td>\n",
       "      <td>...</td>\n",
       "      <td>...</td>\n",
       "      <td>...</td>\n",
       "      <td>...</td>\n",
       "      <td>...</td>\n",
       "      <td>...</td>\n",
       "      <td>...</td>\n",
       "      <td>...</td>\n",
       "      <td>...</td>\n",
       "      <td>...</td>\n",
       "      <td>...</td>\n",
       "      <td>...</td>\n",
       "    </tr>\n",
       "    <tr>\n",
       "      <th>574</th>\n",
       "      <td>2024-01-31 11:17 AM EST</td>\n",
       "      <td>2024-01-31 11:31 AM EST</td>\n",
       "      <td>1939 Gotham Way NE</td>\n",
       "      <td>https://www.apartments.com/1939-gotham-way-ne-...</td>\n",
       "      <td>None</td>\n",
       "      <td>Atlanta, GA 30324</td>\n",
       "      <td>None</td>\n",
       "      <td>False</td>\n",
       "      <td>False</td>\n",
       "      <td>False</td>\n",
       "      <td>$4,250 /mo</td>\n",
       "      <td>(678) 904-9868</td>\n",
       "      <td>False</td>\n",
       "      <td>None</td>\n",
       "    </tr>\n",
       "    <tr>\n",
       "      <th>575</th>\n",
       "      <td>2024-01-31 11:17 AM EST</td>\n",
       "      <td>2024-01-31 11:31 AM EST</td>\n",
       "      <td>556 Moreland Ave NE</td>\n",
       "      <td>https://www.apartments.com/556-moreland-ave-ne...</td>\n",
       "      <td>None</td>\n",
       "      <td>Atlanta, GA 30307</td>\n",
       "      <td>None</td>\n",
       "      <td>False</td>\n",
       "      <td>False</td>\n",
       "      <td>True</td>\n",
       "      <td>$3,950</td>\n",
       "      <td>(470) 435-7955</td>\n",
       "      <td>False</td>\n",
       "      <td>None</td>\n",
       "    </tr>\n",
       "    <tr>\n",
       "      <th>576</th>\n",
       "      <td>2024-01-31 11:17 AM EST</td>\n",
       "      <td>2024-01-31 11:31 AM EST</td>\n",
       "      <td>1843 Campbellton Rd Sw</td>\n",
       "      <td>https://www.apartments.com/1843-campbellton-rd...</td>\n",
       "      <td>None</td>\n",
       "      <td>1843 Campbellton Rd SW, Atlanta, GA 30311</td>\n",
       "      <td>None</td>\n",
       "      <td>False</td>\n",
       "      <td>False</td>\n",
       "      <td>True</td>\n",
       "      <td>$2,260 /mo</td>\n",
       "      <td>(404) 751-2505</td>\n",
       "      <td>False</td>\n",
       "      <td>None</td>\n",
       "    </tr>\n",
       "    <tr>\n",
       "      <th>577</th>\n",
       "      <td>2024-01-31 11:17 AM EST</td>\n",
       "      <td>2024-01-31 11:31 AM EST</td>\n",
       "      <td>505 Whitehall St SW</td>\n",
       "      <td>https://www.apartments.com/505-whitehall-st-sw...</td>\n",
       "      <td>None</td>\n",
       "      <td>Atlanta, GA 30303</td>\n",
       "      <td>None</td>\n",
       "      <td>False</td>\n",
       "      <td>False</td>\n",
       "      <td>False</td>\n",
       "      <td>$1,950 - 2,600</td>\n",
       "      <td>(470) 264-3558</td>\n",
       "      <td>False</td>\n",
       "      <td>None</td>\n",
       "    </tr>\n",
       "    <tr>\n",
       "      <th>578</th>\n",
       "      <td>2024-01-31 11:17 AM EST</td>\n",
       "      <td>2024-01-31 11:31 AM EST</td>\n",
       "      <td>1377 Dresden Dr Unit 2273.632307</td>\n",
       "      <td>https://www.apartments.com/1377-dresden-dr-bro...</td>\n",
       "      <td>None</td>\n",
       "      <td>Brookhaven, GA 30319</td>\n",
       "      <td>None</td>\n",
       "      <td>False</td>\n",
       "      <td>False</td>\n",
       "      <td>True</td>\n",
       "      <td>$2,923</td>\n",
       "      <td>(628) 230-6952</td>\n",
       "      <td>False</td>\n",
       "      <td>None</td>\n",
       "    </tr>\n",
       "  </tbody>\n",
       "</table>\n",
       "<p>579 rows × 14 columns</p>\n",
       "</div>"
      ],
      "text/plain": [
       "                 SCRAPE_TIME             REQUEST_TIME  \\\n",
       "0    2024-01-31 11:17 AM EST  2024-01-31 11:31 AM EST   \n",
       "1    2024-01-31 11:17 AM EST  2024-01-31 11:31 AM EST   \n",
       "2    2024-01-31 11:17 AM EST  2024-01-31 11:31 AM EST   \n",
       "3    2024-01-31 11:17 AM EST  2024-01-31 11:31 AM EST   \n",
       "4    2024-01-31 11:17 AM EST  2024-01-31 11:31 AM EST   \n",
       "..                       ...                      ...   \n",
       "574  2024-01-31 11:17 AM EST  2024-01-31 11:31 AM EST   \n",
       "575  2024-01-31 11:17 AM EST  2024-01-31 11:31 AM EST   \n",
       "576  2024-01-31 11:17 AM EST  2024-01-31 11:31 AM EST   \n",
       "577  2024-01-31 11:17 AM EST  2024-01-31 11:31 AM EST   \n",
       "578  2024-01-31 11:17 AM EST  2024-01-31 11:31 AM EST   \n",
       "\n",
       "                         LISTING_NAME  \\\n",
       "0                       3005 Buckhead   \n",
       "1                      Dunwoody Ridge   \n",
       "2            Cortland at Phipps Plaza   \n",
       "3                  Ford Factory Lofts   \n",
       "4                       Calibre Woods   \n",
       "..                                ...   \n",
       "574                1939 Gotham Way NE   \n",
       "575               556 Moreland Ave NE   \n",
       "576            1843 Campbellton Rd Sw   \n",
       "577               505 Whitehall St SW   \n",
       "578  1377 Dresden Dr Unit 2273.632307   \n",
       "\n",
       "                                          LISTING_LINK LISTING_USE  \\\n",
       "0    https://www.apartments.com/3005-buckhead-atlan...      Studio   \n",
       "1    https://www.apartments.com/dunwoody-ridge-atla...        None   \n",
       "2    https://www.apartments.com/cortland-at-phipps-...      Studio   \n",
       "3    https://www.apartments.com/ford-factory-lofts-...        None   \n",
       "4    https://www.apartments.com/calibre-woods-atlan...        None   \n",
       "..                                                 ...         ...   \n",
       "574  https://www.apartments.com/1939-gotham-way-ne-...        None   \n",
       "575  https://www.apartments.com/556-moreland-ave-ne...        None   \n",
       "576  https://www.apartments.com/1843-campbellton-rd...        None   \n",
       "577  https://www.apartments.com/505-whitehall-st-sw...        None   \n",
       "578  https://www.apartments.com/1377-dresden-dr-bro...        None   \n",
       "\n",
       "                                      LISTING_ADDRESS  \\\n",
       "0             3005 Peachtree Rd NE, Atlanta, GA 30305   \n",
       "1    7227 NE Peachtree Dunwoody Rd, Atlanta, GA 30328   \n",
       "2                  707 Park Ave NE, Atlanta, GA 30326   \n",
       "3         699 Ponce De Leon Ave NE, Atlanta, GA 30308   \n",
       "4               2075 Lavista Rd NE, Atlanta, GA 30329   \n",
       "..                                                ...   \n",
       "574                                 Atlanta, GA 30324   \n",
       "575                                 Atlanta, GA 30307   \n",
       "576         1843 Campbellton Rd SW, Atlanta, GA 30311   \n",
       "577                                 Atlanta, GA 30303   \n",
       "578                              Brookhaven, GA 30319   \n",
       "\n",
       "                                   LISTING_DESCRIPTION  HAS_VIDEOS  \\\n",
       "0    Dog & Cat Friendly, Fitness Center, Pool, Kitc...        True   \n",
       "1    Dog & Cat Friendly, Fitness Center, Dishwasher...        True   \n",
       "2    Dog & Cat Friendly, In Unit Washer & Dryer, Gr...       False   \n",
       "3    Cat Friendly, Heat, Ceiling Fans, Controlled A...        True   \n",
       "4    Dog & Cat Friendly, Fitness Center, Pool, Dish...        True   \n",
       "..                                                 ...         ...   \n",
       "574                                               None       False   \n",
       "575                                               None       False   \n",
       "576                                               None       False   \n",
       "577                                               None       False   \n",
       "578                                               None       False   \n",
       "\n",
       "     HAS_VIRTUAL_TOUR  HAS_EMAIL           PRICE    PHONE_NUMBER  HAS_IMAGE  \\\n",
       "0                True       True  $1,737 - 3,557  (470) 870-7791       True   \n",
       "1                True       True  $1,094 - 1,728  (844) 757-0487       True   \n",
       "2                True       True  $1,322 - 2,457  (470) 944-5573       True   \n",
       "3                True       True  $1,485 - 2,800  (470) 944-5875       True   \n",
       "4                True       True  $1,533 - 2,109  (470) 944-6255       True   \n",
       "..                ...        ...             ...             ...        ...   \n",
       "574             False      False      $4,250 /mo  (678) 904-9868      False   \n",
       "575             False       True          $3,950  (470) 435-7955      False   \n",
       "576             False       True      $2,260 /mo  (404) 751-2505      False   \n",
       "577             False      False  $1,950 - 2,600  (470) 264-3558      False   \n",
       "578             False       True          $2,923  (628) 230-6952      False   \n",
       "\n",
       "     SPECIAL_TEXT  \n",
       "0    1 Month Free  \n",
       "1            None  \n",
       "2            None  \n",
       "3        Specials  \n",
       "4       Discounts  \n",
       "..            ...  \n",
       "574          None  \n",
       "575          None  \n",
       "576          None  \n",
       "577          None  \n",
       "578          None  \n",
       "\n",
       "[579 rows x 14 columns]"
      ]
     },
     "execution_count": 342,
     "metadata": {},
     "output_type": "execute_result"
    }
   ],
   "source": [
    "df"
   ]
  },
  {
   "cell_type": "code",
   "execution_count": null,
   "id": "96a4f79d-6b57-4e26-a2ad-2a11a34e2889",
   "metadata": {},
   "outputs": [],
   "source": []
  }
 ],
 "metadata": {
  "kernelspec": {
   "display_name": "Python 3 (ipykernel)",
   "language": "python",
   "name": "python3"
  },
  "language_info": {
   "codemirror_mode": {
    "name": "ipython",
    "version": 3
   },
   "file_extension": ".py",
   "mimetype": "text/x-python",
   "name": "python",
   "nbconvert_exporter": "python",
   "pygments_lexer": "ipython3",
   "version": "3.11.5"
  }
 },
 "nbformat": 4,
 "nbformat_minor": 5
}
