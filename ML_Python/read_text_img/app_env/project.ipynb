{
 "cells": [
  {
   "cell_type": "code",
   "execution_count": 2,
   "id": "4dafb16a-91a8-44fa-bf91-054278e71acd",
   "metadata": {
    "tags": []
   },
   "outputs": [],
   "source": [
    "from PIL import Image\n",
    "from pytesseract import pytesseract\n",
    "import re, glob\n",
    "import pandas as pd\n"
   ]
  },
  {
   "cell_type": "code",
   "execution_count": 79,
   "id": "8352bcb2-cade-4a89-b60c-a4755bebef89",
   "metadata": {
    "tags": []
   },
   "outputs": [],
   "source": [
    "path_to_tesseract = r\"C:\\Program Files\\Tesseract-OCR\\tesseract.exe\"\n",
    "pytesseract.tesseract_cmd = path_to_tesseract\n",
    "image_glob = glob.glob('data/invoices/*.jpg')"
   ]
  },
  {
   "cell_type": "code",
   "execution_count": 95,
   "id": "2396a2ed-c67f-4d09-8455-1edb55a2eff9",
   "metadata": {
    "tags": []
   },
   "outputs": [],
   "source": [
    "data_output = []\n",
    "for text in get_data(image_glob):\n",
    "  data_output.append(text)"
   ]
  },
  {
   "cell_type": "code",
   "execution_count": 94,
   "id": "9d01de21",
   "metadata": {},
   "outputs": [],
   "source": [
    "def get_data(data) -> dict:\n",
    "  for i, image in enumerate(data):\n",
    "    row = {}\n",
    "    text = pytesseract.image_to_string(image, lang='eng')\n",
    "    row['Invoice No.'] = re.search(r'No.\\s*(.+?)\\s*\\n', text).group(1)\n",
    "    row['Date'] = re.search(r'(\\d+-\\d+-\\d+)', text).group(1)\n",
    "    row['Customer'] = re.search(r'To:\\s(\\w+ \\w+)', text).group(1)\n",
    "    row['Address'] = re.search(r'Address:\\s*(.+?)\\s*Address:', text).group(1)\n",
    "    row['VAT Number'] = re.search(r'VAT number:\\s*(.+?)\\s*\\n', text).group(1)\n",
    "    row['Total VAT'] = re.search(r'(VAT \\((.+?)\\):\\s*(.+?))\\s*\\n', text).group(1).split()[-1]\n",
    "    row['Amount'] = re.search(r'(Invoice Total \\((.+?)\\):\\s*(.+?))\\s*\\n', text).group(1).split()[-1]\n",
    "\n",
    "    yield row"
   ]
  },
  {
   "cell_type": "code",
   "execution_count": 93,
   "id": "4261337c",
   "metadata": {},
   "outputs": [],
   "source": [
    "df.to_csv('data/output/sales.csv')"
   ]
  }
 ],
 "metadata": {
  "kernelspec": {
   "display_name": "Python 3 (ipykernel)",
   "language": "python",
   "name": "python3"
  },
  "language_info": {
   "codemirror_mode": {
    "name": "ipython",
    "version": 3
   },
   "file_extension": ".py",
   "mimetype": "text/x-python",
   "name": "python",
   "nbconvert_exporter": "python",
   "pygments_lexer": "ipython3",
   "version": "3.11.0"
  }
 },
 "nbformat": 4,
 "nbformat_minor": 5
}
