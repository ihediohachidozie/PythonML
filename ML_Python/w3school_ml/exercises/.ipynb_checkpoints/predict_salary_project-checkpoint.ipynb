{
 "cells": [
  {
   "cell_type": "code",
   "execution_count": 1,
   "id": "6339d4ff-f3a4-402d-9f41-b4536e5249f7",
   "metadata": {
    "tags": []
   },
   "outputs": [],
   "source": [
    "import numpy as np\n",
    "import pandas as pd\n",
    "import matplotlib.pyplot as plt\n",
    "from scipy import stats"
   ]
  },
  {
   "cell_type": "code",
   "execution_count": 2,
   "id": "e7cb52db-2e51-498c-ae11-5792a9e1ea42",
   "metadata": {
    "tags": []
   },
   "outputs": [],
   "source": [
    "# read dataset from a csv file\n",
    "df = pd.read_csv('../data/all_salaries2.csv')"
   ]
  },
  {
   "cell_type": "code",
   "execution_count": 3,
   "id": "d80852f0-b7ab-45b3-b595-f554ca5586b2",
   "metadata": {
    "tags": []
   },
   "outputs": [],
   "source": [
    "# x-axis will be years of experience\n",
    "x = np.array(df['Years_of_experience'])\n",
    "\n",
    "# y-axis will be the salaries\n",
    "y = np.array(df['Salary'])"
   ]
  },
  {
   "cell_type": "code",
   "execution_count": 4,
   "id": "fe1e211f-f1ba-4347-ab9d-a6430eb490cf",
   "metadata": {
    "tags": []
   },
   "outputs": [
    {
     "data": {
      "image/png": "[encoded data removed]",
      "text/plain": [
       "<Figure size 640x480 with 1 Axes>"
      ]
     },
     "metadata": {},
     "output_type": "display_data"
    }
   ],
   "source": [
    "# Execute a method that returns some important key values of Linear Regression:\n",
    "scope, intercept, r, p, std_err = stats.linregress(x,y)\n",
    "\n",
    "# Create a function that uses the slope and intercept values to return a new value. \n",
    "# This new value represents where on the y-axis the corresponding x value will be placed:\n",
    "# This function is used to predict the future\n",
    "def myfunc(x):\n",
    "    return scope * x + intercept\n",
    "\n",
    "# Run each value of the x array through the function. This will result in a new array with new values for the y-axis:\n",
    "mymodel = list(map(myfunc, x))\n",
    "\n",
    "# Draw the original scatter plot:\n",
    "plt.scatter(x,y)\n",
    "\n",
    "# Draw the line of linear regression:\n",
    "plt.plot(x, mymodel)\n",
    "\n",
    "# Display the diagram:\n",
    "plt.show()"
   ]
  },
  {
   "cell_type": "markdown",
   "id": "142ea496-d0e9-4d67-8223-6146f6c57aed",
   "metadata": {},
   "source": [
    "# Predict the Salary"
   ]
  },
  {
   "cell_type": "code",
   "execution_count": 5,
   "id": "962c605e-161a-4f18-bbd3-30d373499337",
   "metadata": {
    "tags": []
   },
   "outputs": [
    {
     "data": {
      "text/plain": [
       "3213.706616729089"
      ]
     },
     "execution_count": 5,
     "metadata": {},
     "output_type": "execute_result"
    }
   ],
   "source": [
    "# predict the salary for a worker with 5 years experience\n",
    "myfunc(5)"
   ]
  },
  {
   "cell_type": "code",
   "execution_count": 7,
   "id": "84ec583c-5666-4499-9180-a8c06cd3f379",
   "metadata": {},
   "outputs": [
    {
     "data": {
      "text/plain": [
       "0.9502791805620686"
      ]
     },
     "execution_count": 7,
     "metadata": {},
     "output_type": "execute_result"
    }
   ],
   "source": [
    "# show relationship r\n",
    "r"
   ]
  },
  {
   "cell_type": "code",
   "execution_count": null,
   "id": "7244b509-35f1-4b43-842d-302c5457df39",
   "metadata": {},
   "outputs": [],
   "source": []
  }
 ],
 "metadata": {
  "kernelspec": {
   "display_name": "Python 3 (ipykernel)",
   "language": "python",
   "name": "python3"
  },
  "language_info": {
   "codemirror_mode": {
    "name": "ipython",
    "version": 3
   },
   "file_extension": ".py",
   "mimetype": "text/x-python",
   "name": "python",
   "nbconvert_exporter": "python",
   "pygments_lexer": "ipython3",
   "version": "3.11.5"
  }
 },
 "nbformat": 4,
 "nbformat_minor": 5
}
