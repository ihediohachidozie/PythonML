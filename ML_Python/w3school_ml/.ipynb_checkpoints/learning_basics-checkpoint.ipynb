{
 "cells": [
  {
   "cell_type": "markdown",
   "id": "9ff75109-8864-4014-84d5-3ba1d533fc9b",
   "metadata": {},
   "source": [
    "# Mean, Median, and Mode"
   ]
  },
  {
   "cell_type": "code",
   "execution_count": 1,
   "id": "fa12f5dc-4be0-4f8e-8eb8-6d0f709fb697",
   "metadata": {
    "tags": []
   },
   "outputs": [],
   "source": [
    "import numpy as np"
   ]
  },
  {
   "cell_type": "code",
   "execution_count": 3,
   "id": "d9f9b7aa-edbe-4c6d-9bcc-532d86e36b3f",
   "metadata": {
    "tags": []
   },
   "outputs": [],
   "source": [
    "speed = [99,86,87,88,111,86,103,87,94,78,77,85,86]"
   ]
  },
  {
   "cell_type": "code",
   "execution_count": 4,
   "id": "933aa638-bd75-4829-9fb3-db391ff7895a",
   "metadata": {
    "tags": []
   },
   "outputs": [
    {
     "data": {
      "text/plain": [
       "89.76923076923077"
      ]
     },
     "execution_count": 4,
     "metadata": {},
     "output_type": "execute_result"
    }
   ],
   "source": [
    "# mean value\n",
    "np.mean(speed)"
   ]
  },
  {
   "cell_type": "code",
   "execution_count": 6,
   "id": "f4766b98-0429-4f2d-bf34-e4b7e326875b",
   "metadata": {
    "tags": []
   },
   "outputs": [
    {
     "data": {
      "text/plain": [
       "87.0"
      ]
     },
     "execution_count": 6,
     "metadata": {},
     "output_type": "execute_result"
    }
   ],
   "source": [
    "# median value\n",
    "np.median(speed)"
   ]
  },
  {
   "cell_type": "code",
   "execution_count": 8,
   "id": "baa9e80a-5403-4c24-b2fb-2913f54de7e0",
   "metadata": {
    "tags": []
   },
   "outputs": [
    {
     "data": {
      "text/plain": [
       "ModeResult(mode=86, count=3)"
      ]
     },
     "execution_count": 8,
     "metadata": {},
     "output_type": "execute_result"
    }
   ],
   "source": [
    "# mode value\n",
    "# first import stats from Scipy\n",
    "#The mode() method returns a ModeResult object that contains the mode number (86), \n",
    "# and count (how many times the mode number appeared (3)).\n",
    "from scipy import stats\n",
    "stats.mode(speed)"
   ]
  },
  {
   "cell_type": "markdown",
   "id": "84f4d88b-7f04-4629-9a4d-094e1fda747a",
   "metadata": {},
   "source": [
    "# Standard Deviation\n",
    "Standard deviation is a number that describes how spread out the values are."
   ]
  },
  {
   "cell_type": "code",
   "execution_count": 14,
   "id": "b58db141-726b-4adb-a2f4-bc0709543084",
   "metadata": {
    "tags": []
   },
   "outputs": [
    {
     "data": {
      "text/plain": [
       "0.9035079029052513"
      ]
     },
     "execution_count": 14,
     "metadata": {},
     "output_type": "execute_result"
    }
   ],
   "source": [
    "speed1 = [86,87,88,86,87,85,86]\n",
    "np.std(speed1)"
   ]
  },
  {
   "cell_type": "code",
   "execution_count": 15,
   "id": "925e7db8-b5ed-4d5f-b808-2f2aa4ffcaea",
   "metadata": {
    "tags": []
   },
   "outputs": [
    {
     "data": {
      "text/plain": [
       "37.84501153334721"
      ]
     },
     "execution_count": 15,
     "metadata": {},
     "output_type": "execute_result"
    }
   ],
   "source": [
    "speed2 = [32,111,138,28,59,77,97]\n",
    "np.std(speed2)"
   ]
  },
  {
   "cell_type": "markdown",
   "id": "a614367c-dec1-4672-a35c-36ecccc51dba",
   "metadata": {},
   "source": [
    "# Variance\n",
    "Variance is another number that indicates how spread out the values are."
   ]
  },
  {
   "cell_type": "code",
   "execution_count": 16,
   "id": "2c85973f-c936-4bfa-a8d3-715d003520e2",
   "metadata": {
    "tags": []
   },
   "outputs": [
    {
     "data": {
      "text/plain": [
       "1432.2448979591834"
      ]
     },
     "execution_count": 16,
     "metadata": {},
     "output_type": "execute_result"
    }
   ],
   "source": [
    "np.var(speed2)"
   ]
  },
  {
   "cell_type": "markdown",
   "id": "0a856668-a515-4255-9d27-84ad62280676",
   "metadata": {},
   "source": [
    "# Percentiles\n",
    "Percentiles are used in statistics to give you a number that describes the value that a given percent of the values are lower than."
   ]
  },
  {
   "cell_type": "code",
   "execution_count": 18,
   "id": "729f2035-6a2c-45e4-be9b-0c6971959a97",
   "metadata": {
    "tags": []
   },
   "outputs": [],
   "source": [
    "#Example: Let's say we have an array of the ages of all the people that live in a street.\n",
    "\n",
    "ages = [5,31,43,48,50,41,7,11,15,39,80,82,32,2,8,6,25,36,27,61,31]"
   ]
  },
  {
   "cell_type": "code",
   "execution_count": 20,
   "id": "08c487c1-9044-4ec2-bae0-278fe60c4243",
   "metadata": {
    "tags": []
   },
   "outputs": [
    {
     "data": {
      "text/plain": [
       "43.0"
      ]
     },
     "execution_count": 20,
     "metadata": {},
     "output_type": "execute_result"
    }
   ],
   "source": [
    "# What is the 75. percentile?\n",
    "np.percentile(ages, 75) # The answer is 43, meaning that 75% of the people are 43 or younger."
   ]
  },
  {
   "cell_type": "code",
   "execution_count": 24,
   "id": "65806c7e-ef93-4358-a515-cc4b07ad0b94",
   "metadata": {
    "tags": []
   },
   "outputs": [
    {
     "data": {
      "text/plain": [
       "61.0"
      ]
     },
     "execution_count": 24,
     "metadata": {},
     "output_type": "execute_result"
    }
   ],
   "source": [
    "# What is the age that 90% of the people are younger than?\n",
    "np.percentile(ages, 90) # The answer is 61, meaning that 90% of the people are 61 or younger."
   ]
  },
  {
   "cell_type": "markdown",
   "id": "7d84712c-30f5-46ee-bc60-2af0d94fc204",
   "metadata": {
    "tags": []
   },
   "source": [
    "# Data Distribution"
   ]
  },
  {
   "cell_type": "code",
   "execution_count": null,
   "id": "e6d2dcf7-0cfa-43ae-9278-35cf1902c3b3",
   "metadata": {},
   "outputs": [],
   "source": []
  }
 ],
 "metadata": {
  "kernelspec": {
   "display_name": "Python 3 (ipykernel)",
   "language": "python",
   "name": "python3"
  },
  "language_info": {
   "codemirror_mode": {
    "name": "ipython",
    "version": 3
   },
   "file_extension": ".py",
   "mimetype": "text/x-python",
   "name": "python",
   "nbconvert_exporter": "python",
   "pygments_lexer": "ipython3",
   "version": "3.11.5"
  }
 },
 "nbformat": 4,
 "nbformat_minor": 5
}
