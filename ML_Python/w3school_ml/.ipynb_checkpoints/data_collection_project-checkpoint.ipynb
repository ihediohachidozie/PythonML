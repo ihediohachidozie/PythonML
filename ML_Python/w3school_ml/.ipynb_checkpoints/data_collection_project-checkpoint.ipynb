{
 "cells": [
  {
   "cell_type": "code",
   "execution_count": 1,
   "id": "e600d884-3c05-4eb4-82a6-992442585429",
   "metadata": {
    "tags": []
   },
   "outputs": [],
   "source": [
    "import pandas as pd"
   ]
  },
  {
   "cell_type": "code",
   "execution_count": 2,
   "id": "223d3eed-d458-4295-920a-f2d212f5a253",
   "metadata": {
    "tags": []
   },
   "outputs": [],
   "source": [
    "# read the page to extract the data\n",
    "df = pd.read_html('https://www.w3schools.com/python/python_ml_getting_started.asp')"
   ]
  },
  {
   "cell_type": "code",
   "execution_count": 9,
   "id": "9e663eec-5fcf-49f2-bf43-a95b323a2956",
   "metadata": {
    "tags": []
   },
   "outputs": [],
   "source": [
    "# extracting just the first data on the list df and assigning it to df\n",
    "df = df[0]"
   ]
  },
  {
   "cell_type": "code",
   "execution_count": 11,
   "id": "a8ce5131-e9f8-46b1-9df4-d126e5adba14",
   "metadata": {
    "tags": []
   },
   "outputs": [],
   "source": [
    "# rename the columns\n",
    "df = df.rename({0:'Carname', 1:'Color', 2:'Age', 3:'Speed', 4:'AutoPass'}, axis=1)"
   ]
  },
  {
   "cell_type": "code",
   "execution_count": 14,
   "id": "6bacf0be-42a9-4293-9613-baec4456828d",
   "metadata": {
    "tags": []
   },
   "outputs": [
    {
     "data": {
      "text/html": [
       "<div>\n",
       "<style scoped>\n",
       "    .dataframe tbody tr th:only-of-type {\n",
       "        vertical-align: middle;\n",
       "    }\n",
       "\n",
       "    .dataframe tbody tr th {\n",
       "        vertical-align: top;\n",
       "    }\n",
       "\n",
       "    .dataframe thead th {\n",
       "        text-align: right;\n",
       "    }\n",
       "</style>\n",
       "<table border=\"1\" class=\"dataframe\">\n",
       "  <thead>\n",
       "    <tr style=\"text-align: right;\">\n",
       "      <th></th>\n",
       "      <th>Carname</th>\n",
       "      <th>Color</th>\n",
       "      <th>Age</th>\n",
       "      <th>Speed</th>\n",
       "      <th>AutoPass</th>\n",
       "    </tr>\n",
       "  </thead>\n",
       "  <tbody>\n",
       "    <tr>\n",
       "      <th>0</th>\n",
       "      <td>Carname</td>\n",
       "      <td>Color</td>\n",
       "      <td>Age</td>\n",
       "      <td>Speed</td>\n",
       "      <td>AutoPass</td>\n",
       "    </tr>\n",
       "    <tr>\n",
       "      <th>1</th>\n",
       "      <td>BMW</td>\n",
       "      <td>red</td>\n",
       "      <td>5</td>\n",
       "      <td>99</td>\n",
       "      <td>Y</td>\n",
       "    </tr>\n",
       "    <tr>\n",
       "      <th>2</th>\n",
       "      <td>Volvo</td>\n",
       "      <td>black</td>\n",
       "      <td>7</td>\n",
       "      <td>86</td>\n",
       "      <td>Y</td>\n",
       "    </tr>\n",
       "    <tr>\n",
       "      <th>3</th>\n",
       "      <td>VW</td>\n",
       "      <td>gray</td>\n",
       "      <td>8</td>\n",
       "      <td>87</td>\n",
       "      <td>N</td>\n",
       "    </tr>\n",
       "    <tr>\n",
       "      <th>4</th>\n",
       "      <td>VW</td>\n",
       "      <td>white</td>\n",
       "      <td>7</td>\n",
       "      <td>88</td>\n",
       "      <td>Y</td>\n",
       "    </tr>\n",
       "  </tbody>\n",
       "</table>\n",
       "</div>"
      ],
      "text/plain": [
       "   Carname  Color  Age  Speed  AutoPass\n",
       "0  Carname  Color  Age  Speed  AutoPass\n",
       "1      BMW    red    5     99         Y\n",
       "2    Volvo  black    7     86         Y\n",
       "3       VW   gray    8     87         N\n",
       "4       VW  white    7     88         Y"
      ]
     },
     "execution_count": 14,
     "metadata": {},
     "output_type": "execute_result"
    }
   ],
   "source": [
    "# show the first 5 rows\n",
    "df.head()"
   ]
  },
  {
   "cell_type": "code",
   "execution_count": 24,
   "id": "806c0a71-8305-4ae7-a004-f9cc9017235d",
   "metadata": {
    "tags": []
   },
   "outputs": [],
   "source": [
    "# remove the first row of the dataframe\n",
    "# select all rows excluding the first row and assign it back to the dataframe\n",
    "df = df.loc[1:]"
   ]
  },
  {
   "cell_type": "code",
   "execution_count": 25,
   "id": "295db5ee-f98b-43cc-ba91-9ebe37dd932d",
   "metadata": {
    "tags": []
   },
   "outputs": [
    {
     "data": {
      "text/html": [
       "<div>\n",
       "<style scoped>\n",
       "    .dataframe tbody tr th:only-of-type {\n",
       "        vertical-align: middle;\n",
       "    }\n",
       "\n",
       "    .dataframe tbody tr th {\n",
       "        vertical-align: top;\n",
       "    }\n",
       "\n",
       "    .dataframe thead th {\n",
       "        text-align: right;\n",
       "    }\n",
       "</style>\n",
       "<table border=\"1\" class=\"dataframe\">\n",
       "  <thead>\n",
       "    <tr style=\"text-align: right;\">\n",
       "      <th></th>\n",
       "      <th>Carname</th>\n",
       "      <th>Color</th>\n",
       "      <th>Age</th>\n",
       "      <th>Speed</th>\n",
       "      <th>AutoPass</th>\n",
       "    </tr>\n",
       "  </thead>\n",
       "  <tbody>\n",
       "    <tr>\n",
       "      <th>1</th>\n",
       "      <td>BMW</td>\n",
       "      <td>red</td>\n",
       "      <td>5</td>\n",
       "      <td>99</td>\n",
       "      <td>Y</td>\n",
       "    </tr>\n",
       "    <tr>\n",
       "      <th>2</th>\n",
       "      <td>Volvo</td>\n",
       "      <td>black</td>\n",
       "      <td>7</td>\n",
       "      <td>86</td>\n",
       "      <td>Y</td>\n",
       "    </tr>\n",
       "    <tr>\n",
       "      <th>3</th>\n",
       "      <td>VW</td>\n",
       "      <td>gray</td>\n",
       "      <td>8</td>\n",
       "      <td>87</td>\n",
       "      <td>N</td>\n",
       "    </tr>\n",
       "    <tr>\n",
       "      <th>4</th>\n",
       "      <td>VW</td>\n",
       "      <td>white</td>\n",
       "      <td>7</td>\n",
       "      <td>88</td>\n",
       "      <td>Y</td>\n",
       "    </tr>\n",
       "    <tr>\n",
       "      <th>5</th>\n",
       "      <td>Ford</td>\n",
       "      <td>white</td>\n",
       "      <td>2</td>\n",
       "      <td>111</td>\n",
       "      <td>Y</td>\n",
       "    </tr>\n",
       "  </tbody>\n",
       "</table>\n",
       "</div>"
      ],
      "text/plain": [
       "  Carname  Color Age Speed AutoPass\n",
       "1     BMW    red   5    99        Y\n",
       "2   Volvo  black   7    86        Y\n",
       "3      VW   gray   8    87        N\n",
       "4      VW  white   7    88        Y\n",
       "5    Ford  white   2   111        Y"
      ]
     },
     "execution_count": 25,
     "metadata": {},
     "output_type": "execute_result"
    }
   ],
   "source": [
    "# show the first rows of the dataframe\n",
    "df.head()"
   ]
  },
  {
   "cell_type": "code",
   "execution_count": 27,
   "id": "2dd4fa5d-39b7-4cde-9de6-7eeb992c001c",
   "metadata": {
    "tags": []
   },
   "outputs": [],
   "source": [
    "# save to a csv file\n",
    "df.to_csv('data/dataset.csv', index=False)"
   ]
  },
  {
   "cell_type": "code",
   "execution_count": 30,
   "id": "4a66502e-dbce-4003-9379-a659d59879b1",
   "metadata": {},
   "outputs": [
    {
     "data": {
      "text/plain": [
       "Color\n",
       "white    5\n",
       "gray     3\n",
       "red      2\n",
       "black    2\n",
       "blue     1\n",
       "Name: count, dtype: int64"
      ]
     },
     "execution_count": 30,
     "metadata": {},
     "output_type": "execute_result"
    }
   ],
   "source": [
    "df['Color'].value_counts()"
   ]
  },
  {
   "cell_type": "code",
   "execution_count": 37,
   "id": "dfec2c79-e8fa-4442-8ee1-db7272509225",
   "metadata": {
    "tags": []
   },
   "outputs": [
    {
     "name": "stdout",
     "output_type": "stream",
     "text": [
      "<class 'pandas.core.frame.DataFrame'>\n",
      "RangeIndex: 13 entries, 1 to 13\n",
      "Data columns (total 5 columns):\n",
      " #   Column    Non-Null Count  Dtype \n",
      "---  ------    --------------  ----- \n",
      " 0   Carname   13 non-null     object\n",
      " 1   Color     13 non-null     object\n",
      " 2   Age       13 non-null     object\n",
      " 3   Speed     13 non-null     object\n",
      " 4   AutoPass  13 non-null     object\n",
      "dtypes: object(5)\n",
      "memory usage: 652.0+ bytes\n"
     ]
    }
   ],
   "source": [
    "df.info()"
   ]
  },
  {
   "cell_type": "code",
   "execution_count": 40,
   "id": "468a8d66-5d2c-4d29-96e4-8dd8573bab60",
   "metadata": {
    "tags": []
   },
   "outputs": [],
   "source": [
    "df = df.astype({'Speed':'int64', 'Age':'int64'})"
   ]
  },
  {
   "cell_type": "code",
   "execution_count": 45,
   "id": "69133baf-9cf5-4d12-9577-dd43f6934baf",
   "metadata": {
    "tags": []
   },
   "outputs": [
    {
     "data": {
      "text/html": [
       "<div>\n",
       "<style scoped>\n",
       "    .dataframe tbody tr th:only-of-type {\n",
       "        vertical-align: middle;\n",
       "    }\n",
       "\n",
       "    .dataframe tbody tr th {\n",
       "        vertical-align: top;\n",
       "    }\n",
       "\n",
       "    .dataframe thead th {\n",
       "        text-align: right;\n",
       "    }\n",
       "</style>\n",
       "<table border=\"1\" class=\"dataframe\">\n",
       "  <thead>\n",
       "    <tr style=\"text-align: right;\">\n",
       "      <th></th>\n",
       "      <th>Carname</th>\n",
       "      <th>Color</th>\n",
       "      <th>Age</th>\n",
       "      <th>Speed</th>\n",
       "      <th>AutoPass</th>\n",
       "    </tr>\n",
       "  </thead>\n",
       "  <tbody>\n",
       "    <tr>\n",
       "      <th>1</th>\n",
       "      <td>BMW</td>\n",
       "      <td>red</td>\n",
       "      <td>5</td>\n",
       "      <td>99</td>\n",
       "      <td>Y</td>\n",
       "    </tr>\n",
       "    <tr>\n",
       "      <th>2</th>\n",
       "      <td>Volvo</td>\n",
       "      <td>black</td>\n",
       "      <td>7</td>\n",
       "      <td>86</td>\n",
       "      <td>Y</td>\n",
       "    </tr>\n",
       "    <tr>\n",
       "      <th>3</th>\n",
       "      <td>VW</td>\n",
       "      <td>gray</td>\n",
       "      <td>8</td>\n",
       "      <td>87</td>\n",
       "      <td>N</td>\n",
       "    </tr>\n",
       "    <tr>\n",
       "      <th>4</th>\n",
       "      <td>VW</td>\n",
       "      <td>white</td>\n",
       "      <td>7</td>\n",
       "      <td>88</td>\n",
       "      <td>Y</td>\n",
       "    </tr>\n",
       "    <tr>\n",
       "      <th>5</th>\n",
       "      <td>Ford</td>\n",
       "      <td>white</td>\n",
       "      <td>2</td>\n",
       "      <td>111</td>\n",
       "      <td>Y</td>\n",
       "    </tr>\n",
       "    <tr>\n",
       "      <th>7</th>\n",
       "      <td>Tesla</td>\n",
       "      <td>red</td>\n",
       "      <td>2</td>\n",
       "      <td>103</td>\n",
       "      <td>Y</td>\n",
       "    </tr>\n",
       "    <tr>\n",
       "      <th>9</th>\n",
       "      <td>Volvo</td>\n",
       "      <td>gray</td>\n",
       "      <td>4</td>\n",
       "      <td>94</td>\n",
       "      <td>N</td>\n",
       "    </tr>\n",
       "    <tr>\n",
       "      <th>13</th>\n",
       "      <td>Toyota</td>\n",
       "      <td>blue</td>\n",
       "      <td>6</td>\n",
       "      <td>86</td>\n",
       "      <td>Y</td>\n",
       "    </tr>\n",
       "  </tbody>\n",
       "</table>\n",
       "</div>"
      ],
      "text/plain": [
       "   Carname  Color  Age  Speed AutoPass\n",
       "1      BMW    red    5     99        Y\n",
       "2    Volvo  black    7     86        Y\n",
       "3       VW   gray    8     87        N\n",
       "4       VW  white    7     88        Y\n",
       "5     Ford  white    2    111        Y\n",
       "7    Tesla    red    2    103        Y\n",
       "9    Volvo   gray    4     94        N\n",
       "13  Toyota   blue    6     86        Y"
      ]
     },
     "execution_count": 45,
     "metadata": {},
     "output_type": "execute_result"
    }
   ],
   "source": [
    "df[df.Age < 9]"
   ]
  },
  {
   "cell_type": "code",
   "execution_count": null,
   "id": "40bff099-f1b3-4398-9918-979f1eba5f3c",
   "metadata": {},
   "outputs": [],
   "source": []
  }
 ],
 "metadata": {
  "kernelspec": {
   "display_name": "Python 3 (ipykernel)",
   "language": "python",
   "name": "python3"
  },
  "language_info": {
   "codemirror_mode": {
    "name": "ipython",
    "version": 3
   },
   "file_extension": ".py",
   "mimetype": "text/x-python",
   "name": "python",
   "nbconvert_exporter": "python",
   "pygments_lexer": "ipython3",
   "version": "3.11.5"
  }
 },
 "nbformat": 4,
 "nbformat_minor": 5
}
