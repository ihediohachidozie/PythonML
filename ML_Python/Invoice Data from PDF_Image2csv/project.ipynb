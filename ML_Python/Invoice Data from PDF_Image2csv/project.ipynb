{
 "cells": [
  {
   "cell_type": "code",
   "execution_count": 74,
   "id": "bcf19f21-b54f-41ce-bbed-36d592740c19",
   "metadata": {
    "tags": []
   },
   "outputs": [],
   "source": [
    "# import glob \n",
    "# Get all PDF files in the invoices folder\n",
    "# files = glob.glob('invoices/*.pdf')"
   ]
  },
  {
   "cell_type": "code",
   "execution_count": 1,
   "id": "149c61b7-7818-4e2d-8820-92ff6a738f57",
   "metadata": {
    "tags": []
   },
   "outputs": [],
   "source": [
    "import PyPDF2, re"
   ]
  },
  {
   "cell_type": "code",
   "execution_count": 23,
   "id": "ed3e5843-769d-4cae-b256-486c6ab355c7",
   "metadata": {
    "tags": []
   },
   "outputs": [],
   "source": [
    "# Reading, creating a pdf file object and extracting the text\n",
    "pages = []\n",
    "with open('data/MIMACS_End_of_Survey_Info_Document_es_US.pdf', 'rb') as file:\n",
    "    pdfReader = PyPDF2.PdfReader(file)\n",
    "    for x in range(len(pdfReader.pages)):\n",
    "        pageObj = pdfReader.pages[x]\n",
    "        pages.append(pageObj.extract_text())\n",
    "    "
   ]
  },
  {
   "cell_type": "code",
   "execution_count": 24,
   "id": "7dd26cb3-f62f-4a75-993a-0f0aced74bbe",
   "metadata": {
    "tags": []
   },
   "outputs": [
    {
     "data": {
      "text/plain": [
       "6"
      ]
     },
     "execution_count": 24,
     "metadata": {},
     "output_type": "execute_result"
    }
   ],
   "source": [
    "# show total page number\n",
    "len(pages)"
   ]
  },
  {
   "cell_type": "code",
   "execution_count": 44,
   "id": "bd487884-295d-4f90-9cca-ccb3877a0e3d",
   "metadata": {
    "tags": []
   },
   "outputs": [],
   "source": [
    "file = pages[0].split('\\n')"
   ]
  },
  {
   "cell_type": "code",
   "execution_count": 47,
   "id": "e76dfd91-7468-4b8f-b13a-53d880f977c9",
   "metadata": {
    "tags": []
   },
   "outputs": [
    {
     "data": {
      "text/plain": [
       "list[{'Participants will be compensated for completing surveys. The amount of compensation will be based on ', 'participate. You may discuss the study with your family and friends.   ', 'should take approximately 20 -40 minutes, and your completion of the survey will be considered ', 'DESCRIPTION OF YOUR INVOLVEMENT   ', 'the completion incentive for each survey before you agree to or defer participation.   ', 'important decisions about community investments and public policy by conductin g periodic surveys of ', 'completing each survey should take approximately 20 -40 minutes.   ', ' ', 'potential future waves of the study.   ', 'participation in each online survey will be considered your consent to participate. We estimate ', 'We plan to publish the results of this study. We will not include any information that would identify you. ', 'Principal Investigators:  Elisabeth Gerber and Jeffrey Morenoff   ', 'If you agree to participate in t his study, we will ask you to:   ', 'has regularly conducted surveys  since 2016 (for more information, see detroitsurvey.umich.edu).  ', 'CONFIDENTIALITY   ', 'Communities Study (DMACS), a representative panel survey of adult residents of the city of Detroit that ', 'There shou ld be minimal or no risk or discomfort from your participation in this research.   ', 'COMPENSATION FOR PARTICIPATION   ', 'survey with a telephone interviewer upon request. Again, we estimate completing this survey ', 'your consent to participate.   ', 'benefit from the knowledge obtained in this study, as results from this stu dy can help prioritize the ', 'the length of the survey and availabili ty of funding from the survey sponsor. You will be made aware of ', 'Your household was scientifically selected to represent the area, in order to create a demographically ', 'Michigan Metro Area Communities Study   ', 'by a pre -assigned study ID number. Inform ation linking your identity to the data will be stored in ', 'this form and ask questions about anything you do not understand before deciding whether or not to ', 'needs of the community and provide a clear portrait of things residents would most like to see change. ', 'representative panel of participants. Your participat ion is voluntary. You should read the information on ', 'This in turn can help inform public policy decisions that may affect you.  ', '1. Join a panel of survey respondents who will be invited to take periodic online surveys. Your ', 'payment for participating in this study wave and so we will be able to invite you to participate in ', 'Your privacy will be protected and your research records will be confidential. Your data will be identified ', 'Policy   ', 'Although you may not receive direct benefit from your participation, you and others may ultimately ', 'Professors at the University of Michigan Gerald R. Ford School of Public ', '3. We will ask for your name and your contact information so we will be able to send you a ', 'The Michigan Metro Area Communities Study (MIMACS) seeks to assist Michigan communities making ', 'adult residents of the area. MIMACS builds off the successful deployment of the Detroit Metro Area ', '2. Should you not have internet access or be unable to take the survey online, you may take the ', 'RISKS AND DISCOMFORTS OF PARTICIPATION   ', 'separate password -protected files at the University of Michigan, and will only be accessible to ', 'BENEFITS OF PARTICIPATION   '}]"
      ]
     },
     "execution_count": 47,
     "metadata": {},
     "output_type": "execute_result"
    }
   ],
   "source": [
    "list[set(file)]"
   ]
  },
  {
   "cell_type": "code",
   "execution_count": 102,
   "id": "cbe09f19-cf0f-40cc-aa32-74d42fc6b14e",
   "metadata": {
    "tags": []
   },
   "outputs": [
    {
     "data": {
      "text/plain": [
       "'Newton'"
      ]
     },
     "execution_count": 102,
     "metadata": {},
     "output_type": "execute_result"
    }
   ],
   "source": [
    "m = re.match(r\"(\\w+) : (\\w+)\", \"Isaac : Newton, physicist\")\n",
    "m.group(2) \n"
   ]
  },
  {
   "cell_type": "code",
   "execution_count": 6,
   "id": "0429ba5e-8829-4150-9484-6b6cf6e33298",
   "metadata": {
    "tags": []
   },
   "outputs": [
    {
     "name": "stdout",
     "output_type": "stream",
     "text": [
      "\n"
     ]
    }
   ],
   "source": [
    "# looping through the pages\n",
    "\n",
    "for count, ele in enumerate(pages):\n",
    "    print(ele)\n",
    "    break"
   ]
  },
  {
   "cell_type": "code",
   "execution_count": null,
   "id": "ef10840f-ff28-410d-b898-06f4c8ac73d2",
   "metadata": {},
   "outputs": [],
   "source": []
  }
 ],
 "metadata": {
  "kernelspec": {
   "display_name": "Python 3 (ipykernel)",
   "language": "python",
   "name": "python3"
  },
  "language_info": {
   "codemirror_mode": {
    "name": "ipython",
    "version": 3
   },
   "file_extension": ".py",
   "mimetype": "text/x-python",
   "name": "python",
   "nbconvert_exporter": "python",
   "pygments_lexer": "ipython3",
   "version": "3.11.5"
  }
 },
 "nbformat": 4,
 "nbformat_minor": 5
}
