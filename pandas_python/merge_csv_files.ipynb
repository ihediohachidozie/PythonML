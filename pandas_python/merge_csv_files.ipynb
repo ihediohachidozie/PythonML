{
 "cells": [
  {
   "cell_type": "markdown",
   "id": "063c2132-2e6f-40c9-9150-133ee3300dc6",
   "metadata": {},
   "source": [
    "## Merging multiple CSV files on columns"
   ]
  },
  {
   "cell_type": "markdown",
   "id": "c2a16563-4ee7-425f-951a-6bd21f29ce8e",
   "metadata": {},
   "source": [
    "#### Method 1"
   ]
  },
  {
   "cell_type": "code",
   "execution_count": 5,
   "id": "c016ea5d-129b-4be3-9bc1-d65c9fee73b6",
   "metadata": {
    "tags": []
   },
   "outputs": [],
   "source": [
    "import pandas as pd\n",
    "import csv"
   ]
  },
  {
   "cell_type": "code",
   "execution_count": 4,
   "id": "da0e0396-0300-4db7-8a2b-b91181b13da7",
   "metadata": {},
   "outputs": [],
   "source": [
    "master_list = []\n",
    "for year in range(2021, 2024):\n",
    "    df = pd.read_csv(f'data/merge/salaries-{year}.csv')\n",
    "    # check column to fit merge\n",
    "    if df.columns[0] == 'years':\n",
    "        df = df.rename({df.columns[0]: 'years_of_experience'}, axis='columns')\n",
    "    \n",
    "    data = df[['years_of_experience','salary']]\n",
    "    data.insert(0, 'Year', year)\n",
    "    master_list.append(data)\n",
    "        \n",
    "main_df = pd.concat(master_list, ignore_index=True) \n",
    "# rename columns ...\n",
    "main_df = main_df.rename({main_df.columns[1]: 'Years of Experience', main_df.columns[2]: 'Salary', }, axis='columns')\n",
    "main_df.to_csv('data/merge/all_salaries1.csv', index=False)"
   ]
  },
  {
   "cell_type": "markdown",
   "id": "84469649-5858-47f3-83a0-db20313cfbe7",
   "metadata": {
    "tags": []
   },
   "source": [
    "#### Method 2"
   ]
  },
  {
   "cell_type": "code",
   "execution_count": 3,
   "id": "4601c721-b655-41ef-8119-d8f426da1047",
   "metadata": {},
   "outputs": [],
   "source": [
    "csv_frames = []\n",
    "for year in range(2021, 2024):\n",
    "    filename = f'data/merge/salaries-{year}.csv'\n",
    "    with open(filename) as csvfile:\n",
    "        reader = csv.DictReader(csvfile)\n",
    "        for row in reader:\n",
    "            csv_frames.append(\n",
    "                [\n",
    "                    year,\n",
    "                    row['years_of_experience'] if 'years' not in row else row['years'], # observe this code line ...\n",
    "                    row['salary']\n",
    "                ]\n",
    "            )\n",
    "df = pd.DataFrame(csv_frames, columns=['Year', 'Years_of_experience', 'Salary'])\n",
    "df.to_csv('data/merge/all_salaries2.csv', index=False)"
   ]
  }
 ],
 "metadata": {
  "kernelspec": {
   "display_name": "Python 3 (ipykernel)",
   "language": "python",
   "name": "python3"
  },
  "language_info": {
   "codemirror_mode": {
    "name": "ipython",
    "version": 3
   },
   "file_extension": ".py",
   "mimetype": "text/x-python",
   "name": "python",
   "nbconvert_exporter": "python",
   "pygments_lexer": "ipython3",
   "version": "3.11.5"
  }
 },
 "nbformat": 4,
 "nbformat_minor": 5
}
