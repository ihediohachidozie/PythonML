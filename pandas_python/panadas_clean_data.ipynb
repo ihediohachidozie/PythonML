{
 "cells": [
  {
   "cell_type": "raw",
   "id": "5e82da70-58f0-44bb-aab5-75e636ce9336",
   "metadata": {},
   "source": [
    "Data Cleaning\n",
    "This mean fixing bad data in your data set.\n",
    "Bad data can be;\n",
    "Empty cells\n",
    "Data in wrong formats\n",
    "Wrong data\n",
    "Duplicates"
   ]
  },
  {
   "cell_type": "code",
   "execution_count": 5,
   "id": "0cfa9d79-136b-4a38-8d9e-cd62eb689e13",
   "metadata": {
    "tags": []
   },
   "outputs": [],
   "source": [
    "import pandas as pd"
   ]
  },
  {
   "cell_type": "code",
   "execution_count": 34,
   "id": "3503f223-0ec5-49d3-a400-7a6ad6cc3109",
   "metadata": {
    "tags": []
   },
   "outputs": [],
   "source": [
    "df = pd.read_csv('data/data.csv')"
   ]
  },
  {
   "cell_type": "code",
   "execution_count": 21,
   "id": "094e1b7a-392e-4f84-8607-98db61475a54",
   "metadata": {
    "tags": []
   },
   "outputs": [],
   "source": [
    "# df # original length here is 169"
   ]
  },
  {
   "cell_type": "code",
   "execution_count": 15,
   "id": "bc05153b-813a-42f5-8fa9-a13fada3a1af",
   "metadata": {
    "tags": []
   },
   "outputs": [],
   "source": [
    "df1 = df.dropna() # drop rows with empty cells and returns a new dataframe without changing the original one"
   ]
  },
  {
   "cell_type": "code",
   "execution_count": 16,
   "id": "4400d86c-b020-4268-8116-9473e4eb6e94",
   "metadata": {
    "tags": []
   },
   "outputs": [],
   "source": [
    "new_df = df.copy()"
   ]
  },
  {
   "cell_type": "code",
   "execution_count": 22,
   "id": "4be6f8cc-7838-4004-b7a7-3b7c320bb1c6",
   "metadata": {
    "tags": []
   },
   "outputs": [],
   "source": [
    "new_df.dropna(inplace=True) # removes all rows with Null cells"
   ]
  },
  {
   "cell_type": "code",
   "execution_count": 25,
   "id": "75b91685-8416-4bc0-b071-9e2902cedebc",
   "metadata": {},
   "outputs": [],
   "source": [
    "# The fillna() method allows us to replace empty cells with a value:\n",
    "# Replace NULL values with number 130\n",
    "df.fillna(130, inplace=True)\n",
    "# Replace only for a specfic column\n",
    "# df[\"Calories\"].fillna(130, inplace=True)"
   ]
  },
  {
   "cell_type": "code",
   "execution_count": 28,
   "id": "2998882a-0ccb-4ff0-a2a4-d8a44b1e2e4f",
   "metadata": {
    "tags": []
   },
   "outputs": [
    {
     "name": "stdout",
     "output_type": "stream",
     "text": [
      "<class 'pandas.core.frame.DataFrame'>\n",
      "RangeIndex: 169 entries, 0 to 168\n",
      "Data columns (total 4 columns):\n",
      " #   Column    Non-Null Count  Dtype  \n",
      "---  ------    --------------  -----  \n",
      " 0   Duration  169 non-null    int64  \n",
      " 1   Pulse     169 non-null    int64  \n",
      " 2   Maxpulse  169 non-null    int64  \n",
      " 3   Calories  169 non-null    float64\n",
      "dtypes: float64(1), int64(3)\n",
      "memory usage: 5.4 KB\n"
     ]
    }
   ],
   "source": [
    "df.info()"
   ]
  },
  {
   "cell_type": "raw",
   "id": "dda914ce-4f8d-4408-a8e3-9c9168aa1644",
   "metadata": {
    "tags": []
   },
   "source": [
    "Replace using the Mean, Medium and Mode Values\n",
    "A common way to replace empty cells, is to calculate the mean, median or mode value of the column.\n",
    "Pandas uses the mean() median() and mode() methods to calculate the respective values for a specified column:"
   ]
  },
  {
   "cell_type": "code",
   "execution_count": 33,
   "id": "ad895bd6-78ea-49df-8e7f-b2f00321c202",
   "metadata": {
    "tags": []
   },
   "outputs": [
    {
     "name": "stdout",
     "output_type": "stream",
     "text": [
      "<class 'pandas.core.frame.DataFrame'>\n",
      "RangeIndex: 169 entries, 0 to 168\n",
      "Data columns (total 4 columns):\n",
      " #   Column    Non-Null Count  Dtype  \n",
      "---  ------    --------------  -----  \n",
      " 0   Duration  169 non-null    int64  \n",
      " 1   Pulse     169 non-null    int64  \n",
      " 2   Maxpulse  169 non-null    int64  \n",
      " 3   Calories  169 non-null    float64\n",
      "dtypes: float64(1), int64(3)\n",
      "memory usage: 5.4 KB\n"
     ]
    }
   ],
   "source": [
    "x = df[\"Calories\"].mean()\n",
    "df[\"Calories\"].fillna(x, inplace=True)"
   ]
  },
  {
   "cell_type": "code",
   "execution_count": 43,
   "id": "7233c2e6-2097-4aa4-9b6e-ae2bc9ddd0d6",
   "metadata": {
    "tags": []
   },
   "outputs": [
    {
     "data": {
      "text/plain": [
       "318.6"
      ]
     },
     "execution_count": 43,
     "metadata": {},
     "output_type": "execute_result"
    }
   ],
   "source": [
    "df['Calories'].median()"
   ]
  },
  {
   "cell_type": "code",
   "execution_count": 45,
   "id": "ef612b9b-6945-46fe-9780-c8d9cc09b6a8",
   "metadata": {
    "tags": []
   },
   "outputs": [
    {
     "data": {
      "text/plain": [
       "300.0"
      ]
     },
     "execution_count": 45,
     "metadata": {},
     "output_type": "execute_result"
    }
   ],
   "source": [
    "df['Calories'].mode()[0]"
   ]
  },
  {
   "cell_type": "code",
   "execution_count": null,
   "id": "b0cc4836-7ba7-4473-b910-8fd8f1308203",
   "metadata": {},
   "outputs": [],
   "source": []
  }
 ],
 "metadata": {
  "kernelspec": {
   "display_name": "Python 3 (ipykernel)",
   "language": "python",
   "name": "python3"
  },
  "language_info": {
   "codemirror_mode": {
    "name": "ipython",
    "version": 3
   },
   "file_extension": ".py",
   "mimetype": "text/x-python",
   "name": "python",
   "nbconvert_exporter": "python",
   "pygments_lexer": "ipython3",
   "version": "3.11.5"
  }
 },
 "nbformat": 4,
 "nbformat_minor": 5
}
