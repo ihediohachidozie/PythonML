{
 "cells": [
  {
   "cell_type": "code",
   "execution_count": 1,
   "id": "3e0e5b56-17b7-483f-97ee-d0c62d6f6d9f",
   "metadata": {
    "tags": []
   },
   "outputs": [],
   "source": [
    "import pandas as pd"
   ]
  },
  {
   "cell_type": "code",
   "execution_count": 14,
   "id": "c8231818-6c61-4458-a719-b2283ced4414",
   "metadata": {
    "tags": []
   },
   "outputs": [
    {
     "data": {
      "text/plain": [
       "3"
      ]
     },
     "execution_count": 14,
     "metadata": {},
     "output_type": "execute_result"
    }
   ],
   "source": [
    "# Create a simple pandas series from a list\n",
    "a = [1,7,3]\n",
    "myvar = pd.Series(a)\n",
    "# myvar\n",
    "myvar[2]"
   ]
  },
  {
   "cell_type": "code",
   "execution_count": 15,
   "id": "526cd545-461b-46a4-9072-3557e6688148",
   "metadata": {
    "tags": []
   },
   "outputs": [
    {
     "data": {
      "text/plain": [
       "7"
      ]
     },
     "execution_count": 15,
     "metadata": {},
     "output_type": "execute_result"
    }
   ],
   "source": [
    "# Create labels with index\n",
    "a = [1,7,3]\n",
    "myvar = pd.Series(a, index = ['X', 'Y', 'Z'])\n",
    "# myvar\n",
    "myvar['Y']"
   ]
  },
  {
   "cell_type": "code",
   "execution_count": 17,
   "id": "19c6cd02-f22e-48c5-bca9-ce3033ae50cd",
   "metadata": {
    "tags": []
   },
   "outputs": [
    {
     "data": {
      "text/plain": [
       "day1    420\n",
       "day2    300\n",
       "days    390\n",
       "dtype: int64"
      ]
     },
     "execution_count": 17,
     "metadata": {},
     "output_type": "execute_result"
    }
   ],
   "source": [
    "# Key/Value Objects as Series\n",
    "# Note: The keys of the dictionary become the labels.\n",
    "calories = {\"day1\": 420, \"day2\": 300, \"days\":390}\n",
    "myvar = pd.Series(calories)\n",
    "myvar"
   ]
  },
  {
   "cell_type": "code",
   "execution_count": 18,
   "id": "453573dd-1946-4a7d-aff9-2797627a708d",
   "metadata": {
    "tags": []
   },
   "outputs": [
    {
     "data": {
      "text/plain": [
       "day1    420\n",
       "day2    300\n",
       "dtype: int64"
      ]
     },
     "execution_count": 18,
     "metadata": {},
     "output_type": "execute_result"
    }
   ],
   "source": [
    "# Create a Series using only data from \"day1\" and \"day2\":\n",
    "myvar = pd.Series(calories, index=['day1', 'day2'])\n",
    "myvar"
   ]
  },
  {
   "cell_type": "code",
   "execution_count": null,
   "id": "1b9a4853-1d10-490b-814e-1106144be124",
   "metadata": {},
   "outputs": [],
   "source": []
  }
 ],
 "metadata": {
  "kernelspec": {
   "display_name": "Python 3 (ipykernel)",
   "language": "python",
   "name": "python3"
  },
  "language_info": {
   "codemirror_mode": {
    "name": "ipython",
    "version": 3
   },
   "file_extension": ".py",
   "mimetype": "text/x-python",
   "name": "python",
   "nbconvert_exporter": "python",
   "pygments_lexer": "ipython3",
   "version": "3.11.5"
  }
 },
 "nbformat": 4,
 "nbformat_minor": 5
}
