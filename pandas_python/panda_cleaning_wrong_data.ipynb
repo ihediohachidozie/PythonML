{
 "cells": [
  {
   "cell_type": "code",
   "execution_count": 1,
   "id": "b4bf61f1-c63b-4d26-a864-455a662e1a59",
   "metadata": {
    "tags": []
   },
   "outputs": [],
   "source": [
    "import pandas as pd"
   ]
  },
  {
   "cell_type": "code",
   "execution_count": 2,
   "id": "13b925b2-848d-43aa-981f-4730fe375e86",
   "metadata": {
    "tags": []
   },
   "outputs": [],
   "source": [
    "df = pd.read_csv('data/raw_data.csv')"
   ]
  },
  {
   "cell_type": "code",
   "execution_count": 5,
   "id": "7137b8d6-c062-4f8b-93a1-93a37b871b3a",
   "metadata": {
    "tags": []
   },
   "outputs": [],
   "source": [
    "# Replacing value of a dataframe cell\n",
    "df.loc[7, 'Duration'] = 45"
   ]
  },
  {
   "cell_type": "raw",
   "id": "a652807a-03f8-4872-8ff8-22e8a0af004d",
   "metadata": {},
   "source": [
    "To replace wrong data for larger data sets you can create some rules, \n",
    "e.g. set some boundaries for legal values, and replace any values \n",
    "that are outside of the boundaries."
   ]
  },
  {
   "cell_type": "code",
   "execution_count": null,
   "id": "f179137e-25c1-4aed-b906-131576e2a9e4",
   "metadata": {},
   "outputs": [],
   "source": [
    "for x in df.index:\n",
    "    if df.loc[x, 'Duration'] > 120:\n",
    "        df.loc[x, 'Duration'] = 120"
   ]
  },
  {
   "cell_type": "raw",
   "id": "4c156b3c-7501-41d3-81e0-6e573f184af6",
   "metadata": {},
   "source": [
    "To Remove rows\n",
    "Another way of handling wrong data is to remove the rows that contains wrong data.\n",
    "This way you do not have to find out what to replace them with, and there is a good \n",
    "chance you do not need them to do your analyses."
   ]
  },
  {
   "cell_type": "code",
   "execution_count": null,
   "id": "8a37375b-f62d-4dbc-8d61-97c309be6a5e",
   "metadata": {},
   "outputs": [],
   "source": [
    "for x in df.index:\n",
    "    if df.loc[x, 'Duration'] > 120:\n",
    "        df.drop(x, inplace=True)"
   ]
  }
 ],
 "metadata": {
  "kernelspec": {
   "display_name": "Python 3 (ipykernel)",
   "language": "python",
   "name": "python3"
  },
  "language_info": {
   "codemirror_mode": {
    "name": "ipython",
    "version": 3
   },
   "file_extension": ".py",
   "mimetype": "text/x-python",
   "name": "python",
   "nbconvert_exporter": "python",
   "pygments_lexer": "ipython3",
   "version": "3.11.5"
  }
 },
 "nbformat": 4,
 "nbformat_minor": 5
}
