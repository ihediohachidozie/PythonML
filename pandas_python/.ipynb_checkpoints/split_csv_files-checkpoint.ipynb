{
 "cells": [
  {
   "cell_type": "code",
   "execution_count": 1,
   "id": "b31c6560-d71d-41f2-8978-6dea921fb083",
   "metadata": {
    "tags": []
   },
   "outputs": [],
   "source": [
    "import pandas as pd"
   ]
  },
  {
   "cell_type": "code",
   "execution_count": 2,
   "id": "6c522c76-51a6-4f1e-89c4-44361d4add46",
   "metadata": {
    "tags": []
   },
   "outputs": [],
   "source": [
    "df = pd.read_csv('data/salaries.csv')"
   ]
  },
  {
   "cell_type": "code",
   "execution_count": 3,
   "id": "e7eecfb1-a269-4f53-986a-6e2adc386dee",
   "metadata": {
    "tags": []
   },
   "outputs": [],
   "source": [
    "rows_per_page = 50000\n",
    "index_list = [ x for x in range(0,(round(df.shape[0]) + rows_per_page), rows_per_page - 1)]"
   ]
  },
  {
   "cell_type": "code",
   "execution_count": 4,
   "id": "62b04724-666c-4667-98a7-95596347efc4",
   "metadata": {
    "tags": []
   },
   "outputs": [],
   "source": [
    "for a in range(len(index_list)):\n",
    "    try:\n",
    "        df.loc[index_list[a]:index_list[a+1]].to_csv(f'data/split/salaries_{a}.csv', index=False)\n",
    "    except:\n",
    "        pass"
   ]
  },
  {
   "cell_type": "code",
   "execution_count": null,
   "id": "e0ea8156-dd97-4d25-9f25-5f58a8cbdb37",
   "metadata": {},
   "outputs": [],
   "source": []
  }
 ],
 "metadata": {
  "kernelspec": {
   "display_name": "Python 3 (ipykernel)",
   "language": "python",
   "name": "python3"
  },
  "language_info": {
   "codemirror_mode": {
    "name": "ipython",
    "version": 3
   },
   "file_extension": ".py",
   "mimetype": "text/x-python",
   "name": "python",
   "nbconvert_exporter": "python",
   "pygments_lexer": "ipython3",
   "version": "3.11.5"
  }
 },
 "nbformat": 4,
 "nbformat_minor": 5
}
