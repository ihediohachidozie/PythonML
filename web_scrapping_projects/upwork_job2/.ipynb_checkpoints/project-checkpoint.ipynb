{
 "cells": [
  {
   "cell_type": "raw",
   "id": "252d82ff-e4f4-4e97-b195-4248b245520f",
   "metadata": {},
   "source": [
    "I need to have some data of exhibitor collected from a website. \n",
    "https://ambiente.messefrankfurt.com/frankfurt/en/exhibitor-search.html\n",
    "Data needed:\n",
    "1. Link to Ambiente profile page\n",
    "2. Hall\n",
    "3. Stand\n",
    "4. Company name\n",
    "5. Company website URL\n",
    "6. Country of origin\n",
    "7. General contact email\n",
    "8. If available: 'Our contact persons' - name\n",
    "9. If available: 'Our contact persons' - mail address\n",
    "10. If available: 'Our contact persons' - Role\n",
    "11. If available: link to Linkedin page\n",
    "12. Keywords (under about about us)"
   ]
  },
  {
   "cell_type": "code",
   "execution_count": 218,
   "id": "2f45997b-0a8f-469a-ae90-625704d47690",
   "metadata": {
    "tags": []
   },
   "outputs": [],
   "source": [
    "import requests, json, string\n",
    "import pandas as pd"
   ]
  },
  {
   "cell_type": "code",
   "execution_count": 219,
   "id": "28a63732-0d60-410b-9566-ff7cf58451d8",
   "metadata": {
    "tags": []
   },
   "outputs": [],
   "source": [
    "def get_response(a):\n",
    "    params = {\n",
    "        'language': 'en-GB',\n",
    "        'q': '',\n",
    "        'orderBy': 'name',\n",
    "        'pageNumber': '1',\n",
    "        'pageSize': '25',\n",
    "        'showJumpLabels': 'true',\n",
    "        'jumpLabelId': 'a',\n",
    "        'findEventVariable': 'AMBIENTE',\n",
    "    }\n",
    "\n",
    "    custom_header = {\n",
    "        'Accept': 'application/json',\n",
    "        'apikey': 'LXnMWcYQhipLAS7rImEzmZ3CkrU033FMha9cwVSngG4vbufTsAOCQQ=='\n",
    "    }\n",
    "    response = requests.get(\n",
    "        f'https://api.messefrankfurt.com/service/esb_api/exhibitor-service/api/2.1/public/exhibitor/search?language=en-GB&q&orderBy=name&pageNumber=1&pageSize=25&showJumpLabels=true&jumpLabelId={a}&findEventVariable=AMBIENTE',\n",
    "        params=params, headers=custom_header\n",
    "    )\n",
    "    return response.json()"
   ]
  },
  {
   "cell_type": "code",
   "execution_count": 220,
   "id": "c75cdaa1-69c5-4369-9442-9351380ece97",
   "metadata": {
    "tags": []
   },
   "outputs": [],
   "source": [
    "letters = string.ascii_lowercase\n",
    "master_list = []\n",
    "for letter in letters[0:5]:\n",
    "    master_list.append(get_response(letter))\n",
    "    #break"
   ]
  },
  {
   "cell_type": "code",
   "execution_count": 265,
   "id": "fa3a4b2f-bdda-42f7-9a8a-1e81bab586d4",
   "metadata": {
    "tags": []
   },
   "outputs": [],
   "source": [
    "def get_exhibitor(ex):      \n",
    "    ex_dict = {}\n",
    "    # Link to Ambiente profile page\n",
    "    link = ex['exhibitor']['rewriteId']\n",
    "    ex_dict[\"Link to Ambiente profile page\"] = f'https://ambiente.messefrankfurt.com/frankfurt/en/exhibitor-search.detail.html/{link}.html'\n",
    "     # Hall\n",
    "    ex_dict[\"Hall\"] = ex['exhibitor']['exhibition']['exhibitionHall'][0]['id']\n",
    "     # Stand\n",
    "    ex_dict[\"Stand\"] = ex['exhibitor']['exhibition']['exhibitionHall'][0]['stand'][0]['name']\n",
    "     # Company name\n",
    "    ex_dict[\"Company Name\"] = ex['exhibitor']['name']\n",
    "     # Company url\n",
    "    ex_dict[\"Company Website\"] = ex['exhibitor']['href'] \n",
    "     # Country of origin\n",
    "    ex_dict[\"Country of Origin\"] = ex['exhibitor']['address']['country']['label']\n",
    "     # General Contact email\n",
    "    ex_dict[\"General contact email\"] = ex['exhibitor']['address']['email']\n",
    "    \n",
    "     # If available: 'Our contact persons' - name\n",
    "     # If available: 'Our contact persons' - email\n",
    "     # If available: 'Our contact persons' - role\n",
    "    names = []\n",
    "    emails = []\n",
    "    roles = []\n",
    "    \n",
    "    if contacts := ex['exhibitor']['contacts']:\n",
    "        for contact in contacts:\n",
    "            names.append(f\"{contact['firstname']} {contact['lastname']}\")\n",
    "            if contact['email'] != None:\n",
    "                email.append(contact['email'])\n",
    "            if contact['department'] != None:\n",
    "                roles.append(contact['department'])\n",
    "        ex_dict[\"Our contact persons\"] = \", \".join(names) if len(names) > 0 else None\n",
    "        ex_dict[\"Email contact persons\"] = \", \".join(emails) if len(emails) > 0 else None\n",
    "       \n",
    "        ex_dict[\"Role\"] =  \", \".join(roles) if len(roles) > 0 else None\n",
    "    else:\n",
    "        ex_dict[\"Our contact persons\"] = None\n",
    "        ex_dict[\"Email contact persons\"] = None\n",
    "        ex_dict[\"Role\"] = None\n",
    "        \n",
    "     # link to linkedin page\n",
    "    if socials := ex['exhibitor']['social']:\n",
    "        for item in socials:\n",
    "            ex_dict[\"LinkedIn Page\"] = item.get('network') if item.get('network') == 'linkedin' else None\n",
    "    else:\n",
    "        ex_dict[\"LinkedIn Page\"] = None\n",
    "    \n",
    "    \n",
    "     # Keywords (under about about us)\n",
    "    ex_dict[\"Keywords\"]= \", \".join(ex['exhibitor']['keyWords'])\n",
    "    \n",
    "    return ex_dict"
   ]
  },
  {
   "cell_type": "code",
   "execution_count": 266,
   "id": "dcb9d5c7-b0a3-40f6-b097-2efec0f6efb1",
   "metadata": {
    "tags": []
   },
   "outputs": [],
   "source": [
    "company_list = []\n",
    "for ex in range(len(master_list)):\n",
    "    companies = master_list[ex]['result']['hits']\n",
    "    for company in companies:\n",
    "        company_list.append(get_exhibitor(company))\n",
    "    #break"
   ]
  },
  {
   "cell_type": "code",
   "execution_count": 267,
   "id": "bf1463e0-665e-4f44-9533-f15f28211e88",
   "metadata": {
    "tags": []
   },
   "outputs": [],
   "source": [
    "df = pd.DataFrame(company_list)"
   ]
  },
  {
   "cell_type": "code",
   "execution_count": 268,
   "id": "3c91655f-57a6-41bf-a3d1-bd04933e05e9",
   "metadata": {
    "tags": []
   },
   "outputs": [],
   "source": [
    "df.to_csv('sample.csv', index=False)"
   ]
  },
  {
   "cell_type": "code",
   "execution_count": null,
   "id": "3a307f74-9da0-4467-a711-e9d9a2369091",
   "metadata": {},
   "outputs": [],
   "source": []
  }
 ],
 "metadata": {
  "kernelspec": {
   "display_name": "Python 3 (ipykernel)",
   "language": "python",
   "name": "python3"
  },
  "language_info": {
   "codemirror_mode": {
    "name": "ipython",
    "version": 3
   },
   "file_extension": ".py",
   "mimetype": "text/x-python",
   "name": "python",
   "nbconvert_exporter": "python",
   "pygments_lexer": "ipython3",
   "version": "3.11.5"
  }
 },
 "nbformat": 4,
 "nbformat_minor": 5
}
