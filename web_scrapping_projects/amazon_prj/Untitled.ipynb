{
 "cells": [
  {
   "cell_type": "code",
   "execution_count": 12,
   "id": "b64caed6-5340-4d22-90c6-f23b8e3d9027",
   "metadata": {
    "tags": []
   },
   "outputs": [],
   "source": [
    "import requests, pandas as pd\n",
    "from bs4 import BeautifulSoup"
   ]
  },
  {
   "cell_type": "code",
   "execution_count": 44,
   "id": "f30a7153-05d0-4d5e-9e68-48dcc658ca69",
   "metadata": {
    "tags": []
   },
   "outputs": [
    {
     "data": {
      "text/plain": [
       "503"
      ]
     },
     "execution_count": 44,
     "metadata": {},
     "output_type": "execute_result"
    }
   ],
   "source": [
    "#url = \"https://www.amazon.com/Apple-MWP22AM-A-cr-AirPods-Renewed/dp/B0828BJGD2/\"\n",
    "\n",
    "headers = {\n",
    "    'User-Agent': ('Mozilla/5.0 (X11; Linux x86_64)'\n",
    "                    'AppleWebKit/537.36 (KHTML, like Gecko)'\n",
    "                    'Chrome/44.0.2403.157 Safari/537.36'),\n",
    "    'Accept-Language': 'en-US, en;q=0.9'\n",
    "}\n",
    "url = \"https://www.amazon.com/s?k=tv&rh=n%3A1266092011&ref=nb_sb_noss\"\n",
    "page1 = requests.get(url, headers=custom_header)\n",
    "page1.status_code"
   ]
  },
  {
   "cell_type": "code",
   "execution_count": null,
   "id": "f0c48b99-f32b-40bb-b8c9-7556cf0e6f83",
   "metadata": {
    "tags": []
   },
   "outputs": [],
   "source": [
    "custom_header = {\n",
    "        'Accept-Language': 'en-US,en;q=0.9',\n",
    "        'User-Agent':('Mozilla/5.0 (Windows NT 10.0; Win64; x64) AppleWebKit/537.36 (KHTML, like Gecko) Chrome/120.0.0.0 Safari/537.36')\n",
    "           }\n",
    "url = \"https://www.amazon.com/s?k=dairy%2C+cheese+%26+eggs&crid=3EDC2W7F9N0CM&pf_rd_i=learn-more&pf_rd_m=ATVPDKIKX0DER&pf_rd_p=863b8d19-a607-426b-8329-a1a90867a095&pf_rd_r=46N4YJHEKRS0EJAF4SS4&pf_rd_s=fresh-merchandised-content-12&pf_rd_t=0&sprefix=dairy+eggs+and+cheese%2Caps%2C181&ref=US_TRF_ALL_UFG_RTL_OTHER_0462984\"\n",
    "page = requests.get(url, headers=custom_header)\n",
    "page.status_code"
   ]
  },
  {
   "cell_type": "code",
   "execution_count": 34,
   "id": "df70c724-9a6d-4523-a332-7e8afcbd8675",
   "metadata": {
    "tags": []
   },
   "outputs": [],
   "source": [
    "soup = BeautifulSoup(page.text, 'html.parser')"
   ]
  },
  {
   "cell_type": "code",
   "execution_count": 42,
   "id": "6ae2c104-bbdb-4750-94fd-9050bccb8850",
   "metadata": {
    "tags": []
   },
   "outputs": [
    {
     "data": {
      "text/plain": [
       "<div class=\"a-section a-spacing-base\"><div class=\"a-section a-spacing-none puis-status-badge-container aok-relative s-grid-status-badge-container puis-expand-height\"><a class=\"a-link-normal s-underline-text s-underline-link-text s-link-style\" href=\"/gp/bestsellers/grocery/16322931/ref=sr_bs_0_16322931_1\"><span class=\"rush-component\" data-component-props='{\"asin\":\"B008YK1U16\",\"badgeType\":\"best-seller\"}' data-component-type=\"s-status-badge-component\" data-render-id=\"r2kvyrnjvkjhxj208rat3jxi91n\" data-version-id=\"v2rh3j15wdcp4q29xeaptoa72x6\"><div class=\"a-row a-badge-region\"><span aria-labelledby=\"B008YK1U16-best-seller-label B008YK1U16-best-seller-supplementary\" class=\"a-badge\" data-a-badge-supplementary-position=\"right\" data-a-badge-type=\"status\" id=\"B008YK1U16-best-seller\" role=\"group\" tabindex=\"0\"><span aria-hidden=\"true\" class=\"a-badge-label\" data-a-badge-color=\"sx-orange\" id=\"B008YK1U16-best-seller-label\"><span class=\"a-badge-label-inner a-text-ellipsis\"><span class=\"a-badge-text\" data-a-badge-color=\"sx-cloud\">Best Seller</span></span></span><span aria-hidden=\"true\" class=\"a-badge-supplementary-text a-text-ellipsis\" id=\"B008YK1U16-best-seller-supplementary\">in Mixed Nuts</span></span></div></span> </a> </div><div class=\"s-product-image-container aok-relative s-text-center s-image-overlay-grey puis-image-overlay-grey s-padding-left-small s-padding-right-small puis-spacing-small s-height-equalized puis puis-v2rh3j15wdcp4q29xeaptoa72x6\"><span class=\"rush-component\" data-component-type=\"s-product-image\" data-render-id=\"r2kvyrnjvkjhxj208rat3jxi91n\" data-version-id=\"v2rh3j15wdcp4q29xeaptoa72x6\"><a class=\"a-link-normal s-no-outline\" href=\"/sspa/click?ie=UTF8&amp;spc=MTo2NTg0MDg1MjQxMzE0MDIwOjE3MDU4Mzk1NDk6c3BfYXRmOjIwMDA5OTg4Njk2MjU5ODo6MDo6&amp;url=%2FPLANTERS-Deluxe-Plant-Based-Protein-Container%2Fdp%2FB008YK1U16%2Fref%3Dsr_1_1_sspa%3Fcrid%3D3EDC2W7F9N0CM%26keywords%3Ddairy%252C%2Bcheese%2B%2526%2Beggs%26pf_rd_i%3Dlearn-more%26pf_rd_m%3DATVPDKIKX0DER%26pf_rd_p%3D863b8d19-a607-426b-8329-a1a90867a095%26pf_rd_r%3D46N4YJHEKRS0EJAF4SS4%26pf_rd_s%3Dfresh-merchandised-content-12%26pf_rd_t%3D0%26qid%3D1705839549%26sprefix%3Ddairy%2Beggs%2Band%2Bcheese%252Caps%252C181%26sr%3D8-1-spons%26sp_csd%3Dd2lkZ2V0TmFtZT1zcF9hdGY%26psc%3D1\"><div class=\"a-section aok-relative s-image-square-aspect\"><img alt=\"Sponsored Ad - PLANTERS Deluxe Salted Mixed Nuts, Party Snacks, Plant-Based Protein 34oz (1 Container)\" class=\"s-image\" data-image-index=\"1\" data-image-latency=\"s-product-image\" data-image-load=\"\" data-image-source-density=\"1\" src=\"https://m.media-amazon.com/images/I/61mc8yirj6L._AC_UL320_.jpg\" srcset=\"https://m.media-amazon.com/images/I/61mc8yirj6L._AC_UL320_.jpg 1x, https://m.media-amazon.com/images/I/61mc8yirj6L._AC_UL480_QL65_.jpg 1.5x, https://m.media-amazon.com/images/I/61mc8yirj6L._AC_UL640_QL65_.jpg 2x, https://m.media-amazon.com/images/I/61mc8yirj6L._AC_UL800_QL65_.jpg 2.5x, https://m.media-amazon.com/images/I/61mc8yirj6L._AC_UL960_QL65_.jpg 3x\"/></div></a></span></div><div class=\"a-section a-spacing-small puis-padding-left-small puis-padding-right-small\"><div class=\"a-section a-spacing-none a-spacing-top-small s-title-instructions-style\" data-cy=\"title-recipe\"><div class=\"a-row a-spacing-micro\"><span class=\"a-declarative\" data-a-popover='{\"name\":\"sp-info-popover-B008YK1U16\",\"position\":\"triggerVertical\",\"closeButton\":\"true\",\"dataStrategy\":\"preload\"}' data-action=\"a-popover\" data-csa-c-func-deps=\"aui-da-a-popover\" data-csa-c-type=\"widget\" data-render-id=\"r2kvyrnjvkjhxj208rat3jxi91n\" data-version-id=\"v2rh3j15wdcp4q29xeaptoa72x6\"><a aria-label=\"View Sponsored information or leave ad feedback\" class=\"puis-label-popover puis-sponsored-label-text\" href=\"javascript:void(0)\" role=\"button\" style=\"text-decoration: none;\"><span class=\"puis-label-popover-default\"><span class=\"a-color-secondary\">Sponsored</span></span><span class=\"puis-label-popover-hover\"><span class=\"a-color-base\">Sponsored</span></span> <span class=\"aok-inline-block puis-sponsored-label-info-icon\"></span></a></span><div class=\"a-popover-preload\" id=\"a-popover-sp-info-popover-B008YK1U16\"><div class=\"puis puis-v2rh3j15wdcp4q29xeaptoa72x6\"><span>You’re seeing this ad based on the product’s relevance to your search query.</span><div class=\"a-row\"><span class=\"a-declarative\" data-action=\"s-safe-ajax-modal-trigger\" data-csa-c-func-deps=\"aui-da-s-safe-ajax-modal-trigger\" data-csa-c-type=\"widget\" data-render-id=\"r2kvyrnjvkjhxj208rat3jxi91n\" data-s-safe-ajax-modal-trigger='{\"header\":\"Leave feedback\",\"dataStrategy\":\"ajax\",\"ajaxUrl\":\"/af/sp-loom/feedback-form?pl=%7B%22adPlacementMetaData%22%3A%7B%22searchTerms%22%3A%22ZGFpcnksIGNoZWVzZSAmIGVnZ3M%3D%22%2C%22pageType%22%3A%22Search%22%2C%22feedbackType%22%3A%22sponsoredProductsLoom%22%2C%22slotName%22%3A%22TOP%22%7D%2C%22adCreativeMetaData%22%3A%7B%22adProgramId%22%3A1024%2C%22adCreativeDetails%22%3A%5B%7B%22asin%22%3A%22B008YK1U16%22%2C%22title%22%3A%22PLANTERS+Deluxe+Salted+Mixed+Nuts%2C+Party+Snacks%2C+Plant-Based+Protein+34oz+%281+Container%29%22%2C%22priceInfo%22%3A%7B%22amount%22%3A16.98%2C%22currencyCode%22%3A%22USD%22%7D%2C%22sku%22%3A%22B008YK1U16%22%2C%22adId%22%3A%22A00408981HJ6KUW9FTSZT%22%2C%22campaignId%22%3A%22A07317121YMKY4U86HDOS%22%2C%22advertiserIdNS%22%3Anull%2C%22selectionSignals%22%3Anull%7D%5D%7D%7D\"}' data-version-id=\"v2rh3j15wdcp4q29xeaptoa72x6\"><a class=\"a-link-normal s-underline-text s-underline-link-text s-link-style\" href=\"#\"><span>Leave ad feedback</span> </a> </span></div></div></div></div><h2 class=\"a-size-mini a-spacing-none a-color-base s-line-clamp-3\"><a class=\"a-link-normal s-underline-text s-underline-link-text s-link-style a-text-normal\" href=\"/sspa/click?ie=UTF8&amp;spc=MTo2NTg0MDg1MjQxMzE0MDIwOjE3MDU4Mzk1NDk6c3BfYXRmOjIwMDA5OTg4Njk2MjU5ODo6MDo6&amp;url=%2FPLANTERS-Deluxe-Plant-Based-Protein-Container%2Fdp%2FB008YK1U16%2Fref%3Dsr_1_1_sspa%3Fcrid%3D3EDC2W7F9N0CM%26keywords%3Ddairy%252C%2Bcheese%2B%2526%2Beggs%26pf_rd_i%3Dlearn-more%26pf_rd_m%3DATVPDKIKX0DER%26pf_rd_p%3D863b8d19-a607-426b-8329-a1a90867a095%26pf_rd_r%3D46N4YJHEKRS0EJAF4SS4%26pf_rd_s%3Dfresh-merchandised-content-12%26pf_rd_t%3D0%26qid%3D1705839549%26sprefix%3Ddairy%2Beggs%2Band%2Bcheese%252Caps%252C181%26sr%3D8-1-spons%26sp_csd%3Dd2lkZ2V0TmFtZT1zcF9hdGY%26psc%3D1\"><span class=\"a-size-base-plus a-color-base a-text-normal\">PLANTERS Deluxe Salted Mixed Nuts, Party Snacks, Plant-Based Protein 34oz (1 Container)</span> </a> </h2><div class=\"a-row a-size-base a-color-secondary\"><div class=\"a-row a-color-base\"><span class=\"a-size-base a-color-base s-background-color-platinum a-padding-mini aok-nowrap aok-align-top aok-inline-block a-spacing-top-micro puis-medium-weight-text\">Salted</span><span class=\"a-letter-space\"></span><span class=\"rush-component\" data-component-type=\"s-client-side-analytics\" data-render-id=\"r2kvyrnjvkjhxj208rat3jxi91n\" data-version-id=\"v2rh3j15wdcp4q29xeaptoa72x6\"><div class=\"s-csa-instrumentation-wrapper alf-search-csa-instrumentation-wrapper\" data-csa-c-asin=\"B008YK1U16\" data-csa-c-content-id=\"alf-size-badge-component\" data-csa-c-layout=\"GRID\" data-csa-c-slot-id=\"alf-alternate-attributes\" data-csa-c-type=\"alf-af-component\" data-csa-op-log-render=\"\" style=\"display: inline-block\"><span class=\"a-size-base a-color-base s-background-color-platinum a-padding-mini aok-nowrap aok-align-top aok-inline-block a-spacing-top-micro puis-medium-weight-text\">34 Ounce (Pack of 1)</span></div></span></div></div></div><div class=\"a-section a-spacing-none a-spacing-top-micro\"><div class=\"a-row a-size-small\"><span aria-label=\"4.6 out of 5 stars\"><span class=\"a-declarative\" data-a-popover='{\"position\":\"triggerBottom\",\"popoverLabel\":\"\",\"url\":\"/review/widgets/average-customer-review/popover/ref=acr_search__popover?ie=UTF8&amp;asin=B008YK1U16&amp;ref_=acr_search__popover&amp;contextId=search\",\"closeButton\":false,\"closeButtonLabel\":\"\"}' data-action=\"a-popover\" data-csa-c-func-deps=\"aui-da-a-popover\" data-csa-c-type=\"widget\" data-render-id=\"r2kvyrnjvkjhxj208rat3jxi91n\" data-version-id=\"v2rh3j15wdcp4q29xeaptoa72x6\"><a class=\"a-popover-trigger a-declarative\" href=\"javascript:void(0)\" role=\"button\"><i class=\"a-icon a-icon-star-small a-star-small-4-5 aok-align-bottom\"><span class=\"a-icon-alt\">4.6 out of 5 stars</span></i><i class=\"a-icon a-icon-popover\"></i></a></span> </span><span class=\"rush-component\" data-component-type=\"s-client-side-analytics\" data-render-id=\"r2kvyrnjvkjhxj208rat3jxi91n\" data-version-id=\"v2rh3j15wdcp4q29xeaptoa72x6\"><div class=\"s-csa-instrumentation-wrapper alf-search-csa-instrumentation-wrapper\" data-csa-c-asin=\"B008YK1U16\" data-csa-c-content-id=\"alf-customer-ratings-count-component\" data-csa-c-layout=\"GRID\" data-csa-c-slot-id=\"alf-reviews\" data-csa-c-type=\"alf-af-component\" data-csa-op-log-render=\"\" style=\"display: inline-block\"><span aria-label=\"55,013\"><a class=\"a-link-normal s-underline-text s-underline-link-text s-link-style\" href=\"/sspa/click?ie=UTF8&amp;spc=MTo2NTg0MDg1MjQxMzE0MDIwOjE3MDU4Mzk1NDk6c3BfYXRmOjIwMDA5OTg4Njk2MjU5ODo6MDo6&amp;url=%2FPLANTERS-Deluxe-Plant-Based-Protein-Container%2Fdp%2FB008YK1U16%2Fref%3Dsr_1_1_sspa%3Fcrid%3D3EDC2W7F9N0CM%26keywords%3Ddairy%252C%2Bcheese%2B%2526%2Beggs%26pf_rd_i%3Dlearn-more%26pf_rd_m%3DATVPDKIKX0DER%26pf_rd_p%3D863b8d19-a607-426b-8329-a1a90867a095%26pf_rd_r%3D46N4YJHEKRS0EJAF4SS4%26pf_rd_s%3Dfresh-merchandised-content-12%26pf_rd_t%3D0%26qid%3D1705839549%26sprefix%3Ddairy%2Beggs%2Band%2Bcheese%252Caps%252C181%26sr%3D8-1-spons%26sp_csd%3Dd2lkZ2V0TmFtZT1zcF9hdGY%26psc%3D1#customerReviews\"><span class=\"a-size-base s-underline-text\">55,013</span> </a> </span></div></span></div><div class=\"a-row a-size-base\"><span class=\"a-size-base a-color-secondary\">10K+ bought in past month</span></div></div><div class=\"a-section a-spacing-none a-spacing-top-small s-price-instructions-style\" data-cy=\"price-recipe\"><div class=\"a-row a-size-base a-color-base\"><div class=\"a-row\"><a class=\"a-link-normal s-no-hover s-underline-text s-underline-link-text s-link-style a-text-normal\" href=\"/sspa/click?ie=UTF8&amp;spc=MTo2NTg0MDg1MjQxMzE0MDIwOjE3MDU4Mzk1NDk6c3BfYXRmOjIwMDA5OTg4Njk2MjU5ODo6MDo6&amp;url=%2FPLANTERS-Deluxe-Plant-Based-Protein-Container%2Fdp%2FB008YK1U16%2Fref%3Dsr_1_1_sspa%3Fcrid%3D3EDC2W7F9N0CM%26keywords%3Ddairy%252C%2Bcheese%2B%2526%2Beggs%26pf_rd_i%3Dlearn-more%26pf_rd_m%3DATVPDKIKX0DER%26pf_rd_p%3D863b8d19-a607-426b-8329-a1a90867a095%26pf_rd_r%3D46N4YJHEKRS0EJAF4SS4%26pf_rd_s%3Dfresh-merchandised-content-12%26pf_rd_t%3D0%26qid%3D1705839549%26sprefix%3Ddairy%2Beggs%2Band%2Bcheese%252Caps%252C181%26sr%3D8-1-spons%26sp_csd%3Dd2lkZ2V0TmFtZT1zcF9hdGY%26psc%3D1\"><span class=\"a-price\" data-a-color=\"base\" data-a-size=\"xl\"><span class=\"a-offscreen\">$16.98</span><span aria-hidden=\"true\"><span class=\"a-price-symbol\">$</span><span class=\"a-price-whole\">16<span class=\"a-price-decimal\">.</span></span><span class=\"a-price-fraction\">98</span></span></span> <span class=\"a-size-base a-color-secondary\">(<span class=\"a-price a-text-price\" data-a-color=\"secondary\" data-a-size=\"b\"><span class=\"a-offscreen\">$0.50</span><span aria-hidden=\"true\">$0.50</span></span>/Ounce)</span></a></div><div class=\"a-row\"></div></div><div class=\"a-row a-size-base a-color-secondary\"><span>$16.13 with Subscribe &amp; Save discount</span></div><div class=\"a-row a-size-base a-color-secondary\"><span class=\"a-text-bold\">SNAP EBT eligible</span></div></div><div class=\"a-section a-spacing-none a-spacing-top-micro\" data-cy=\"delivery-recipe\"><div class=\"a-row a-size-base a-color-secondary s-align-children-center\"><div class=\"a-row s-align-children-center\"><span class=\"aok-inline-block s-image-logo-view\"><span class=\"aok-relative s-icon-text-medium s-prime\"><i aria-label=\"Amazon Prime\" class=\"a-icon a-icon-prime a-icon-medium\" role=\"img\"></i></span><span></span></span> </div><div class=\"a-row\"><span aria-label=\"FREE delivery Fri, Jan 26 on $35 of items shipped by Amazon\"><span class=\"a-color-base\">FREE delivery </span><span class=\"a-color-base a-text-bold\">Fri, Jan 26 </span><span class=\"a-color-base\">on $35 of items shipped by Amazon</span></span></div><div class=\"a-row\"><span aria-label=\"Or fastest delivery Tomorrow, Jan 22 \"><span class=\"a-color-base\">Or fastest delivery </span><span class=\"a-color-base a-text-bold\">Tomorrow, Jan 22 </span></span></div></div></div></div></div>"
      ]
     },
     "execution_count": 42,
     "metadata": {},
     "output_type": "execute_result"
    }
   ],
   "source": [
    "soup.find_all('div', {'class':'a-section a-spacing-base'})[0]"
   ]
  },
  {
   "cell_type": "code",
   "execution_count": null,
   "id": "2dc9d690-4acc-4f39-8883-6ac39d37170e",
   "metadata": {},
   "outputs": [],
   "source": []
  }
 ],
 "metadata": {
  "kernelspec": {
   "display_name": "Python 3 (ipykernel)",
   "language": "python",
   "name": "python3"
  },
  "language_info": {
   "codemirror_mode": {
    "name": "ipython",
    "version": 3
   },
   "file_extension": ".py",
   "mimetype": "text/x-python",
   "name": "python",
   "nbconvert_exporter": "python",
   "pygments_lexer": "ipython3",
   "version": "3.11.5"
  }
 },
 "nbformat": 4,
 "nbformat_minor": 5
}
