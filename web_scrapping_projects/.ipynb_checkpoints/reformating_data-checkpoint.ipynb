{
 "cells": [
  {
   "cell_type": "markdown",
   "id": "dd75ceee-19a1-407d-b6d3-6bf714152605",
   "metadata": {
    "tags": []
   },
   "source": [
    "# Reformating data for database insert operation"
   ]
  },
  {
   "cell_type": "code",
   "execution_count": 1,
   "id": "9e577341",
   "metadata": {},
   "outputs": [],
   "source": [
    "# method 1 : read a text file\n",
    "master_list = []\n",
    "with open('orderdetails.txt') as file:\n",
    "    for line in file:\n",
    "        row = '(' + line.strip() +'),'\n",
    "        master_list.append(row)\n"
   ]
  },
  {
   "cell_type": "code",
   "execution_count": 2,
   "id": "1245f6d2",
   "metadata": {},
   "outputs": [],
   "source": [
    "# method 1 : write to a text file\n",
    "for line in master_list:\n",
    "    with open('orderdetails1.txt', 'a', newline='\\n') as file:\n",
    "        file.write(line)\n",
    "    "
   ]
  },
  {
   "cell_type": "code",
   "execution_count": 3,
   "id": "9171a632",
   "metadata": {},
   "outputs": [],
   "source": [
    "# method 2 : read a text file\n",
    "newList = []\n",
    "with open('orderdetails.txt', 'r+') as file:\n",
    "    newList = ['('+ item.strip() + '),' for item in file.readlines()]"
   ]
  },
  {
   "cell_type": "code",
   "execution_count": 4,
   "id": "a446969e",
   "metadata": {},
   "outputs": [],
   "source": [
    "# method 2 : write to a text file\n",
    "with open('orderdetails2.txt', 'a', newline=\"\\n\") as file:\n",
    "    file.writelines(newList)"
   ]
  },
  {
   "cell_type": "code",
   "execution_count": 33,
   "id": "6188f216",
   "metadata": {},
   "outputs": [],
   "source": [
    "# method 1 : read a text file\n",
    "master_list = []\n",
    "with open('orders.txt') as file:\n",
    "    for line in file:\n",
    "        row = line.strip().split(',')\n",
    "        row[-2] = \"'\"+row[-2]+\"'\"\n",
    "        row = '('+ \", \".join(row)+'),'\n",
    "        master_list.append(row)\n",
    "        \n",
    "#master_list\n",
    "with open('orders1.txt', 'a', newline=\"\\n\") as file:\n",
    "    file.writelines(master_list)"
   ]
  },
  {
   "cell_type": "code",
   "execution_count": null,
   "id": "e09209e7",
   "metadata": {},
   "outputs": [],
   "source": []
  },
  {
   "cell_type": "code",
   "execution_count": null,
   "id": "f51e68be",
   "metadata": {},
   "outputs": [],
   "source": []
  }
 ],
 "metadata": {
  "kernelspec": {
   "display_name": "Python 3 (ipykernel)",
   "language": "python",
   "name": "python3"
  },
  "language_info": {
   "codemirror_mode": {
    "name": "ipython",
    "version": 3
   },
   "file_extension": ".py",
   "mimetype": "text/x-python",
   "name": "python",
   "nbconvert_exporter": "python",
   "pygments_lexer": "ipython3",
   "version": "3.11.5"
  }
 },
 "nbformat": 4,
 "nbformat_minor": 5
}
