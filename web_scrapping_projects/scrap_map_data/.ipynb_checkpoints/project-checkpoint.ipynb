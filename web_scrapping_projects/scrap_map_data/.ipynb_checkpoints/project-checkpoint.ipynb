{
 "cells": [
  {
   "cell_type": "code",
   "execution_count": null,
   "id": "23e37f9a-ef3d-462c-89c6-7c3121467fa8",
   "metadata": {},
   "outputs": [],
   "source": [
    "import requests\n",
    "\n",
    "headers = {\n",
    "    'authority': 'www.zeemaps.com',\n",
    "    'accept': '*/*',\n",
    "    'accept-language': 'en-US,en;q=0.9',\n",
    "    # 'cookie': 'AWSALBCORS=i7cfEOgwYWYd2A8iV2EaHJOW/LR/hL8DTQuGWH7F+FkjyjurAmL/tJFnh2zdEp9pvGn1BEaomK70L7vnRbUMd+aCyPnDmAFYWxOoMQPg9VA3CdUsBbwgfpzCwabO',\n",
    "    'referer': 'https://www.zeemaps.com/pub?group=3839111&legend=1&search=1&simpleadd=1&track=UA-41067143-4&x=-100.193057&y=43.712520&z=13',\n",
    "    'sec-ch-ua': '\"Not_A Brand\";v=\"8\", \"Chromium\";v=\"120\", \"Microsoft Edge\";v=\"120\"',\n",
    "    'sec-ch-ua-mobile': '?0',\n",
    "    'sec-ch-ua-platform': '\"Windows\"',\n",
    "    'sec-fetch-dest': 'empty',\n",
    "    'sec-fetch-mode': 'cors',\n",
    "    'sec-fetch-site': 'same-origin',\n",
    "    'user-agent': 'Mozilla/5.0 (Windows NT 10.0; Win64; x64) AppleWebKit/537.36 (KHTML, like Gecko) Chrome/120.0.0.0 Safari/537.36 Edg/120.0.0.0',\n",
    "    'x-requested-with': 'XMLHttpRequest',\n",
    "}\n",
    "\n",
    "params = {\n",
    "    'g': '3839111',\n",
    "}\n",
    "\n",
    "response = requests.get('https://www.zeemaps.com/legends/getall', params=params, cookies=cookies, headers=headers)"
   ]
  }
 ],
 "metadata": {
  "kernelspec": {
   "display_name": "Python 3 (ipykernel)",
   "language": "python",
   "name": "python3"
  },
  "language_info": {
   "codemirror_mode": {
    "name": "ipython",
    "version": 3
   },
   "file_extension": ".py",
   "mimetype": "text/x-python",
   "name": "python",
   "nbconvert_exporter": "python",
   "pygments_lexer": "ipython3",
   "version": "3.11.5"
  }
 },
 "nbformat": 4,
 "nbformat_minor": 5
}
