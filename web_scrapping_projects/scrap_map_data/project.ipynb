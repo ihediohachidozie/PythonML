{
 "cells": [
  {
   "cell_type": "code",
   "execution_count": 1,
   "id": "23e37f9a-ef3d-462c-89c6-7c3121467fa8",
   "metadata": {
    "tags": []
   },
   "outputs": [],
   "source": [
    "import requests\n",
    "\n",
    "headers = {\n",
    "    'authority': 'www.zeemaps.com',\n",
    "    'accept': '*/*',\n",
    "    'accept-language': 'en-US,en;q=0.9',\n",
    "    # 'cookie': 'AWSALBCORS=i7cfEOgwYWYd2A8iV2EaHJOW/LR/hL8DTQuGWH7F+FkjyjurAmL/tJFnh2zdEp9pvGn1BEaomK70L7vnRbUMd+aCyPnDmAFYWxOoMQPg9VA3CdUsBbwgfpzCwabO',\n",
    "    'referer': 'https://www.zeemaps.com/pub?group=3839111&legend=1&search=1&simpleadd=1&track=UA-41067143-4&x=-100.193057&y=43.712520&z=13',\n",
    "    'sec-ch-ua': '\"Not_A Brand\";v=\"8\", \"Chromium\";v=\"120\", \"Microsoft Edge\";v=\"120\"',\n",
    "    'sec-ch-ua-mobile': '?0',\n",
    "    'sec-ch-ua-platform': '\"Windows\"',\n",
    "    'sec-fetch-dest': 'empty',\n",
    "    'sec-fetch-mode': 'cors',\n",
    "    'sec-fetch-site': 'same-origin',\n",
    "    'user-agent': 'Mozilla/5.0 (Windows NT 10.0; Win64; x64) AppleWebKit/537.36 (KHTML, like Gecko) Chrome/120.0.0.0 Safari/537.36 Edg/120.0.0.0',\n",
    "    'x-requested-with': 'XMLHttpRequest',\n",
    "}\n",
    "\n",
    "params = {\n",
    "    'g': '3839111',\n",
    "}\n",
    "\n",
    "response = requests.get('https://www.zeemaps.com/legends/getall', params=params, headers=headers)"
   ]
  },
  {
   "cell_type": "code",
   "execution_count": 3,
   "id": "d79d4c05-5d92-4ca0-901d-f007a29c04fd",
   "metadata": {
    "tags": []
   },
   "outputs": [
    {
     "data": {
      "text/plain": [
       "'[{\"r\":false,\"c\":1,\"v\":\"Walls Mfr\",\"id\":1,\"o\":3},{\"r\":false,\"c\":2,\"v\":\"No Walls - Mfr\",\"id\":2,\"o\":1},{\"r\":false,\"c\":3,\"v\":\"Walls + Install\",\"id\":3,\"o\":4},{\"r\":false,\"c\":4,\"v\":\"No Walls - Mfr + Install\",\"id\":4,\"o\":2},{\"r\":false,\"c\":5,\"v\":\"Certified Framer\",\"id\":5,\"o\":9},{\"r\":false,\"c\":6,\"v\":\"Kitchen + Bath Pods\",\"id\":6,\"o\":8},{\"r\":false,\"c\":7,\"v\":\"Modular\",\"id\":7,\"o\":7},{\"r\":false,\"c\":8,\"v\":\"Insulated Walls Mfr\",\"id\":8,\"o\":5},{\"r\":false,\"c\":9,\"v\":\"Insulated Walls + Install\",\"id\":9,\"o\":6},{\"r\":false,\"c\":10,\"v\":\"\",\"o\":10},{\"r\":false,\"c\":11,\"v\":\"\",\"o\":11},{\"r\":false,\"c\":12,\"v\":\"\",\"o\":12},{\"r\":false,\"c\":13,\"v\":\"\",\"o\":13},{\"r\":false,\"c\":14,\"v\":\"\",\"o\":14},{\"r\":false,\"c\":15,\"v\":\"\",\"o\":15},{\"r\":false,\"c\":16,\"v\":\"\",\"o\":16},{\"r\":false,\"c\":17,\"v\":\"\",\"o\":17},{\"r\":false,\"c\":18,\"v\":\"\",\"o\":18},{\"r\":false,\"c\":19,\"v\":\"\",\"o\":19},{\"r\":false,\"c\":20,\"v\":\"\",\"o\":20},{\"r\":false,\"c\":21,\"v\":\"\",\"o\":21},{\"r\":false,\"c\":22,\"v\":\"\",\"o\":22},{\"r\":false,\"c\":23,\"v\":\"\",\"o\":23},{\"r\":false,\"c\":24,\"v\":\"\",\"o\":24},{\"r\":false,\"c\":25,\"v\":\"\",\"o\":25},{\"r\":false,\"c\":26,\"v\":\"\",\"o\":26},{\"r\":false,\"c\":27,\"v\":\"\",\"o\":27},{\"r\":false,\"c\":28,\"v\":\"\",\"o\":28},{\"r\":false,\"c\":29,\"v\":\"\",\"o\":29},{\"r\":false,\"c\":30,\"v\":\"\",\"o\":30},{\"r\":false,\"c\":31,\"v\":\"\",\"o\":31}]\\n'"
      ]
     },
     "execution_count": 3,
     "metadata": {},
     "output_type": "execute_result"
    }
   ],
   "source": [
    "response.text"
   ]
  },
  {
   "cell_type": "code",
   "execution_count": null,
   "id": "05d50545-c1c6-40fe-8408-8e0fc820e629",
   "metadata": {},
   "outputs": [],
   "source": []
  }
 ],
 "metadata": {
  "kernelspec": {
   "display_name": "Python 3 (ipykernel)",
   "language": "python",
   "name": "python3"
  },
  "language_info": {
   "codemirror_mode": {
    "name": "ipython",
    "version": 3
   },
   "file_extension": ".py",
   "mimetype": "text/x-python",
   "name": "python",
   "nbconvert_exporter": "python",
   "pygments_lexer": "ipython3",
   "version": "3.11.5"
  }
 },
 "nbformat": 4,
 "nbformat_minor": 5
}
