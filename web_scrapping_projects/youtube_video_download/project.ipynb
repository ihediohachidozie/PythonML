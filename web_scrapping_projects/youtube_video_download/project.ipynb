{
 "cells": [
  {
   "cell_type": "code",
   "execution_count": 2,
   "id": "3a6e759d-b371-408b-8c66-95c572f467aa",
   "metadata": {
    "tags": []
   },
   "outputs": [],
   "source": [
    "# import Python libraries\n",
    "from selenium import webdriver\n",
    "from selenium.webdriver.common.by import By\n",
    "from selenium.webdriver import Keys\n",
    "\n",
    "import time, pandas as pd\n",
    "from bs4 import BeautifulSoup\n",
    "\n",
    "from datetime import datetime, date \n",
    "from datetime import timedelta "
   ]
  },
  {
   "cell_type": "code",
   "execution_count": 3,
   "id": "95845678",
   "metadata": {},
   "outputs": [],
   "source": [
    "# retrieve youtube channels\n",
    "with open('inputs.txt') as file:\n",
    "    url = file.read()"
   ]
  },
  {
   "cell_type": "code",
   "execution_count": 4,
   "id": "670b4814-e42d-4a12-aefd-231e78b01f9d",
   "metadata": {
    "scrolled": true,
    "tags": []
   },
   "outputs": [],
   "source": [
    "# open chrome browser and load the page\n",
    "driver = webdriver.Chrome()\n",
    "driver.get(url)"
   ]
  },
  {
   "cell_type": "code",
   "execution_count": 5,
   "id": "61af25d5",
   "metadata": {
    "tags": []
   },
   "outputs": [],
   "source": [
    "# find the html element\n",
    "html = driver.find_element(By.TAG_NAME, \"html\")"
   ]
  },
  {
   "cell_type": "code",
   "execution_count": 6,
   "id": "a8f2f1d0",
   "metadata": {},
   "outputs": [],
   "source": [
    "# Find the total number of videos\n",
    "video_count = driver.find_element(By.XPATH, '//*[@id=\"videos-count\"]').text.split()[0]\n",
    "\n",
    "# Calculate the loop count\n",
    "video_loop_length = round(int(video_count)/(4*7)) + 1"
   ]
  },
  {
   "cell_type": "code",
   "execution_count": 7,
   "id": "01c33e50",
   "metadata": {
    "tags": []
   },
   "outputs": [],
   "source": [
    "# Load all the videos \n",
    "for _ in range(video_loop_length):\n",
    "    html.send_keys(Keys.END)\n",
    "    time.sleep(3)"
   ]
  },
  {
   "cell_type": "code",
   "execution_count": 8,
   "id": "4173968d",
   "metadata": {
    "tags": []
   },
   "outputs": [],
   "source": [
    "# Get the page source\n",
    "page = driver.page_source\n",
    "\n",
    "# Retrieve the html elements\n",
    "soup = BeautifulSoup(page, 'html')\n",
    "\n",
    "# get the html element containing the videos\n",
    "videos = soup.find_all('div', {'id': 'dismissible'})"
   ]
  },
  {
   "cell_type": "code",
   "execution_count": 10,
   "id": "48c2a719",
   "metadata": {
    "tags": []
   },
   "outputs": [
    {
     "data": {
      "text/plain": [
       "229"
      ]
     },
     "execution_count": 10,
     "metadata": {},
     "output_type": "execute_result"
    }
   ],
   "source": [
    "# creating a list of video info records\n",
    "master_list = []\n",
    "for item in get_video(videos):\n",
    "  master_list.append(item)"
   ]
  },
  {
   "cell_type": "code",
   "execution_count": 9,
   "id": "a3ec8dee",
   "metadata": {
    "tags": []
   },
   "outputs": [],
   "source": [
    "# function to retrieve the data \n",
    "def get_video(videos):\n",
    "    for video in videos:\n",
    "        data_dict = {}\n",
    "        data_dict['title'] = video.find('a', {'id': 'video-title-link'}).text\n",
    "        data_dict['video_url'] = 'https://www.youtube.com' + video.find('a', {'id': 'video-title-link'})['href']\n",
    "        meta = video.find('div', {'id': 'metadata-line'}).find_all('span')\n",
    "        data_dict['views'] = meta[0].text\n",
    "        data_dict['video_age'] = meta[1].text\n",
    "        \n",
    "        yield data_dict"
   ]
  },
  {
   "cell_type": "code",
   "execution_count": 28,
   "id": "6b38ca42",
   "metadata": {
    "tags": []
   },
   "outputs": [],
   "source": [
    "# declare and assign a pandas DataFrame variable\n",
    "df = pd.DataFrame(master_list)"
   ]
  },
  {
   "cell_type": "code",
   "execution_count": 14,
   "id": "55e9f374",
   "metadata": {
    "tags": []
   },
   "outputs": [],
   "source": [
    "# create a function to clean up the data\n",
    "def convert_views(df):\n",
    "    views = ''\n",
    "    if 'K' in df['views']:\n",
    "        views = float(df['views'].split('K')[0]) * 1000\n",
    "    elif 'M' in df['views']:\n",
    "        views = float(df['views'].split('M')[0]) * 1000000\n",
    "    return views"
   ]
  },
  {
   "cell_type": "code",
   "execution_count": 29,
   "id": "b864b0f7",
   "metadata": {
    "tags": []
   },
   "outputs": [],
   "source": [
    "# apply the function to dataframe\n",
    "# first define a column in dataframe\n",
    "df['cleaned_views'] = df.apply(convert_views, axis=1)\n",
    "df['cleaned_views'] = df['cleaned_views'].astype(int)"
   ]
  },
  {
   "cell_type": "code",
   "execution_count": 30,
   "id": "c88ed6bc",
   "metadata": {
    "tags": []
   },
   "outputs": [],
   "source": [
    "# get date published\n",
    "def get_date_published(df):\n",
    "    date_pub = ''\n",
    "    num = int(df['video_age'].split()[0])\n",
    "    period = df['video_age'].split()[1]\n",
    "    \n",
    "    if period == 'days':\n",
    "        date_pub = pd.to_datetime(date.today()) - pd.DateOffset(days=num)\n",
    "    elif period in ['weeks', 'week']:\n",
    "        date_pub = pd.to_datetime(date.today()) - pd.DateOffset(weeks=num)\n",
    "    elif period in ['month', 'months']:\n",
    "        date_pub = pd.to_datetime(date.today()) - pd.DateOffset(months=num)\n",
    "    elif period in ['years', 'year']:\n",
    "        date_pub = pd.to_datetime(date.today()) - pd.DateOffset(years=num)\n",
    "    return date_pub.strftime(\"%d %b, %Y\")"
   ]
  },
  {
   "cell_type": "code",
   "execution_count": 31,
   "id": "cd82171b",
   "metadata": {
    "tags": []
   },
   "outputs": [],
   "source": [
    "# apply the get_date_published function\n",
    "# first define a column in dataframe\n",
    "df['date_published'] = df.apply(get_date_published, axis=1)"
   ]
  },
  {
   "cell_type": "code",
   "execution_count": 37,
   "id": "b9062c10",
   "metadata": {
    "tags": []
   },
   "outputs": [],
   "source": [
    "# Select the and re-arrange the required columns\n",
    "new_df = df[['title', 'video_url', 'views', 'date_published']]\n",
    "\n",
    "# Save report as excel file\n",
    "new_df.to_excel('sample_output.xlsx', index=False)\n",
    "\n",
    "# Save report as csv file\n",
    "new_df.to_excel('sample_output.csv', index=False)"
   ]
  }
 ],
 "metadata": {
  "kernelspec": {
   "display_name": "Python 3 (ipykernel)",
   "language": "python",
   "name": "python3"
  },
  "language_info": {
   "codemirror_mode": {
    "name": "ipython",
    "version": 3
   },
   "file_extension": ".py",
   "mimetype": "text/x-python",
   "name": "python",
   "nbconvert_exporter": "python",
   "pygments_lexer": "ipython3",
   "version": "3.11.5"
  }
 },
 "nbformat": 4,
 "nbformat_minor": 5
}
