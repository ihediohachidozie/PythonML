{
 "cells": [
  {
   "cell_type": "code",
   "execution_count": 1,
   "id": "3a6e759d-b371-408b-8c66-95c572f467aa",
   "metadata": {
    "tags": []
   },
   "outputs": [],
   "source": [
    "from selenium import webdriver\n",
    "from selenium.webdriver.common.by import By\n",
    "from selenium.webdriver import Keys\n",
    "\n",
    "import time, pandas as pd\n",
    "from bs4 import BeautifulSoup\n",
    "\n",
    "from datetime import datetime, date \n",
    "from datetime import timedelta "
   ]
  },
  {
   "cell_type": "code",
   "execution_count": 2,
   "id": "670b4814-e42d-4a12-aefd-231e78b01f9d",
   "metadata": {
    "scrolled": true,
    "tags": []
   },
   "outputs": [],
   "source": [
    "driver = webdriver.Chrome()\n",
    "driver.get('https://www.youtube.com/user/IAmTimCorey/videos')"
   ]
  },
  {
   "cell_type": "code",
   "execution_count": 3,
   "id": "61af25d5",
   "metadata": {
    "tags": []
   },
   "outputs": [],
   "source": [
    "html = driver.find_element(By.TAG_NAME, \"html\")"
   ]
  },
  {
   "cell_type": "code",
   "execution_count": 4,
   "id": "e1c5f8ef",
   "metadata": {},
   "outputs": [],
   "source": [
    "video_count = driver.find_element(By.XPATH, '//*[@id=\"videos-count\"]').text.split()[0]"
   ]
  },
  {
   "cell_type": "code",
   "execution_count": 5,
   "id": "a319a1f4",
   "metadata": {},
   "outputs": [],
   "source": [
    "video_loop_length = round(int(video_count)/(4*7))"
   ]
  },
  {
   "cell_type": "code",
   "execution_count": 6,
   "id": "01c33e50",
   "metadata": {
    "tags": []
   },
   "outputs": [],
   "source": [
    "for _ in range(video_loop_length):\n",
    "    html.send_keys(Keys.END)\n",
    "    time.sleep(3)"
   ]
  },
  {
   "cell_type": "code",
   "execution_count": 7,
   "id": "4173968d",
   "metadata": {
    "tags": []
   },
   "outputs": [],
   "source": [
    "page = driver.page_source\n",
    "soup = BeautifulSoup(page, 'html')"
   ]
  },
  {
   "cell_type": "code",
   "execution_count": 8,
   "id": "48c2a719",
   "metadata": {
    "tags": []
   },
   "outputs": [],
   "source": [
    "videos = soup.find_all('div', {'id': 'dismissible'})"
   ]
  },
  {
   "cell_type": "code",
   "execution_count": 10,
   "id": "a3ec8dee",
   "metadata": {
    "tags": []
   },
   "outputs": [
    {
     "data": {
      "text/plain": [
       "609"
      ]
     },
     "execution_count": 10,
     "metadata": {},
     "output_type": "execute_result"
    }
   ],
   "source": [
    "master_list = []\n",
    "for video in videos:\n",
    "    data_dict = {}\n",
    "    data_dict['title'] = video.find('a', {'id': 'video-title-link'}).text\n",
    "    data_dict['video_url'] = 'https://www.youtube.com' + video.find('a', {'id': 'video-title-link'})['href']\n",
    "    meta = video.find('div', {'id': 'metadata-line'}).find_all('span')\n",
    "    data_dict['views'] = meta[0].text\n",
    "    data_dict['video_age'] = meta[1].text\n",
    "    \n",
    "    master_list.append(data_dict)\n",
    "len(master_list)"
   ]
  },
  {
   "cell_type": "code",
   "execution_count": 11,
   "id": "6b38ca42",
   "metadata": {
    "tags": []
   },
   "outputs": [],
   "source": [
    "df = pd.DataFrame(master_list)"
   ]
  },
  {
   "cell_type": "code",
   "execution_count": 12,
   "id": "55e9f374",
   "metadata": {
    "tags": []
   },
   "outputs": [],
   "source": [
    "# create a function to clean up the data\n",
    "def convert_views(df):\n",
    "    views = ''\n",
    "    if 'K' in df['views']:\n",
    "        views = float(df['views'].split('K')[0]) * 1000\n",
    "    elif 'M' in df['views']:\n",
    "        views = float(df['views'].split('M')[0]) * 1000000\n",
    "    return views"
   ]
  },
  {
   "cell_type": "code",
   "execution_count": 13,
   "id": "b864b0f7",
   "metadata": {
    "tags": []
   },
   "outputs": [],
   "source": [
    "# apply the function to dataframe\n",
    "# first define a column in dataframe\n",
    "df['CLEAN_VIEMS'] = df.apply(convert_views, axis=1)\n",
    "df['CLEAN_VIEMS'] = df['CLEAN_VIEMS'].astype(int)"
   ]
  },
  {
   "cell_type": "code",
   "execution_count": 14,
   "id": "c88ed6bc",
   "metadata": {
    "tags": []
   },
   "outputs": [],
   "source": [
    "# get date published\n",
    "def get_date_published(df):\n",
    "    date_pub = ''\n",
    "    num = int(df['video_age'].split()[0])\n",
    "    period = df['video_age'].split()[1]\n",
    "    \n",
    "    if period == 'days':\n",
    "        date_pub = pd.to_datetime(date.today()) - pd.DateOffset(days=num)\n",
    "    elif period in ['weeks', 'week']:\n",
    "        date_pub = pd.to_datetime(date.today()) - pd.DateOffset(weeks=num)\n",
    "    elif period in ['month', 'months']:\n",
    "        date_pub = pd.to_datetime(date.today()) - pd.DateOffset(months=num)\n",
    "    elif period in ['years', 'year']:\n",
    "        date_pub = pd.to_datetime(date.today()) - pd.DateOffset(years=num)\n",
    "    return date_pub.strftime(\"%d %b, %Y\")"
   ]
  },
  {
   "cell_type": "code",
   "execution_count": 16,
   "id": "cd82171b",
   "metadata": {
    "tags": []
   },
   "outputs": [],
   "source": [
    "# apply the get_date_published function\n",
    "# first define a column in dataframe\n",
    "#df.pop('date_published')\n",
    "df['date_published'] = df.apply(get_date_published, axis=1)"
   ]
  },
  {
   "cell_type": "code",
   "execution_count": 24,
   "id": "e394bc71",
   "metadata": {},
   "outputs": [
    {
     "data": {
      "text/html": [
       "<div>\n",
       "<style scoped>\n",
       "    .dataframe tbody tr th:only-of-type {\n",
       "        vertical-align: middle;\n",
       "    }\n",
       "\n",
       "    .dataframe tbody tr th {\n",
       "        vertical-align: top;\n",
       "    }\n",
       "\n",
       "    .dataframe thead th {\n",
       "        text-align: right;\n",
       "    }\n",
       "</style>\n",
       "<table border=\"1\" class=\"dataframe\">\n",
       "  <thead>\n",
       "    <tr style=\"text-align: right;\">\n",
       "      <th></th>\n",
       "      <th>title</th>\n",
       "      <th>video_url</th>\n",
       "      <th>views</th>\n",
       "      <th>video_age</th>\n",
       "      <th>CLEAN_VIEMS</th>\n",
       "      <th>date_published</th>\n",
       "    </tr>\n",
       "  </thead>\n",
       "  <tbody>\n",
       "    <tr>\n",
       "      <th>0</th>\n",
       "      <td>What Are The Differences Between Full-Time and...</td>\n",
       "      <td>https://www.youtube.com/watch?v=UPkOH4Vv4BM</td>\n",
       "      <td>1.8K views</td>\n",
       "      <td>2 days ago</td>\n",
       "      <td>1800</td>\n",
       "      <td>18 Jan, 2024</td>\n",
       "    </tr>\n",
       "    <tr>\n",
       "      <th>2</th>\n",
       "      <td>How Do I Transition From Vacation Mode to Work...</td>\n",
       "      <td>https://www.youtube.com/watch?v=O7OhbXnDtXk</td>\n",
       "      <td>1.6K views</td>\n",
       "      <td>9 days ago</td>\n",
       "      <td>1600</td>\n",
       "      <td>11 Jan, 2024</td>\n",
       "    </tr>\n",
       "    <tr>\n",
       "      <th>7</th>\n",
       "      <td>What Do I Do When Production Goes Down?</td>\n",
       "      <td>https://www.youtube.com/watch?v=rnwfXCV-YBg</td>\n",
       "      <td>2.6K views</td>\n",
       "      <td>3 weeks ago</td>\n",
       "      <td>2600</td>\n",
       "      <td>30 Dec, 2023</td>\n",
       "    </tr>\n",
       "    <tr>\n",
       "      <th>57</th>\n",
       "      <td>What Are Some Tips for Interns? Pay, Performan...</td>\n",
       "      <td>https://www.youtube.com/watch?v=EyL868Ea44Q</td>\n",
       "      <td>2.7K views</td>\n",
       "      <td>5 months ago</td>\n",
       "      <td>2700</td>\n",
       "      <td>20 Aug, 2023</td>\n",
       "    </tr>\n",
       "    <tr>\n",
       "      <th>165</th>\n",
       "      <td>What Are Some Tips for Great Presentations?</td>\n",
       "      <td>https://www.youtube.com/watch?v=L0G7tmArBCA</td>\n",
       "      <td>2.8K views</td>\n",
       "      <td>1 year ago</td>\n",
       "      <td>2800</td>\n",
       "      <td>20 Jan, 2023</td>\n",
       "    </tr>\n",
       "  </tbody>\n",
       "</table>\n",
       "</div>"
      ],
      "text/plain": [
       "                                                 title  \\\n",
       "0    What Are The Differences Between Full-Time and...   \n",
       "2    How Do I Transition From Vacation Mode to Work...   \n",
       "7              What Do I Do When Production Goes Down?   \n",
       "57   What Are Some Tips for Interns? Pay, Performan...   \n",
       "165        What Are Some Tips for Great Presentations?   \n",
       "\n",
       "                                       video_url       views     video_age  \\\n",
       "0    https://www.youtube.com/watch?v=UPkOH4Vv4BM  1.8K views    2 days ago   \n",
       "2    https://www.youtube.com/watch?v=O7OhbXnDtXk  1.6K views    9 days ago   \n",
       "7    https://www.youtube.com/watch?v=rnwfXCV-YBg  2.6K views   3 weeks ago   \n",
       "57   https://www.youtube.com/watch?v=EyL868Ea44Q  2.7K views  5 months ago   \n",
       "165  https://www.youtube.com/watch?v=L0G7tmArBCA  2.8K views    1 year ago   \n",
       "\n",
       "     CLEAN_VIEMS date_published  \n",
       "0           1800   18 Jan, 2024  \n",
       "2           1600   11 Jan, 2024  \n",
       "7           2600   30 Dec, 2023  \n",
       "57          2700   20 Aug, 2023  \n",
       "165         2800   20 Jan, 2023  "
      ]
     },
     "execution_count": 24,
     "metadata": {},
     "output_type": "execute_result"
    }
   ],
   "source": [
    "df[df['CLEAN_VIEMS'] < 3000]"
   ]
  },
  {
   "cell_type": "code",
   "execution_count": 272,
   "id": "b9062c10",
   "metadata": {
    "tags": []
   },
   "outputs": [],
   "source": [
    "df.to_csv('sample_output.csv', index=False)"
   ]
  }
 ],
 "metadata": {
  "kernelspec": {
   "display_name": "Python 3 (ipykernel)",
   "language": "python",
   "name": "python3"
  },
  "language_info": {
   "codemirror_mode": {
    "name": "ipython",
    "version": 3
   },
   "file_extension": ".py",
   "mimetype": "text/x-python",
   "name": "python",
   "nbconvert_exporter": "python",
   "pygments_lexer": "ipython3",
   "version": "3.11.5"
  }
 },
 "nbformat": 4,
 "nbformat_minor": 5
}
