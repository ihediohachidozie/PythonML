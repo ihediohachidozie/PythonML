{
 "cells": [
  {
   "cell_type": "code",
   "execution_count": 28,
   "id": "7db1ceed-36b1-4f72-aaa5-bac46df7d0ff",
   "metadata": {
    "tags": []
   },
   "outputs": [],
   "source": [
    "import requests, pandas as pd\n",
    "from bs4 import BeautifulSoup"
   ]
  },
  {
   "cell_type": "code",
   "execution_count": 5,
   "id": "0e032a29-3af3-4ffe-860c-bac6f419bf60",
   "metadata": {
    "tags": []
   },
   "outputs": [
    {
     "data": {
      "text/plain": [
       "200"
      ]
     },
     "execution_count": 5,
     "metadata": {},
     "output_type": "execute_result"
    }
   ],
   "source": [
    "url = \"https://www.worlddata.info/capital-cities.php\"\n",
    "page = requests.get(url)\n",
    "page.status_code"
   ]
  },
  {
   "cell_type": "code",
   "execution_count": 7,
   "id": "7f5f7bb5-638d-4349-832e-f68c89347c8f",
   "metadata": {
    "tags": []
   },
   "outputs": [],
   "source": [
    "soup = BeautifulSoup(page.text, \"html.parser\")"
   ]
  },
  {
   "cell_type": "code",
   "execution_count": 31,
   "id": "ecda4081-d4ec-40f9-b54a-ffe9fad27fcf",
   "metadata": {
    "tags": []
   },
   "outputs": [],
   "source": [
    "# table header\n",
    "data = soup.find_all('table')[0]\n",
    "header = [title.text for title in table.find_all('th')]\n",
    "df = pd.DataFrame(columns=header)"
   ]
  },
  {
   "cell_type": "code",
   "execution_count": 47,
   "id": "b809e1c2-d475-4258-b4e6-e4adf1c538d9",
   "metadata": {
    "tags": []
   },
   "outputs": [],
   "source": [
    "# table rows\n",
    "for table in soup.find_all('table'):\n",
    "    for rows in table.find_all('tr')[1:]:\n",
    "        ind_row = [row_data.text for row_data in rows]\n",
    "        \n",
    "        length = len(df)\n",
    "        df.loc[length] = ind_row\n",
    "    \n",
    "    "
   ]
  },
  {
   "cell_type": "code",
   "execution_count": 51,
   "id": "389098b5-4b68-4018-9116-20aa81c8fb89",
   "metadata": {
    "tags": []
   },
   "outputs": [],
   "source": [
    "df.to_csv(\"country_capital_population.csv\", index=False)"
   ]
  },
  {
   "cell_type": "code",
   "execution_count": null,
   "id": "a9685970-8418-4b16-9cde-964c966a448b",
   "metadata": {},
   "outputs": [],
   "source": []
  }
 ],
 "metadata": {
  "kernelspec": {
   "display_name": "Python 3 (ipykernel)",
   "language": "python",
   "name": "python3"
  },
  "language_info": {
   "codemirror_mode": {
    "name": "ipython",
    "version": 3
   },
   "file_extension": ".py",
   "mimetype": "text/x-python",
   "name": "python",
   "nbconvert_exporter": "python",
   "pygments_lexer": "ipython3",
   "version": "3.11.5"
  }
 },
 "nbformat": 4,
 "nbformat_minor": 5
}
