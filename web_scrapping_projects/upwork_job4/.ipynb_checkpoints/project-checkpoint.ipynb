{
 "cells": [
  {
   "cell_type": "raw",
   "id": "23c9ca81-3429-4dd5-a6cf-ea5b70e798b9",
   "metadata": {},
   "source": [
    "Hi,\n",
    "\n",
    "From this .html file we need the following fields of every store in Excel.\n",
    "\n",
    "1. Shop name\n",
    "2. Official business name\n",
    "3. Address\n",
    "4. Telephone\n",
    "5. Fax\n",
    "6. E-mail\n",
    "7. Website"
   ]
  },
  {
   "cell_type": "code",
   "execution_count": 1,
   "id": "4575c1ca-a6d5-461b-b7d9-f8c77d721679",
   "metadata": {
    "tags": []
   },
   "outputs": [],
   "source": [
    "import requests, pandas as pd\n",
    "from bs4 import BeautifulSoup"
   ]
  },
  {
   "cell_type": "code",
   "execution_count": 2,
   "id": "1bdccfbd-c25d-4329-b34e-6a783e740809",
   "metadata": {
    "tags": []
   },
   "outputs": [],
   "source": [
    "htmlFile = open(\"winkels.html\")"
   ]
  },
  {
   "cell_type": "code",
   "execution_count": 3,
   "id": "8dce3b78-6d4e-4d57-9ffc-cdb87e250bf3",
   "metadata": {
    "tags": []
   },
   "outputs": [],
   "source": [
    "soup = BeautifulSoup(htmlFile, 'html.parser')"
   ]
  },
  {
   "cell_type": "code",
   "execution_count": 4,
   "id": "66325d3f-3bf7-4146-99bc-493fa589a6dc",
   "metadata": {
    "tags": []
   },
   "outputs": [],
   "source": [
    "singleRetailers = soup.find_all('div', {\"class\":\"singleRetailer list-group-item\"})"
   ]
  },
  {
   "cell_type": "code",
   "execution_count": 6,
   "id": "65184c8d-88ed-4e34-bcc9-d16411643e9e",
   "metadata": {
    "tags": []
   },
   "outputs": [],
   "source": [
    "master_list = []\n",
    "for x in range(len(singleRetailers)):\n",
    "    master_list.append(get_singleRetailer(singleRetailers[x]))\n",
    "    if len(master_list) == 20:\n",
    "        pass\n",
    "        #break\n",
    "df = pd.DataFrame(master_list)"
   ]
  },
  {
   "cell_type": "code",
   "execution_count": 7,
   "id": "6f087631-0e2f-45b3-b1aa-c200564d0579",
   "metadata": {
    "tags": []
   },
   "outputs": [],
   "source": [
    "df.to_csv(\"sample1.csv\", index=False)"
   ]
  },
  {
   "cell_type": "code",
   "execution_count": 5,
   "id": "37143eae-518d-44b2-8a6f-31dafde7a4ab",
   "metadata": {
    "tags": []
   },
   "outputs": [],
   "source": [
    "def get_singleRetailer(s):\n",
    "    data = {}\n",
    "    data[\"Shop Name\"] = s.find('h4').text\n",
    "    data[\"Official Business Name\"] = s.find('h6').text\n",
    "    data[\"Address\"] = s.find('p').text.strip().replace(\"  \", \"\").replace(\"\\n\", \" \")\n",
    "    data[\"Telephone\"] = s.find('a', {\"class\":\"text-dark\"}).text.replace(\" \", \"\")\n",
    "    \n",
    "    fax = s.find_all(\"p\")[1].get_text().strip().replace(\" \", \"\").replace(\"\\n\", \" \").split()\n",
    "    for x in range(len(fax)):\n",
    "        if fax[x].endswith(\"Fax:\"):\n",
    "            data[\"Fax\"] = fax[x + 1]\n",
    "    try:\n",
    "        if email_webite := s.find_all('a', {\"class\": \"text-dark\"}):\n",
    "            data[\"E-mail\"] = email_webite[1].text if len(email_webite) > 0 else None\n",
    "            data[\"Website\"] = email_webite[2].text if len(email_webite) > 2 else None\n",
    "    except:\n",
    "        pass\n",
    "    \n",
    "    return data"
   ]
  },
  {
   "cell_type": "code",
   "execution_count": null,
   "id": "90c95ac6-a286-47bd-be1f-bfabf5b08170",
   "metadata": {},
   "outputs": [],
   "source": []
  }
 ],
 "metadata": {
  "kernelspec": {
   "display_name": "Python 3 (ipykernel)",
   "language": "python",
   "name": "python3"
  },
  "language_info": {
   "codemirror_mode": {
    "name": "ipython",
    "version": 3
   },
   "file_extension": ".py",
   "mimetype": "text/x-python",
   "name": "python",
   "nbconvert_exporter": "python",
   "pygments_lexer": "ipython3",
   "version": "3.11.5"
  }
 },
 "nbformat": 4,
 "nbformat_minor": 5
}
