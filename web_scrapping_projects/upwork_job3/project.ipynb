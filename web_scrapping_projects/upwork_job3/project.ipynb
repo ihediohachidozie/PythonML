{
 "cells": [
  {
   "cell_type": "raw",
   "id": "7a10a22f-3202-4170-b2a8-86a3bfc747c8",
   "metadata": {},
   "source": [
    "I need to have some data collected from a website. https://www.polaris.com/en-us/dealer-locator/\n",
    "I want to check the  Box \"Polaris OFF Road*.    \n",
    "I am collecting the following Data:\n",
    "Name of Dealer\n",
    "Address\n",
    "Phone #\n",
    "Dealer Website"
   ]
  },
  {
   "cell_type": "code",
   "execution_count": 1,
   "id": "4297eb62-2adb-4fa1-9999-d95dba4bb106",
   "metadata": {
    "tags": []
   },
   "outputs": [],
   "source": [
    "from selenium import webdriver\n",
    "from selenium.webdriver.common.by import By\n",
    "\n",
    "import requests, pandas as pd\n",
    "from bs4 import BeautifulSoup"
   ]
  },
  {
   "cell_type": "code",
   "execution_count": 2,
   "id": "ff98fee4-5716-48df-92da-036327cea76d",
   "metadata": {
    "tags": []
   },
   "outputs": [],
   "source": [
    "driver = webdriver.Chrome()\n",
    "driver.get('https://www.polaris.com/en-us/dealer-locator/#q=48197')"
   ]
  },
  {
   "cell_type": "code",
   "execution_count": 3,
   "id": "873d8787-b8a2-464b-af59-8b96930e0d1b",
   "metadata": {
    "tags": []
   },
   "outputs": [],
   "source": [
    "page = driver.page_source\n",
    "soup = BeautifulSoup(page, 'html')\n",
    "dealers = soup.find_all('div', {'class': 'dealer-locator-details__wrap-card-dealer-data'})"
   ]
  },
  {
   "cell_type": "code",
   "execution_count": 6,
   "id": "05d0f195-11d4-448d-9dd2-4b82aa13c89f",
   "metadata": {
    "tags": []
   },
   "outputs": [],
   "source": [
    "def get_dealer(dealer):\n",
    "    data = {}\n",
    "    data['Name of dealer'] = dealer.find('div', {'class':'dealer-locator-details__business-name-wrap'}).text.strip()\n",
    "    data['Address'] = dealer.find('address', {'class':'dealer-locator-details__address'}).text.strip().replace('\\n        ', ', ')\n",
    "    data['Phone'] = dealer.find('a', {'class': 'dealer-locator-details__phone'}).text.strip()\n",
    "    data['Dealer website'] = dealer.find('a', {'class': 'dealer-locator-details__dealer-website-link'})['href']\n",
    "    \n",
    "    return data"
   ]
  },
  {
   "cell_type": "code",
   "execution_count": 7,
   "id": "84e45b82-ef49-41c1-9552-1d7e895631ff",
   "metadata": {
    "tags": []
   },
   "outputs": [],
   "source": [
    "master_list = []\n",
    "for x in range(len(dealers)):\n",
    "    master_list.append(get_dealer(dealers[x]))"
   ]
  },
  {
   "cell_type": "code",
   "execution_count": 8,
   "id": "11dd6151-ede6-48d1-88b0-67a4f26c1a0b",
   "metadata": {
    "tags": []
   },
   "outputs": [],
   "source": [
    "df = pd.DataFrame(master_list)\n",
    "\n",
    "df.to_csv('sample_data.csv', index=False)"
   ]
  }
 ],
 "metadata": {
  "kernelspec": {
   "display_name": "Python 3 (ipykernel)",
   "language": "python",
   "name": "python3"
  },
  "language_info": {
   "codemirror_mode": {
    "name": "ipython",
    "version": 3
   },
   "file_extension": ".py",
   "mimetype": "text/x-python",
   "name": "python",
   "nbconvert_exporter": "python",
   "pygments_lexer": "ipython3",
   "version": "3.11.5"
  }
 },
 "nbformat": 4,
 "nbformat_minor": 5
}
