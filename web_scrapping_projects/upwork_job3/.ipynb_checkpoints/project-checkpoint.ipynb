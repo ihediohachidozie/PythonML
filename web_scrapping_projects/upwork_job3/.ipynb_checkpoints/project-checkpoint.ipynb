{
 "cells": [
  {
   "cell_type": "raw",
   "id": "7a10a22f-3202-4170-b2a8-86a3bfc747c8",
   "metadata": {},
   "source": [
    "I need to have some data collected from a website. https://www.polaris.com/en-us/dealer-locator/\n",
    "I want to check the  Box \"Polaris OFF Road*.    \n",
    "I am collecting the following Data:\n",
    "Name of Dealer\n",
    "Address\n",
    "Phone #\n",
    "Dealer Website"
   ]
  },
  {
   "cell_type": "code",
   "execution_count": 1,
   "id": "4297eb62-2adb-4fa1-9999-d95dba4bb106",
   "metadata": {
    "tags": []
   },
   "outputs": [],
   "source": [
    "from selenium import webdriver\n",
    "from selenium.webdriver.common.by import By\n",
    "\n",
    "import requests, pandas as pd\n",
    "from bs4 import BeautifulSoup"
   ]
  },
  {
   "cell_type": "code",
   "execution_count": 2,
   "id": "ff98fee4-5716-48df-92da-036327cea76d",
   "metadata": {
    "tags": []
   },
   "outputs": [],
   "source": [
    "driver = webdriver.Chrome()\n",
    "driver.get('https://www.polaris.com/en-us/dealer-locator/#q=48197')"
   ]
  },
  {
   "cell_type": "code",
   "execution_count": 8,
   "id": "ec15f789-6249-4dd3-90c5-63c3184589c5",
   "metadata": {
    "tags": []
   },
   "outputs": [],
   "source": [
    "#html = driver.find_elements(By.CLASS_NAME, \"dealer-locator-details__wrap-card-dealer-data\")"
   ]
  },
  {
   "cell_type": "code",
   "execution_count": 3,
   "id": "873d8787-b8a2-464b-af59-8b96930e0d1b",
   "metadata": {
    "tags": []
   },
   "outputs": [],
   "source": [
    "page = driver.page_source"
   ]
  },
  {
   "cell_type": "code",
   "execution_count": 4,
   "id": "bc7d63b2-fdba-4a3f-b772-f77b6d9741f1",
   "metadata": {
    "tags": []
   },
   "outputs": [],
   "source": [
    "soup = BeautifulSoup(page, 'html')"
   ]
  },
  {
   "cell_type": "code",
   "execution_count": 5,
   "id": "40a4e180-5571-4a74-b968-e3f310ee9897",
   "metadata": {
    "tags": []
   },
   "outputs": [],
   "source": [
    "dealers = soup.find_all('div', {'class': 'dealer-locator-details__wrap-card-dealer-data'})"
   ]
  },
  {
   "cell_type": "code",
   "execution_count": 23,
   "id": "84e45b82-ef49-41c1-9552-1d7e895631ff",
   "metadata": {
    "tags": []
   },
   "outputs": [],
   "source": [
    "master_list = []\n",
    "for x in range(len(dealers)):\n",
    "    master_list.append(get_dealer(dealers[x]))"
   ]
  },
  {
   "cell_type": "code",
   "execution_count": 24,
   "id": "11dd6151-ede6-48d1-88b0-67a4f26c1a0b",
   "metadata": {
    "tags": []
   },
   "outputs": [],
   "source": [
    "df = pd.DataFrame(master_list)"
   ]
  },
  {
   "cell_type": "code",
   "execution_count": 27,
   "id": "a734cc80-53eb-49bb-a0e3-0332341569c6",
   "metadata": {
    "tags": []
   },
   "outputs": [],
   "source": [
    "df.to_csv('sample_data.csv', index=False)"
   ]
  },
  {
   "cell_type": "code",
   "execution_count": 6,
   "id": "854aedf9-94f8-402f-b989-0f7e82cfb0e2",
   "metadata": {
    "tags": []
   },
   "outputs": [
    {
     "data": {
      "text/plain": [
       "'FREE RIDE POWER SPORTS'"
      ]
     },
     "execution_count": 6,
     "metadata": {},
     "output_type": "execute_result"
    }
   ],
   "source": [
    "# Name of dealer\n",
    "dealers[0].find('div', {'class':'dealer-locator-details__business-name-wrap'}).text.strip()"
   ]
  },
  {
   "cell_type": "code",
   "execution_count": 21,
   "id": "13521ae9-213f-4408-ba7c-2536cbf369ef",
   "metadata": {
    "tags": []
   },
   "outputs": [
    {
     "data": {
      "text/plain": [
       "'4405 JACKSON ROAD         ANN ARBOR, MI 48103'"
      ]
     },
     "execution_count": 21,
     "metadata": {},
     "output_type": "execute_result"
    }
   ],
   "source": [
    "# Address\n",
    "dealers[0].find('address', {'class':'dealer-locator-details__address'}).text.strip().replace('\\n', ' ')"
   ]
  },
  {
   "cell_type": "code",
   "execution_count": 8,
   "id": "b79eb028-2af5-42c7-924f-ebd40f8934c9",
   "metadata": {
    "tags": []
   },
   "outputs": [
    {
     "data": {
      "text/plain": [
       "'734-585-3300'"
      ]
     },
     "execution_count": 8,
     "metadata": {},
     "output_type": "execute_result"
    }
   ],
   "source": [
    "# Phone\n",
    "dealers[0].find('a', {'class': 'dealer-locator-details__phone'}).text.strip()"
   ]
  },
  {
   "cell_type": "code",
   "execution_count": 145,
   "id": "55fa8a06-b4e0-49ba-9cc0-8d12cdc1a0b9",
   "metadata": {
    "tags": []
   },
   "outputs": [
    {
     "data": {
      "text/plain": [
       "'https://www.freeridepowersports.com/polaris-orv'"
      ]
     },
     "execution_count": 145,
     "metadata": {},
     "output_type": "execute_result"
    }
   ],
   "source": [
    "# Dealer website\n",
    "dealers[0].find('a', {'class': 'dealer-locator-details__dealer-website-link'})['href']"
   ]
  },
  {
   "cell_type": "code",
   "execution_count": 22,
   "id": "05d0f195-11d4-448d-9dd2-4b82aa13c89f",
   "metadata": {
    "tags": []
   },
   "outputs": [],
   "source": [
    "def get_dealer(dealer):\n",
    "    data = {}\n",
    "    data['Name of dealer'] = dealer.find('div', {'class':'dealer-locator-details__business-name-wrap'}).text.strip()\n",
    "    data['Address'] = dealer.find('address', {'class':'dealer-locator-details__address'}).text.strip().replace('\\n', ' ')\n",
    "    data['Phone'] = dealer.find('a', {'class': 'dealer-locator-details__phone'}).text.strip()\n",
    "    data['Dealer website'] = dealer.find('a', {'class': 'dealer-locator-details__dealer-website-link'})['href']\n",
    "    \n",
    "    return data"
   ]
  },
  {
   "cell_type": "code",
   "execution_count": null,
   "id": "7bf6c7bc-7fa2-4146-857c-c8277c9df743",
   "metadata": {},
   "outputs": [],
   "source": []
  }
 ],
 "metadata": {
  "kernelspec": {
   "display_name": "Python 3 (ipykernel)",
   "language": "python",
   "name": "python3"
  },
  "language_info": {
   "codemirror_mode": {
    "name": "ipython",
    "version": 3
   },
   "file_extension": ".py",
   "mimetype": "text/x-python",
   "name": "python",
   "nbconvert_exporter": "python",
   "pygments_lexer": "ipython3",
   "version": "3.11.5"
  }
 },
 "nbformat": 4,
 "nbformat_minor": 5
}
